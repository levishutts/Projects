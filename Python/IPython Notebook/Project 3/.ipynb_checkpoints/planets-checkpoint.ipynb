{
 "cells": [
  {
   "cell_type": "markdown",
   "metadata": {},
   "source": [
    "# <span style=\"color:teal;\">CIS 211 Project 3:  OOP</span>"
   ]
  },
  {
   "cell_type": "markdown",
   "metadata": {},
   "source": [
    "##### Due 11:00 P.M. January 22, 2016"
   ]
  },
  {
   "cell_type": "markdown",
   "metadata": {},
   "source": [
    "##### Reading:  M&R 10.1 -- 10.4"
   ]
  },
  {
   "cell_type": "markdown",
   "metadata": {},
   "source": [
    "Our goal this week is to gain some experience writing class definitions for some simple objects.  The classes are part of a solar system simulation.  This week we'll defined the objects used in the simulation.  Next week we'll implement the simulation itself, and later in the term we'll add visualization. "
   ]
  },
  {
   "cell_type": "markdown",
   "metadata": {},
   "source": [
    "###  <span style=\"color:teal\">Part 1: Vectors (40 points)</span>"
   ]
  },
  {
   "cell_type": "markdown",
   "metadata": {},
   "source": [
    "Define a class named Vector.  Instances of this class will be Euclidan vectors (https://en.wikipedia.org/wiki/Euclidean_vector).  \n",
    "\n",
    "An instance of this class will have three attributes, representing $x$, $y$, and $z$ coordinates in space.  When a Vector object is created the constructor should be passed three numbers to use as the initial values of the coordinates.\n",
    "\n",
    "Your class should also have:\n",
    "* accessor functions named `x`, `y`, and `z`, which return the current value of the specified coordinate\n",
    "* a `__repr__` function that displays a Vector as a tuple of 3 numbers; use `\"%.3g\"` in the format statement so coordinates are shown with 3 significant digits\n",
    "* methods that implement `==`, `+`, `-`, and `*` operations (see below)\n",
    "* a method named `norm` that computes the length, or magnitude, of the vector, defined by the equation $$ \\lVert \\, v \\, \\rVert = \\sqrt{x^2 + y^2 + z^2} $$\n",
    "* a method named `clear` that sets all coordinates to 0\n",
    "\n",
    "To see if two vectors are equal, simply see if their $x$, $y$, and $z$ components are the same.  This will almost certainly fail (due to roundoff errors) when the coordinates are of the size used in the solar system simulation, but it will help test the other operations, and we'll use small numbers in these tests.\n",
    "\n",
    "To add or subtract two vectors, make a new vector that has the sum or difference of the components of two existing vectors.\n",
    "\n",
    "The method that implemements multiplication should implement scalar multiplication: the second operand should be an integer or a float, and the result is a new vector where all components are multiplied by the scalar.\n",
    "\n",
    "Example:\n",
    "<pre>\n",
    ">>> v1 = Vector(3, 5, 0)\n",
    ">>> v2 = Vector(1, 1, 4)\n",
    "\n",
    ">>> v1.x()\n",
    "3\n",
    "\n",
    ">>> v1.y()\n",
    "5\n",
    "\n",
    ">>> v1.norm()\n",
    "5.830951894845301\n",
    "\n",
    ">>> v1 + v2\n",
    "(4,6,4)\n",
    "\n",
    ">>> v1 - v2\n",
    "(2,4,-4)\n",
    "\n",
    ">>> v2 * 3\n",
    "(3,3,12)\n",
    "\n",
    ">>> v1 + v2 == Vector(4,6,4)\n",
    "True\n",
    "\n",
    ">>> v1.clear()\n",
    ">>> v1\n",
    "(0,0,0)\n",
    "</pre>"
   ]
  },
  {
   "cell_type": "markdown",
   "metadata": {},
   "source": [
    "##### <span style=\"color:red\">Documentation:</span>"
   ]
  },
  {
   "cell_type": "markdown",
   "metadata": {},
   "source": [
    "Use the markdown cell below to describe what you included in your class definition."
   ]
  },
  {
   "cell_type": "markdown",
   "metadata": {
    "deletable": false,
    "nbgrader": {
     "checksum": "147c4c3ac8ae5c596c68d5511de1bd68",
     "grade": true,
     "grade_id": "doc_1",
     "locked": false,
     "points": 10,
     "solution": true
    }
   },
   "source": [
    "This class creates and represents vectors with x, y, and z coordinates.\n",
    "The Vector Class also provides attributes which add, subtract, scale, normalize, and clear vectors.  "
   ]
  },
  {
   "cell_type": "markdown",
   "metadata": {},
   "source": [
    "##### <span style=\"color:red\">Code:</span>"
   ]
  },
  {
   "cell_type": "markdown",
   "metadata": {},
   "source": [
    "Put your class definition in the following code cell."
   ]
  },
  {
   "cell_type": "code",
   "execution_count": null,
   "metadata": {
    "collapsed": false,
    "deletable": false,
    "nbgrader": {
     "checksum": "884f8e931e5687eec60d9535205cb042",
     "grade": false,
     "grade_id": "vector",
     "locked": false,
     "solution": true
    }
   },
   "outputs": [],
   "source": [
    "from math import sqrt\n",
    "\n",
    "class Vector:\n",
    "    \"\"\"\n",
    "    A Vector is a 3-tuple of (x,y,z) coordinates.\n",
    "    \"\"\"\n",
    "    def __init__(self, xcoord, ycoord, zcoord):\n",
    "        self.xcoord = xcoord\n",
    "        self.ycoord = ycoord\n",
    "        self.zcoord = zcoord\n",
    "    \n",
    "    def x(self):\n",
    "        return self.xcoord\n",
    "    \n",
    "    def y(self):\n",
    "        return self.ycoord\n",
    "        \n",
    "    def z(self):\n",
    "        return self.zcoord\n",
    "    \n",
    "    def __repr__(self):\n",
    "        return '({:.3g},{:.3g},{:.3g})'.format(self.xcoord, self.ycoord, self.zcoord)\n",
    "    \n",
    "    def __eq__(self, other):\n",
    "        return (self.xcoord, self.ycoord, self.zcoord) == (other.xcoord, other.ycoord, other.zcoord)\n",
    "        \n",
    "    def __add__(self, other):\n",
    "        return Vector(self.xcoord + other.xcoord, self.ycoord + other.ycoord, self.zcoord + other.zcoord)\n",
    "    \n",
    "    def __sub__(self, other):\n",
    "        return Vector(self.xcoord - other.xcoord, self.ycoord - other.ycoord, self.zcoord - other.zcoord)\n",
    "    \n",
    "    def __mul__(self, scale):\n",
    "        return Vector(self.xcoord * scale, self.ycoord * scale, self.zcoord * scale)\n",
    "    \n",
    "    def norm(self):\n",
    "        return sqrt((self.xcoord ** 2) + (self.ycoord ** 2) + (self.zcoord ** 2))\n",
    "    \n",
    "    def clear(self):\n",
    "        self.xcoord,self.ycoord,self.zcoord = 0,0,0"
   ]
  },
  {
   "cell_type": "markdown",
   "metadata": {},
   "source": [
    "##### <span style=\"color:red\">Tests:</span>"
   ]
  },
  {
   "cell_type": "markdown",
   "metadata": {
    "nbgrader": {
     "grade": false,
     "locked": false,
     "points": 30,
     "solution": false
    }
   },
   "source": [
    "(Optional) If you want to do your own tests use the code cell below to create and test objects.  You can add additional cells here if you want."
   ]
  },
  {
   "cell_type": "markdown",
   "metadata": {},
   "source": [
    "##### <span style=\"color:red\">Autograder Tests:</span>"
   ]
  },
  {
   "cell_type": "markdown",
   "metadata": {},
   "source": [
    "**Important:** &nbsp;  the code cells in this section will be used by `nbgrader` to run automated tests.  Do not delete or alter these cells in any way."
   ]
  },
  {
   "cell_type": "code",
   "execution_count": null,
   "metadata": {
    "collapsed": false,
    "deletable": false,
    "nbgrader": {
     "checksum": "5dff27ead3cae47febead72869c0c43b",
     "grade": true,
     "grade_id": "vec_setup",
     "locked": true,
     "points": 3,
     "solution": false
    }
   },
   "outputs": [],
   "source": [
    "v1 = Vector(1, 1, 1)\n",
    "v2 = Vector(2, 2, 2)\n",
    "v3 = Vector(3, 3, 3)"
   ]
  },
  {
   "cell_type": "code",
   "execution_count": null,
   "metadata": {
    "collapsed": false,
    "deletable": false,
    "nbgrader": {
     "checksum": "0e446a332784fe5030c4e77fbdbe57ff",
     "grade": true,
     "grade_id": "vec_repr",
     "locked": true,
     "points": 3,
     "solution": false
    }
   },
   "outputs": [],
   "source": [
    "assert str(v1) == '(1,1,1)'\n",
    "assert str(v2) == '(2,2,2)'"
   ]
  },
  {
   "cell_type": "code",
   "execution_count": null,
   "metadata": {
    "collapsed": false,
    "deletable": false,
    "nbgrader": {
     "checksum": "f1ef54a8d9c49410220f203f3daf8d66",
     "grade": true,
     "grade_id": "vec_eq",
     "locked": true,
     "points": 4,
     "solution": false
    }
   },
   "outputs": [],
   "source": [
    "assert Vector(1, 2, 3) == Vector(1, 2, 3)\n",
    "assert Vector(1, 2, 3) != Vector(1.001, 2.001, 3.001)"
   ]
  },
  {
   "cell_type": "code",
   "execution_count": null,
   "metadata": {
    "collapsed": false,
    "deletable": false,
    "nbgrader": {
     "checksum": "2037d47ed2c4e384f4297f80d6468827",
     "grade": true,
     "grade_id": "sum_test",
     "locked": true,
     "points": 4,
     "solution": false
    }
   },
   "outputs": [],
   "source": [
    "assert v1 + v2 == v3"
   ]
  },
  {
   "cell_type": "code",
   "execution_count": null,
   "metadata": {
    "collapsed": false,
    "deletable": false,
    "nbgrader": {
     "checksum": "625666aae9125f71486d242337801867",
     "grade": true,
     "grade_id": "diff_test",
     "locked": true,
     "points": 4,
     "solution": false
    }
   },
   "outputs": [],
   "source": [
    "assert v3 - v2 == v1"
   ]
  },
  {
   "cell_type": "code",
   "execution_count": null,
   "metadata": {
    "collapsed": false,
    "deletable": false,
    "nbgrader": {
     "checksum": "6e28b8ca2e48be32f1d4f1132e115112",
     "grade": true,
     "grade_id": "scale_test",
     "locked": true,
     "points": 4,
     "solution": false
    }
   },
   "outputs": [],
   "source": [
    "assert v3 == v1 * 3"
   ]
  },
  {
   "cell_type": "code",
   "execution_count": null,
   "metadata": {
    "collapsed": false,
    "deletable": false,
    "nbgrader": {
     "checksum": "b4cc8bd8cdcdbbfca4dcb10d9eaf3a4a",
     "grade": true,
     "grade_id": "mag_test",
     "locked": true,
     "points": 4,
     "solution": false
    }
   },
   "outputs": [],
   "source": [
    "assert round(v2.norm(), 10) == round(sqrt(12), 10)"
   ]
  },
  {
   "cell_type": "code",
   "execution_count": null,
   "metadata": {
    "collapsed": false,
    "deletable": false,
    "nbgrader": {
     "checksum": "9316333d46fe64a223e3229b9b3127c9",
     "grade": true,
     "grade_id": "clear_test",
     "locked": true,
     "points": 4,
     "solution": false
    }
   },
   "outputs": [],
   "source": [
    "v1.clear()\n",
    "assert v1 == Vector(0,0,0)"
   ]
  },
  {
   "cell_type": "markdown",
   "metadata": {},
   "source": [
    "###  <span style=\"color:teal\">Part 2: Celestial Bodies (40 points)</span>"
   ]
  },
  {
   "cell_type": "markdown",
   "metadata": {},
   "source": [
    "Define a class named `Body` that will be used to represent the Sun and planets in the solar system simulation.\n",
    "\n",
    "Each instance of this class should have the following attributes:\n",
    "* mass, represented by a single floating point number\n",
    "* position, velocity, and force, each of which is a 3D vector\n",
    "* a name\n",
    "\n",
    "Define the constructor so that all attributes are optional.  The default name is None, mass is 0, and position and velocity are (0,0,0).  The force vector should always be initialized to (0,0,0).\n",
    "\n",
    "The representation string for a Body should include the name, if it's not None, and then the mass, position, and velocity:\n",
    "\n",
    "<pre>\n",
    ">>> Body()\n",
    "0kg (0,0,0) (0,0,0)\n",
    "\n",
    ">>> ep = Vector(-2.700743E+10, 1.446007E+11, 9686451)\n",
    ">>> Body(name = 'earth', mass = 5.9736E+24, position = ep)\n",
    "earth: 5.97e+24kg (-2.7e+10,1.45e+11,9.69e+06) (0,0,0)\n",
    "</pre>\n",
    "\n",
    "Your class should also include the following:\n",
    "* accessor functions called `name`, `mass`, `position`, `velocity`, and `force` that return the corresponding attribute\n",
    "* a method called `direction` which takes another Body object as a parameter and returns a vector that \"points at\" the other Body (see example below)\n",
    "* a method named `clear_force` that sets the force vector to (0,0,0) by calling that vector's `clear` method\n",
    "* an `add_force` method that takes another Body as a parameter and updates the force vector using the equation shown below\n",
    "* a method called `move` that will use the current value of the force vector to update the object's position using the algorithm outlined below.\n",
    "\n",
    "This example illustrates the `direction` method.  Notice how the direction from `b1` to `b2` is the same size but points the other way from the direction from `b2` to `b1`.\n",
    "<pre>\n",
    ">>> b1 = Body(position = Vector(0,1,0))\n",
    ">>> b2 = Body(position = Vector(1,0,0))\n",
    "\n",
    ">>> b1.direction(b2)\n",
    "(1,-1,0)\n",
    "\n",
    ">>> b2.direction(b1)\n",
    "(-1,1,0)\n",
    "</pre>\n",
    "\n",
    "To implement `add_force`, first compute the force pulling a body A toward another body B. Let $\\vec{d}$ be the direction from A to B. Then a vector $\\vec{f}$ that defines the force is\n",
    "\n",
    "$$\n",
    "\\vec{f} = \\frac{\\vec{d} \\times m_\\mathrm{B}}{{\\lVert \\, \\vec{d} \\, \\rVert}^3}\n",
    "$$\n",
    "\n",
    "where $m_\\mathrm{B}$ is the mass of body B.  Add $\\vec{f}$ to the force vector in the object that represents A.\n",
    "\n",
    "The `move` method will take a parameter named `dt` which is a time step size.\n",
    "To move a body A use the accumulated forces created by previous calls to `add_force`.\n",
    "First compute a vector that represents the acceleration of A:\n",
    "\n",
    "$$\n",
    "\\vec{a} = G \\times \\vec{f}_\\mathrm{A} \n",
    "$$\n",
    "\n",
    "where $G$ is the universal gravitational constant and $\\vec{f}_\\mathrm{A}$ is A's force vector.\n",
    "\n",
    "Then update A's velocity vector:\n",
    "$\n",
    "\\vec{v}_\\mathrm{A} = \\vec{v}_\\mathrm{A} + \\vec{a} \\times \\mathtt{dt}\n",
    "$\n",
    "\n",
    "Finally, update A's position vector:\n",
    "$\n",
    "\\vec{p}_\\mathrm{A} =  \\vec{p}_\\mathrm{A} + \\vec{v}_\\mathrm{A} \\times \\mathtt{dt}\n",
    "$\n",
    "\n"
   ]
  },
  {
   "cell_type": "markdown",
   "metadata": {},
   "source": [
    "##### <span style=\"color:red\">Documentation:</span>"
   ]
  },
  {
   "cell_type": "markdown",
   "metadata": {},
   "source": [
    "Use the markdown cell below to describe what you included in your class definition."
   ]
  },
  {
   "cell_type": "markdown",
   "metadata": {
    "collapsed": true,
    "deletable": false,
    "nbgrader": {
     "checksum": "b7e4c68a5b31baa36b0ff24cb10d17b4",
     "grade": true,
     "grade_id": "doc_2",
     "locked": false,
     "points": 10,
     "solution": true
    }
   },
   "source": [
    "The body class creates a body with a given mass, position, velocity, and possibly a name.\n",
    "There are functions to change said atributes, add, change, and clear a force attribute, and move a body due to gravity."
   ]
  },
  {
   "cell_type": "markdown",
   "metadata": {},
   "source": [
    "##### <span style=\"color:red\">Code:</span>"
   ]
  },
  {
   "cell_type": "markdown",
   "metadata": {},
   "source": [
    "Put your class definition in the following code cell.  Note the gravitational constant $G$ has been defined for you."
   ]
  },
  {
   "cell_type": "code",
   "execution_count": null,
   "metadata": {
    "collapsed": false,
    "deletable": false,
    "nbgrader": {
     "checksum": "0bf8f9aa45494f6c2684ec142bc76d21",
     "grade": false,
     "grade_id": "body",
     "locked": false,
     "solution": true
    }
   },
   "outputs": [],
   "source": [
    "G = 6.67E-11\n",
    "\n",
    "class Body:\n",
    "    \"\"\"\n",
    "    A Body object represents the state of a celestial body.  A body has mass \n",
    "    (a scalar), position (a vector), and velocity (a vector).  A third vector, \n",
    "    named force, is used when calculating forces acting on a body.  An\n",
    "    optional name can be attached to use in debugging.\n",
    "    \"\"\"\n",
    "    \n",
    "    def __init__(self, mass = 0, position = Vector(0,0,0), velocity = Vector(0,0,0), name = None):\n",
    "        \"\"\"\n",
    "        Create a new Body object with the specified mass (a scalar), position (a vector), \n",
    "        and velocity (another vector).  A fourth argument is an optional name for the body.\n",
    "        \"\"\"\n",
    "        self.massval = mass\n",
    "        self.positionval = position\n",
    "        self.velocityval = velocity\n",
    "        self.nameval = name\n",
    "        self.forceval = Vector(0,0,0)\n",
    "\n",
    "    def __repr__(self):\n",
    "        return self.nameval + ': {:.3g}kg '.format(self.massval) + str(self.positionval) + ' ' + str(self.velocityval)\n",
    "    \n",
    "    def mass(self):\n",
    "        return self.massval\n",
    "    \n",
    "    def position(self):\n",
    "        return self.positionval\n",
    "    \n",
    "    def velocity(self):\n",
    "        return self.velocityval\n",
    "    \n",
    "    def name(self):\n",
    "        return self.nameval\n",
    "\n",
    "    def force(self):\n",
    "        return self.forceval\n",
    "\n",
    "    def direction(self, other):\n",
    "        return other.positionval - self.positionval\n",
    "    \n",
    "    def add_force(self, other):\n",
    "        d = self.direction(other)\n",
    "        m = other.massval\n",
    "        self.forceval = d * m * (1/d.norm() ** 3)\n",
    "        return self.forceval\n",
    "        \n",
    "    def clear_force(self):\n",
    "        self.force = Vector(0,0,0)\n",
    "        return self.forceval\n",
    "                \n",
    "    def move(self, dt):\n",
    "        a = self.forceval\n",
    "        self.velocityval = self.velocityval + (a * dt)\n",
    "        self.positionval = self.positionval + (self.velocityval * dt)\n",
    "        return self.positionval"
   ]
  },
  {
   "cell_type": "markdown",
   "metadata": {},
   "source": [
    "##### <span style=\"color:red\">Tests:</span>"
   ]
  },
  {
   "cell_type": "markdown",
   "metadata": {},
   "source": [
    "(Optional) If you want to do your own tests use the code cell below to create and test objects.  You can add additional cells here if you want."
   ]
  },
  {
   "cell_type": "code",
   "execution_count": null,
   "metadata": {
    "collapsed": false
   },
   "outputs": [],
   "source": [
    "melon.move(1)"
   ]
  },
  {
   "cell_type": "markdown",
   "metadata": {},
   "source": [
    "##### <span style=\"color:red\">Autograder Tests:</span>"
   ]
  },
  {
   "cell_type": "markdown",
   "metadata": {},
   "source": [
    "**Important:** &nbsp;  the code cells in this section will be used by `nbgrader` to run automated tests.  Do not delete or alter these cells in any way."
   ]
  },
  {
   "cell_type": "code",
   "execution_count": null,
   "metadata": {
    "collapsed": false,
    "deletable": false,
    "nbgrader": {
     "checksum": "d74572bea412ec21a23893e3fe2c56a4",
     "grade": true,
     "grade_id": "body_setup",
     "locked": true,
     "points": 5,
     "solution": false
    }
   },
   "outputs": [],
   "source": [
    "melon = Body(name='melon', mass=3.0, position=Vector(0,6371000,0))\n",
    "earth = Body(name='earth', mass=5.9736E+24)"
   ]
  },
  {
   "cell_type": "code",
   "execution_count": null,
   "metadata": {
    "collapsed": false,
    "deletable": false,
    "nbgrader": {
     "checksum": "6f11033b06305caa03a8a14b925739ad",
     "grade": true,
     "grade_id": "body_repr",
     "locked": true,
     "points": 5,
     "solution": false
    }
   },
   "outputs": [],
   "source": [
    "assert str(melon) == \"melon: 3kg (0,6.37e+06,0) (0,0,0)\"\n",
    "assert str(earth) == \"earth: 5.97e+24kg (0,0,0) (0,0,0)\""
   ]
  },
  {
   "cell_type": "code",
   "execution_count": null,
   "metadata": {
    "collapsed": false,
    "deletable": false,
    "nbgrader": {
     "checksum": "6559614ecce2bf0ee035a0b5256f6ed1",
     "grade": true,
     "grade_id": "dir_test",
     "locked": true,
     "points": 5,
     "solution": false
    }
   },
   "outputs": [],
   "source": [
    "assert earth.direction(melon) == Vector(0,6371000,0)\n",
    "assert melon.direction(earth) == Vector(0,-6371000,0)"
   ]
  },
  {
   "cell_type": "code",
   "execution_count": null,
   "metadata": {
    "collapsed": false,
    "deletable": false,
    "nbgrader": {
     "checksum": "08d66581efe89af13034a804bc151247",
     "grade": true,
     "grade_id": "add_force_test",
     "locked": true,
     "points": 5,
     "solution": false
    }
   },
   "outputs": [],
   "source": [
    "melon.add_force(earth)\n",
    "assert -1.48e+11 < melon.force().y() < -1.47e+11"
   ]
  },
  {
   "cell_type": "code",
   "execution_count": null,
   "metadata": {
    "collapsed": false,
    "deletable": false,
    "nbgrader": {
     "checksum": "e02e70e90e9087002d8fc0fbffc54133",
     "grade": true,
     "grade_id": "move_test",
     "locked": true,
     "points": 5,
     "solution": false
    }
   },
   "outputs": [],
   "source": [
    "melon.move(1)\n",
    "assert 6370990 < melon.position().y() < 6371000"
   ]
  },
  {
   "cell_type": "code",
   "execution_count": null,
   "metadata": {
    "collapsed": false,
    "deletable": false,
    "nbgrader": {
     "checksum": "1eef82462a3935e809af2293941bce8c",
     "grade": true,
     "grade_id": "clear_force_test",
     "locked": true,
     "points": 5,
     "solution": false
    }
   },
   "outputs": [],
   "source": [
    "melon.clear_force()\n",
    "assert melon.force() == Vector(0,0,0)"
   ]
  },
  {
   "cell_type": "markdown",
   "metadata": {},
   "source": [
    "###  <span style=\"color:teal\">Part 3: Solar System (20 points)</span>"
   ]
  },
  {
   "cell_type": "markdown",
   "metadata": {},
   "source": [
    "Write a function named `make_system` that will read a data file to produce a list of Body objects.\n",
    "\n",
    "The name of the file is passed as an argument to the function.  Each line of the file will describe a single body, and has the following items:\n",
    "* name\n",
    "* mass\n",
    "* x, y, and z coordinates of the body's position\n",
    "* x, y, and z coordinates of the body's velocity\n",
    "* circle radius\n",
    "* circle color\n",
    "For this project ignore the last two items -- we'll use them later when we visualize the motion of planets.\n",
    "\n",
    "The items on a line are separated by spaces, so you just have to use `split` to separate the items.\n",
    "\n",
    "**Note** Lines might be blank, or start with a pound sign (`#`).  Just ignore these lines.\n",
    "\n",
    "The coordinates of the Sun and nine planets (yes, Pluto is a planet) are in a file named `solarsystem.txt` that is distributed with the project.  Test your function using this file."
   ]
  },
  {
   "cell_type": "markdown",
   "metadata": {},
   "source": [
    "##### <span style=\"color:red\">Documentation:</span>"
   ]
  },
  {
   "cell_type": "markdown",
   "metadata": {},
   "source": [
    "Use the markdown cell below to describe what you included in your class definition."
   ]
  },
  {
   "cell_type": "markdown",
   "metadata": {
    "deletable": false,
    "nbgrader": {
     "checksum": "f9642f6d3c4be16bf640696d1ca8a571",
     "grade": true,
     "grade_id": "doc_3",
     "locked": false,
     "points": 10,
     "solution": true
    }
   },
   "source": [
    "YOUR ANSWER HERE"
   ]
  },
  {
   "cell_type": "markdown",
   "metadata": {},
   "source": [
    "##### <span style=\"color:red\">Code:</span>"
   ]
  },
  {
   "cell_type": "markdown",
   "metadata": {},
   "source": [
    "Put your function definition in the following code cell."
   ]
  },
  {
   "cell_type": "code",
   "execution_count": null,
   "metadata": {
    "collapsed": false,
    "deletable": false,
    "nbgrader": {
     "checksum": "2efba1611db6fc818da34b0c9893b045",
     "grade": false,
     "grade_id": "make_system",
     "locked": false,
     "solution": true
    }
   },
   "outputs": [],
   "source": [
    "def make_system(file):\n",
    "    openfile = open(file).readlines()\n",
    "    bodies = []\n",
    "    for line in openfile: \n",
    "        if line[0] != '#':\n",
    "            if len(line) > 3:\n",
    "                bodies.append(line.split())\n",
    "    for line in bodies:\n",
    "        bodies[index(line)] = Body(mass = line[1], position = Vector(line[2],line[3],line[4]), velocity = Vector(line[5],line[6],line[7]), name = line[0])\n",
    "    \n",
    "    return bodies"
   ]
  },
  {
   "cell_type": "markdown",
   "metadata": {},
   "source": [
    "##### <span style=\"color:red\">Tests:</span>"
   ]
  },
  {
   "cell_type": "markdown",
   "metadata": {},
   "source": [
    "(Optional) If you want to do your own tests use the code cell below to create and test objects.  You can add additional cells here if you want."
   ]
  },
  {
   "cell_type": "code",
   "execution_count": null,
   "metadata": {
    "collapsed": false
   },
   "outputs": [],
   "source": [
    "ss[0]"
   ]
  },
  {
   "cell_type": "markdown",
   "metadata": {},
   "source": [
    "##### <span style=\"color:red\">Autograder Tests:</span>"
   ]
  },
  {
   "cell_type": "markdown",
   "metadata": {},
   "source": [
    "**Important:** &nbsp;  the code cells in this section will be used by `nbgrader` to run automated tests.  Do not delete or alter these cells in any way."
   ]
  },
  {
   "cell_type": "code",
   "execution_count": null,
   "metadata": {
    "collapsed": false,
    "deletable": false,
    "nbgrader": {
     "checksum": "3d049a387e15980fa9305627b13cd8b1",
     "grade": true,
     "grade_id": "make_sys",
     "locked": true,
     "points": 2,
     "solution": false
    }
   },
   "outputs": [],
   "source": [
    "ss = make_system('solarsystem.txt')"
   ]
  },
  {
   "cell_type": "code",
   "execution_count": null,
   "metadata": {
    "collapsed": false,
    "deletable": false,
    "nbgrader": {
     "checksum": "1270d9422c4cc533c05d07674c673a42",
     "grade": true,
     "grade_id": "len_sys",
     "locked": true,
     "points": 2,
     "solution": false
    }
   },
   "outputs": [],
   "source": [
    "assert len(ss) == 10"
   ]
  },
  {
   "cell_type": "code",
   "execution_count": null,
   "metadata": {
    "collapsed": false,
    "deletable": false,
    "nbgrader": {
     "checksum": "12d47ef258977f16f9174618de5da037",
     "grade": true,
     "grade_id": "is_body",
     "locked": true,
     "points": 2,
     "solution": false
    }
   },
   "outputs": [],
   "source": [
    "for x in ss:\n",
    "    assert isinstance(x, Body)"
   ]
  },
  {
   "cell_type": "code",
   "execution_count": null,
   "metadata": {
    "collapsed": false,
    "deletable": false,
    "nbgrader": {
     "checksum": "cd53151f225753becbed6d24701373ea",
     "grade": true,
     "grade_id": "sun_name",
     "locked": true,
     "points": 2,
     "solution": false
    }
   },
   "outputs": [],
   "source": [
    "assert ss[0].name() == \"sun\""
   ]
  },
  {
   "cell_type": "code",
   "execution_count": null,
   "metadata": {
    "collapsed": true,
    "deletable": false,
    "nbgrader": {
     "checksum": "a945d57f23214e841e013e136fa1b5b2",
     "grade": true,
     "grade_id": "sun_position",
     "locked": true,
     "points": 2,
     "solution": false
    }
   },
   "outputs": [],
   "source": [
    "assert ss[0].position() == Vector(0,0,0)"
   ]
  }
 ],
 "metadata": {
  "kernelspec": {
   "display_name": "Python 3",
   "language": "python",
   "name": "python3"
  },
  "language_info": {
   "codemirror_mode": {
    "name": "ipython",
    "version": 3
   },
   "file_extension": ".py",
   "mimetype": "text/x-python",
   "name": "python",
   "nbconvert_exporter": "python",
   "pygments_lexer": "ipython3",
   "version": "3.5.1"
  }
 },
 "nbformat": 4,
 "nbformat_minor": 0
}
