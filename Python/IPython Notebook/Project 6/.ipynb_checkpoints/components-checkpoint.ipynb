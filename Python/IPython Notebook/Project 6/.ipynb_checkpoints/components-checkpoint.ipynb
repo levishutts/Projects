{
 "cells": [
  {
   "cell_type": "markdown",
   "metadata": {},
   "source": [
    "# <span style=\"color:teal;\">CIS 211 Project 6:  N-Body GUI</span>"
   ]
  },
  {
   "cell_type": "markdown",
   "metadata": {},
   "source": [
    "##### Due 11:00 P.M. Friday Feb 19, 2016"
   ]
  },
  {
   "cell_type": "markdown",
   "metadata": {},
   "source": [
    "##### Reading:  Online Tutorials"
   ]
  },
  {
   "cell_type": "markdown",
   "metadata": {},
   "source": [
    "For this week's project you will create your own canvas and use it for visualizing the solar system simulation.  You will also define special-purpose components to include in the GUI:  a frame that contains a label and a spinbox, and another frame that has a run button and a place to enter the simulation parameters."
   ]
  },
  {
   "cell_type": "markdown",
   "metadata": {},
   "source": [
    "###  <span style=\"color:teal\">Compiled Python (`.pyc`) File </span>"
   ]
  },
  {
   "cell_type": "markdown",
   "metadata": {},
   "source": [
    "A file named `NBody.pyc` has the compiled Python code with the instructors' definitions of the Vector and Body classes and the `read_bodies` and `step_system` methods.  You are welcome to use your own code by copying your definitions into the notebook -- comment out the statement in the code cell below that imports NBody, and insert the code cells with your definitions immediately below the cell with the imports."
   ]
  },
  {
   "cell_type": "markdown",
   "metadata": {},
   "source": [
    "Execute these code cells each time you open the notebook."
   ]
  },
  {
   "cell_type": "code",
   "execution_count": 1,
   "metadata": {
    "collapsed": true
   },
   "outputs": [],
   "source": [
    "%gui tk"
   ]
  },
  {
   "cell_type": "code",
   "execution_count": 2,
   "metadata": {
    "collapsed": false
   },
   "outputs": [
    {
     "ename": "ImportError",
     "evalue": "No module named 'NBody'",
     "output_type": "error",
     "traceback": [
      "\u001b[1;31m---------------------------------------------------------------------------\u001b[0m",
      "\u001b[1;31mImportError\u001b[0m                               Traceback (most recent call last)",
      "\u001b[1;32m<ipython-input-2-04bc15b5f40e>\u001b[0m in \u001b[0;36m<module>\u001b[1;34m()\u001b[0m\n\u001b[0;32m      4\u001b[0m \u001b[1;32mfrom\u001b[0m \u001b[0mtime\u001b[0m \u001b[1;32mimport\u001b[0m \u001b[0msleep\u001b[0m\u001b[1;33m\u001b[0m\u001b[0m\n\u001b[0;32m      5\u001b[0m \u001b[1;33m\u001b[0m\u001b[0m\n\u001b[1;32m----> 6\u001b[1;33m \u001b[1;32mfrom\u001b[0m \u001b[0mNBody\u001b[0m \u001b[1;32mimport\u001b[0m \u001b[1;33m*\u001b[0m\u001b[1;33m\u001b[0m\u001b[0m\n\u001b[0m",
      "\u001b[1;31mImportError\u001b[0m: No module named 'NBody'"
     ]
    }
   ],
   "source": [
    "import tkinter as tk\n",
    "import tkinter.ttk as ttk\n",
    "from tkinter import filedialog\n",
    "from time import sleep\n",
    "\n",
    "from NBody import *"
   ]
  },
  {
   "cell_type": "markdown",
   "metadata": {},
   "source": [
    "###  <span style=\"color:teal\">Part 1: &nbsp; ViewFrame (30 points)</span>"
   ]
  },
  {
   "cell_type": "markdown",
   "metadata": {},
   "source": [
    "Below you will find a code cell with the outline of a class called ViewFrame.  This class defines a GUI component that has a label and a spinbox.  After an application creates a ViewFrame widget named `v`, it will call `v.reset(n)` to specify the upper bound for the spinbox, and it will call `v.nbodies()` to find the current value of the counter in the spinbox.\n",
    "\n",
    "The constructor will be passed a reference to a callback function.  You should pass this function to the constructor that makes the Spinbox widget inside the ViewFrame.\n",
    "\n",
    "You need to fill in the definition of the ViewFame class:\n",
    "* the constructor should create a Label and a Spinbox and add them to this frame\n",
    "* the `reset` method should set the spinbox lower limit to 2 and the upper limit to the value of the parameter passed as an argument\n",
    "* the `nbodies` method should return an integer corresponding to the current value in the spinbox"
   ]
  },
  {
   "cell_type": "markdown",
   "metadata": {},
   "source": [
    "##### <span style=\"color:red\">Documentation:</span>"
   ]
  },
  {
   "cell_type": "markdown",
   "metadata": {},
   "source": [
    "Use the markdown cell below to describe what you did to implement your ViewFrame class."
   ]
  },
  {
   "cell_type": "markdown",
   "metadata": {
    "deletable": false,
    "nbgrader": {
     "checksum": "302554b4abe15bfed559e79f80a06046",
     "grade": true,
     "grade_id": "doc_1",
     "locked": false,
     "points": 5,
     "solution": true
    }
   },
   "source": [
    "YOUR ANSWER HERE"
   ]
  },
  {
   "cell_type": "markdown",
   "metadata": {},
   "source": [
    "##### <span style=\"color:red\">Code:</span>"
   ]
  },
  {
   "cell_type": "markdown",
   "metadata": {},
   "source": [
    "**Important:** &nbsp; Add your Python code to the following code cell.  Do not delete, rename, or copy this cell."
   ]
  },
  {
   "cell_type": "code",
   "execution_count": 3,
   "metadata": {
    "collapsed": true,
    "deletable": false,
    "nbgrader": {
     "checksum": "9bc0b0e556c94b952041701746e99dd4",
     "grade": true,
     "grade_id": "view_frame",
     "locked": false,
     "points": 5,
     "solution": true
    }
   },
   "outputs": [],
   "source": [
    "class ViewFrame(tk.Frame):\n",
    "    \n",
    "    def __init__(self, parent, callback):\n",
    "        tk.Frame.__init__(self, parent)\n",
    "        \n",
    "        self['width'] = 100             # <- the tests do not rely on these\n",
    "        self['height'] = 25             # <- assignments so you can delete\n",
    "        self['background'] = 'gray'     # <- themm if you wish\n",
    "        \n",
    "        # YOUR CODE HERE\n",
    "        pass\n",
    "\n",
    "    def reset(self, nbodies):\n",
    "        # YOUR CODE HERE\n",
    "        pass\n",
    "        \n",
    "    def nbodies(self):\n",
    "        # YOUR CODE HERE\n",
    "        pass\n"
   ]
  },
  {
   "cell_type": "markdown",
   "metadata": {},
   "source": [
    "##### <span style=\"color:red\">Tests:</span>"
   ]
  },
  {
   "cell_type": "markdown",
   "metadata": {
    "nbgrader": {
     "grade": false,
     "locked": false,
     "points": 30,
     "solution": false
    }
   },
   "source": [
    "Use the following code cell as a \"sandbox\" if you want to do your own tests of the ViewFrame class.  You can add additional cells here if you want."
   ]
  },
  {
   "cell_type": "code",
   "execution_count": null,
   "metadata": {
    "collapsed": true
   },
   "outputs": [],
   "source": []
  },
  {
   "cell_type": "markdown",
   "metadata": {},
   "source": [
    "##### <span style=\"color:red\">Autograder Tests:</span>"
   ]
  },
  {
   "cell_type": "markdown",
   "metadata": {},
   "source": [
    "**Important:** &nbsp;  the code cells in this section will be used by `nbgrader` to run automated tests.  Do not move, delete or alter these cells in any way."
   ]
  },
  {
   "cell_type": "code",
   "execution_count": 4,
   "metadata": {
    "collapsed": true,
    "deletable": false,
    "nbgrader": {
     "checksum": "b5b74fe54725e3d945fa7f8eaacf65fe",
     "grade": false,
     "grade_id": "vf_setup",
     "locked": true,
     "solution": false
    }
   },
   "outputs": [],
   "source": [
    "def vf_test_setup(cb):\n",
    "    vf_app = tk.Tk()\n",
    "    vf = ViewFrame(vf_app, cb)\n",
    "    vf.pack()\n",
    "    return vf\n",
    "\n",
    "def find_spinbox(vf):\n",
    "    for widget in vf.children.values():\n",
    "        if type(widget).__name__ == 'Spinbox':\n",
    "            return widget"
   ]
  },
  {
   "cell_type": "code",
   "execution_count": 5,
   "metadata": {
    "collapsed": false,
    "deletable": false,
    "nbgrader": {
     "checksum": "16d47cbd7cb536c1f921e2ff3f83d731",
     "grade": true,
     "grade_id": "vf_test_1",
     "locked": true,
     "points": 5,
     "solution": false
    }
   },
   "outputs": [
    {
     "ename": "AssertionError",
     "evalue": "",
     "output_type": "error",
     "traceback": [
      "\u001b[1;31m---------------------------------------------------------------------------\u001b[0m",
      "\u001b[1;31mAssertionError\u001b[0m                            Traceback (most recent call last)",
      "\u001b[1;32m<ipython-input-5-46700bebb84a>\u001b[0m in \u001b[0;36m<module>\u001b[1;34m()\u001b[0m\n\u001b[0;32m      6\u001b[0m     \u001b[0mcounts\u001b[0m\u001b[1;33m[\u001b[0m\u001b[0mtype\u001b[0m\u001b[1;33m(\u001b[0m\u001b[0mx\u001b[0m\u001b[1;33m)\u001b[0m\u001b[1;33m.\u001b[0m\u001b[0m__name__\u001b[0m\u001b[1;33m]\u001b[0m \u001b[1;33m+=\u001b[0m \u001b[1;36m1\u001b[0m\u001b[1;33m\u001b[0m\u001b[0m\n\u001b[0;32m      7\u001b[0m \u001b[1;33m\u001b[0m\u001b[0m\n\u001b[1;32m----> 8\u001b[1;33m \u001b[1;32massert\u001b[0m \u001b[0mcounts\u001b[0m \u001b[1;33m==\u001b[0m \u001b[1;33m{\u001b[0m \u001b[1;34m'Label'\u001b[0m\u001b[1;33m:\u001b[0m \u001b[1;36m1\u001b[0m\u001b[1;33m,\u001b[0m \u001b[1;34m'Spinbox'\u001b[0m\u001b[1;33m:\u001b[0m \u001b[1;36m1\u001b[0m \u001b[1;33m}\u001b[0m\u001b[1;33m\u001b[0m\u001b[0m\n\u001b[0m",
      "\u001b[1;31mAssertionError\u001b[0m: "
     ]
    }
   ],
   "source": [
    "vf = vf_test_setup(None)\n",
    "\n",
    "counts = { }\n",
    "for x in vf.children.values():\n",
    "    counts.setdefault(type(x).__name__, 0)\n",
    "    counts[type(x).__name__] += 1\n",
    "    \n",
    "assert counts == { 'Label': 1, 'Spinbox': 1 }"
   ]
  },
  {
   "cell_type": "code",
   "execution_count": 6,
   "metadata": {
    "collapsed": false,
    "deletable": false,
    "nbgrader": {
     "checksum": "116aee9fb001d325cbc632af8275442d",
     "grade": true,
     "grade_id": "vf_test_2",
     "locked": true,
     "points": 5,
     "solution": false
    }
   },
   "outputs": [
    {
     "ename": "AttributeError",
     "evalue": "'NoneType' object has no attribute 'get'",
     "output_type": "error",
     "traceback": [
      "\u001b[1;31m---------------------------------------------------------------------------\u001b[0m",
      "\u001b[1;31mAttributeError\u001b[0m                            Traceback (most recent call last)",
      "\u001b[1;32m<ipython-input-6-08d7ccce0c63>\u001b[0m in \u001b[0;36m<module>\u001b[1;34m()\u001b[0m\n\u001b[0;32m      3\u001b[0m \u001b[1;33m\u001b[0m\u001b[0m\n\u001b[0;32m      4\u001b[0m \u001b[0msb\u001b[0m \u001b[1;33m=\u001b[0m \u001b[0mfind_spinbox\u001b[0m\u001b[1;33m(\u001b[0m\u001b[0mvf\u001b[0m\u001b[1;33m)\u001b[0m\u001b[1;33m\u001b[0m\u001b[0m\n\u001b[1;32m----> 5\u001b[1;33m \u001b[1;32massert\u001b[0m \u001b[0msb\u001b[0m\u001b[1;33m.\u001b[0m\u001b[0mget\u001b[0m\u001b[1;33m(\u001b[0m\u001b[1;33m)\u001b[0m \u001b[1;33m==\u001b[0m \u001b[1;34m'5'\u001b[0m\u001b[1;33m\u001b[0m\u001b[0m\n\u001b[0m\u001b[0;32m      6\u001b[0m \u001b[1;32massert\u001b[0m \u001b[0msb\u001b[0m\u001b[1;33m[\u001b[0m\u001b[1;34m'from'\u001b[0m\u001b[1;33m]\u001b[0m \u001b[1;33m==\u001b[0m \u001b[1;36m2\u001b[0m\u001b[1;33m\u001b[0m\u001b[0m\n\u001b[0;32m      7\u001b[0m \u001b[1;32massert\u001b[0m \u001b[0msb\u001b[0m\u001b[1;33m[\u001b[0m\u001b[1;34m'to'\u001b[0m\u001b[1;33m]\u001b[0m \u001b[1;33m==\u001b[0m \u001b[1;36m5\u001b[0m\u001b[1;33m\u001b[0m\u001b[0m\n",
      "\u001b[1;31mAttributeError\u001b[0m: 'NoneType' object has no attribute 'get'"
     ]
    }
   ],
   "source": [
    "vf = vf_test_setup(None)\n",
    "vf.reset(5)\n",
    "\n",
    "sb = find_spinbox(vf)\n",
    "assert sb.get() == '5'\n",
    "assert sb['from'] == 2\n",
    "assert sb['to'] == 5"
   ]
  },
  {
   "cell_type": "code",
   "execution_count": 7,
   "metadata": {
    "collapsed": false,
    "deletable": false,
    "nbgrader": {
     "checksum": "b1f431211ca83bf6fb74c2df8f566b21",
     "grade": true,
     "grade_id": "vf_test_3",
     "locked": true,
     "points": 5,
     "solution": false
    }
   },
   "outputs": [
    {
     "ename": "AttributeError",
     "evalue": "'NoneType' object has no attribute 'invoke'",
     "output_type": "error",
     "traceback": [
      "\u001b[1;31m---------------------------------------------------------------------------\u001b[0m",
      "\u001b[1;31mAttributeError\u001b[0m                            Traceback (most recent call last)",
      "\u001b[1;32m<ipython-input-7-513cd0829955>\u001b[0m in \u001b[0;36m<module>\u001b[1;34m()\u001b[0m\n\u001b[0;32m      3\u001b[0m \u001b[1;33m\u001b[0m\u001b[0m\n\u001b[0;32m      4\u001b[0m \u001b[0msb\u001b[0m \u001b[1;33m=\u001b[0m \u001b[0mfind_spinbox\u001b[0m\u001b[1;33m(\u001b[0m\u001b[0mvf\u001b[0m\u001b[1;33m)\u001b[0m\u001b[1;33m\u001b[0m\u001b[0m\n\u001b[1;32m----> 5\u001b[1;33m \u001b[0msb\u001b[0m\u001b[1;33m.\u001b[0m\u001b[0minvoke\u001b[0m\u001b[1;33m(\u001b[0m\u001b[1;34m'buttondown'\u001b[0m\u001b[1;33m)\u001b[0m\u001b[1;33m\u001b[0m\u001b[0m\n\u001b[0m\u001b[0;32m      6\u001b[0m \u001b[1;32massert\u001b[0m \u001b[0msb\u001b[0m\u001b[1;33m.\u001b[0m\u001b[0mget\u001b[0m\u001b[1;33m(\u001b[0m\u001b[1;33m)\u001b[0m \u001b[1;33m==\u001b[0m \u001b[1;34m'4'\u001b[0m\u001b[1;33m\u001b[0m\u001b[0m\n\u001b[0;32m      7\u001b[0m \u001b[0msb\u001b[0m\u001b[1;33m.\u001b[0m\u001b[0minvoke\u001b[0m\u001b[1;33m(\u001b[0m\u001b[1;34m'buttonup'\u001b[0m\u001b[1;33m)\u001b[0m\u001b[1;33m\u001b[0m\u001b[0m\n",
      "\u001b[1;31mAttributeError\u001b[0m: 'NoneType' object has no attribute 'invoke'"
     ]
    }
   ],
   "source": [
    "vf = vf_test_setup(None)\n",
    "vf.reset(5)\n",
    "\n",
    "sb = find_spinbox(vf)\n",
    "sb.invoke('buttondown')\n",
    "assert sb.get() == '4'\n",
    "sb.invoke('buttonup')\n",
    "assert sb.get() == '5'\n"
   ]
  },
  {
   "cell_type": "code",
   "execution_count": 8,
   "metadata": {
    "collapsed": false,
    "deletable": false,
    "nbgrader": {
     "checksum": "dee7b245949933fd62bfd77f8309034d",
     "grade": true,
     "grade_id": "vf_test4",
     "locked": true,
     "points": 5,
     "solution": false
    }
   },
   "outputs": [
    {
     "ename": "AttributeError",
     "evalue": "'NoneType' object has no attribute 'invoke'",
     "output_type": "error",
     "traceback": [
      "\u001b[1;31m---------------------------------------------------------------------------\u001b[0m",
      "\u001b[1;31mAttributeError\u001b[0m                            Traceback (most recent call last)",
      "\u001b[1;32m<ipython-input-8-73628318e819>\u001b[0m in \u001b[0;36m<module>\u001b[1;34m()\u001b[0m\n\u001b[0;32m      8\u001b[0m \u001b[1;33m\u001b[0m\u001b[0m\n\u001b[0;32m      9\u001b[0m \u001b[0msb\u001b[0m \u001b[1;33m=\u001b[0m \u001b[0mfind_spinbox\u001b[0m\u001b[1;33m(\u001b[0m\u001b[0mvf\u001b[0m\u001b[1;33m)\u001b[0m\u001b[1;33m\u001b[0m\u001b[0m\n\u001b[1;32m---> 10\u001b[1;33m \u001b[0msb\u001b[0m\u001b[1;33m.\u001b[0m\u001b[0minvoke\u001b[0m\u001b[1;33m(\u001b[0m\u001b[1;34m'buttondown'\u001b[0m\u001b[1;33m)\u001b[0m\u001b[1;33m\u001b[0m\u001b[0m\n\u001b[0m\u001b[0;32m     11\u001b[0m \u001b[0msb\u001b[0m\u001b[1;33m.\u001b[0m\u001b[0minvoke\u001b[0m\u001b[1;33m(\u001b[0m\u001b[1;34m'buttondown'\u001b[0m\u001b[1;33m)\u001b[0m\u001b[1;33m\u001b[0m\u001b[0m\n\u001b[0;32m     12\u001b[0m \u001b[1;32massert\u001b[0m \u001b[0mcalls\u001b[0m \u001b[1;33m==\u001b[0m \u001b[1;36m2\u001b[0m\u001b[1;33m\u001b[0m\u001b[0m\n",
      "\u001b[1;31mAttributeError\u001b[0m: 'NoneType' object has no attribute 'invoke'"
     ]
    }
   ],
   "source": [
    "calls = 0\n",
    "def vf_cb():\n",
    "    global calls\n",
    "    calls += 1\n",
    "\n",
    "vf = vf_test_setup(vf_cb)\n",
    "vf.reset(5)\n",
    "\n",
    "sb = find_spinbox(vf)\n",
    "sb.invoke('buttondown')\n",
    "sb.invoke('buttondown')\n",
    "assert calls == 2"
   ]
  },
  {
   "cell_type": "markdown",
   "metadata": {},
   "source": [
    "###  <span style=\"color:teal\">Part 2: &nbsp; RunFrame (30 points)</span>"
   ]
  },
  {
   "cell_type": "markdown",
   "metadata": {},
   "source": [
    "This project is similar to the first one, but here you will fill out the definition of a class called RunFrame.  A RunFrame is a frame that has a run button, text entry boxes for the time step size and number of steps to run, and a progress bar to show how many steps have been executed.  \n",
    "\n",
    "The entry boxes for the time step size and number of steps should be initialized to show the default values for those parameters:  86459 for the time step size and 365 for the number of step.\n",
    "\n",
    "After an application has created a RunFrame object named `r` it should be able to call the following methods to interact with `r`:\n",
    "* `r.dt()` returns the time step size from the time step entry box\n",
    "* `r.nsteps()` returns the number of time steps indicated in that entry box\n",
    "* `t.target(n)` sets the upper bound in the progress bar\n",
    "* `t.update_progress(n)` sets the value to show in the progress bar\n",
    "\n",
    "The constructor will be passed a reference to a callback function that will be called when the run button is pushed.  You should pass this function to the constructor that makes the Button.\n",
    "\n",
    "**Note:** &nbsp; In order to test your RunFrame we need to know the names you give to some of the parts of the frame.  Make sure you use the following instance variable names:\n",
    "* `_run_button` for the button that starts the simulation\n",
    "* `_dt_entry` for the entry box for time step size\n",
    "* `_nsteps_entry` for the entry box with the number of steps"
   ]
  },
  {
   "cell_type": "markdown",
   "metadata": {},
   "source": [
    "##### <span style=\"color:red\">Documentation:</span>"
   ]
  },
  {
   "cell_type": "markdown",
   "metadata": {},
   "source": [
    "Use the markdown cell below to describe what you did to implement your RunFrame class."
   ]
  },
  {
   "cell_type": "markdown",
   "metadata": {
    "deletable": false,
    "nbgrader": {
     "checksum": "d94a32b06da228fc2d5d568f00ba0456",
     "grade": true,
     "grade_id": "doc_2",
     "locked": false,
     "points": 5,
     "solution": true
    }
   },
   "source": [
    "YOUR ANSWER HERE"
   ]
  },
  {
   "cell_type": "markdown",
   "metadata": {},
   "source": [
    "##### <span style=\"color:red\">Code:</span>"
   ]
  },
  {
   "cell_type": "markdown",
   "metadata": {},
   "source": [
    "**Important:** &nbsp; Add your Python code to the following code cell.  Do not delete, rename, or copy this cell."
   ]
  },
  {
   "cell_type": "code",
   "execution_count": 9,
   "metadata": {
    "collapsed": false,
    "deletable": false,
    "nbgrader": {
     "checksum": "27d84f08c77ceeb2d0144322312d3fcb",
     "grade": true,
     "grade_id": "run_frame",
     "locked": false,
     "points": 5,
     "solution": true
    }
   },
   "outputs": [],
   "source": [
    "class RunFrame(tk.Frame):\n",
    "    \n",
    "    def __init__(self, parent, callback):\n",
    "        tk.Frame.__init__(self, parent)\n",
    "        \n",
    "        self['width'] = 200\n",
    "        self['height'] = 100\n",
    "        self['background'] = 'gray'\n",
    "        \n",
    "        # YOUR CODE HERE\n",
    "        pass\n",
    "        \n",
    "    def dt(self):\n",
    "        # YOUR CODE HERE\n",
    "        pass\n",
    "    \n",
    "    def nsteps(self):\n",
    "        # YOUR CODE HERE\n",
    "        pass\n",
    "        \n",
    "    def target(self, n):\n",
    "        # YOUR CODE HERE\n",
    "        pass\n",
    "        \n",
    "    def update_progress(self, n):\n",
    "        # YOUR CODE HERE\n",
    "        pass\n"
   ]
  },
  {
   "cell_type": "markdown",
   "metadata": {},
   "source": [
    "##### <span style=\"color:red\">Tests:</span>"
   ]
  },
  {
   "cell_type": "markdown",
   "metadata": {
    "nbgrader": {
     "grade": false,
     "locked": false,
     "points": 30,
     "solution": false
    }
   },
   "source": [
    "Use the following code cell as a \"sandbox\" if you want to do your own tests.  You can add additional cells here if you want."
   ]
  },
  {
   "cell_type": "code",
   "execution_count": null,
   "metadata": {
    "collapsed": true
   },
   "outputs": [],
   "source": []
  },
  {
   "cell_type": "markdown",
   "metadata": {},
   "source": [
    "##### <span style=\"color:red\">Autograder Tests:</span>"
   ]
  },
  {
   "cell_type": "markdown",
   "metadata": {},
   "source": [
    "**Important:** &nbsp;  the code cells in this section will be used by `nbgrader` to run automated tests.  Do not move, delete or alter these cells in any way."
   ]
  },
  {
   "cell_type": "code",
   "execution_count": null,
   "metadata": {
    "collapsed": true,
    "deletable": false,
    "nbgrader": {
     "checksum": "7fce748a8301fd186f9d9328f653998a",
     "grade": false,
     "grade_id": "rf_setup",
     "locked": true,
     "solution": false
    }
   },
   "outputs": [],
   "source": [
    "def rf_test_setup(cb):\n",
    "    rf = RunFrame(tk.Tk(), cb)\n",
    "    rf.pack()\n",
    "    return rf"
   ]
  },
  {
   "cell_type": "code",
   "execution_count": null,
   "metadata": {
    "collapsed": false,
    "deletable": false,
    "nbgrader": {
     "checksum": "4467d4179ef8218abb5e4baadfaf91b2",
     "grade": true,
     "grade_id": "rf_test1",
     "locked": true,
     "points": 5,
     "solution": false
    }
   },
   "outputs": [],
   "source": [
    "rf = rf_test_setup(None)\n",
    "\n",
    "counts = { }\n",
    "for x in rf.children.values():\n",
    "    counts.setdefault(type(x).__name__, 0)\n",
    "    counts[type(x).__name__] += 1\n",
    "    \n",
    "assert counts['Button'] == 1\n",
    "assert counts['Entry'] == 2\n",
    "assert counts['Progressbar'] == 1"
   ]
  },
  {
   "cell_type": "code",
   "execution_count": null,
   "metadata": {
    "collapsed": true,
    "deletable": false,
    "nbgrader": {
     "checksum": "1ecb4b7511ecdb0768003f784ecb7f7a",
     "grade": true,
     "grade_id": "rf_test2",
     "locked": true,
     "points": 5,
     "solution": false
    }
   },
   "outputs": [],
   "source": [
    "rf = rf_test_setup(None)\n",
    "\n",
    "assert rf._dt_entry.get() == '86459'\n",
    "assert rf._nsteps_entry.get() == '365'"
   ]
  },
  {
   "cell_type": "code",
   "execution_count": null,
   "metadata": {
    "collapsed": true,
    "deletable": false,
    "nbgrader": {
     "checksum": "547edab4abc847733687f5dc217ec3d2",
     "grade": true,
     "grade_id": "rf_test3",
     "locked": true,
     "points": 5,
     "solution": false
    }
   },
   "outputs": [],
   "source": [
    "calls = 0\n",
    "def rb_cb():\n",
    "    global calls\n",
    "    calls += 1\n",
    "\n",
    "rf = rf_test_setup(rb_cb)\n",
    "rf._run_button.invoke()\n",
    "rf._run_button.invoke()\n",
    "assert calls == 2"
   ]
  },
  {
   "cell_type": "code",
   "execution_count": null,
   "metadata": {
    "collapsed": false,
    "deletable": false,
    "nbgrader": {
     "checksum": "9f1ef3b668347b1f477d9ffb1175cd6b",
     "grade": true,
     "grade_id": "rf_test4",
     "locked": true,
     "points": 5,
     "solution": false
    }
   },
   "outputs": [],
   "source": [
    "rf = rf_test_setup(None)\n",
    "\n",
    "rf._dt_entry.delete(0, tk.END)\n",
    "rf._dt_entry.insert(0, '100')\n",
    "assert rf.dt() == 100\n",
    "\n",
    "rf._nsteps_entry.delete(0, tk.END)\n",
    "rf._nsteps_entry.insert(0, '1000')\n",
    "assert rf.nsteps() == 1000"
   ]
  },
  {
   "cell_type": "markdown",
   "metadata": {},
   "source": [
    "###  <span style=\"color:teal\">Part 3: &nbsp; TkBody (20 points)</span>"
   ]
  },
  {
   "cell_type": "markdown",
   "metadata": {},
   "source": [
    "For this part of the project you should copy the code you wrote for the VBody class and use it to fill in the `draw` method of the TkBody class shown below.\n",
    "\n",
    "Note that the canvas to draw on, the scale factor, and the coordinates of the center of the canvas are all class variables.  You can assume that before your `draw` method is called the class variables will be set by other parts of the GUI.\n",
    "\n",
    "The `draw` method needs to get this body's position vector, multiply it by the scale factor, and add the vector saved in `TkBody.center`.  It should then draw a circle on the canvas using this body's size and color attributes and save a reference to the circle in `self._graphic`.\n"
   ]
  },
  {
   "cell_type": "markdown",
   "metadata": {},
   "source": [
    "##### <span style=\"color:red\">Documentation:</span>"
   ]
  },
  {
   "cell_type": "markdown",
   "metadata": {},
   "source": [
    "Use the markdown cell below to describe what you did to implement your TkBody class."
   ]
  },
  {
   "cell_type": "markdown",
   "metadata": {
    "deletable": false,
    "nbgrader": {
     "checksum": "806340909530febba255a5b260941cd7",
     "grade": true,
     "grade_id": "doc_3",
     "locked": false,
     "points": 5,
     "solution": true
    }
   },
   "source": [
    "YOUR ANSWER HERE"
   ]
  },
  {
   "cell_type": "markdown",
   "metadata": {},
   "source": [
    "##### <span style=\"color:red\">Code:</span>"
   ]
  },
  {
   "cell_type": "markdown",
   "metadata": {},
   "source": [
    "**Important:** &nbsp; Add your Python code to the following code cell.  Do not delete, rename, or copy this cell."
   ]
  },
  {
   "cell_type": "code",
   "execution_count": 10,
   "metadata": {
    "collapsed": false,
    "deletable": false,
    "nbgrader": {
     "checksum": "99afafba5c5c874e1cc4f191fb866de7",
     "grade": true,
     "grade_id": "tkbody",
     "locked": false,
     "points": 5,
     "solution": true
    }
   },
   "outputs": [
    {
     "ename": "NameError",
     "evalue": "name 'Body' is not defined",
     "output_type": "error",
     "traceback": [
      "\u001b[1;31m---------------------------------------------------------------------------\u001b[0m",
      "\u001b[1;31mNameError\u001b[0m                                 Traceback (most recent call last)",
      "\u001b[1;32m<ipython-input-10-529ef7e0c097>\u001b[0m in \u001b[0;36m<module>\u001b[1;34m()\u001b[0m\n\u001b[1;32m----> 1\u001b[1;33m \u001b[1;32mclass\u001b[0m \u001b[0mTkBody\u001b[0m\u001b[1;33m(\u001b[0m\u001b[0mBody\u001b[0m\u001b[1;33m)\u001b[0m\u001b[1;33m:\u001b[0m\u001b[1;33m\u001b[0m\u001b[0m\n\u001b[0m\u001b[0;32m      2\u001b[0m     \u001b[1;32mdef\u001b[0m \u001b[0m__init__\u001b[0m\u001b[1;33m(\u001b[0m\u001b[0mself\u001b[0m\u001b[1;33m,\u001b[0m \u001b[0mmass\u001b[0m \u001b[1;33m=\u001b[0m \u001b[1;36m0\u001b[0m\u001b[1;33m,\u001b[0m \u001b[0mposition\u001b[0m \u001b[1;33m=\u001b[0m \u001b[0mVector\u001b[0m\u001b[1;33m(\u001b[0m\u001b[1;36m0\u001b[0m\u001b[1;33m,\u001b[0m\u001b[1;36m0\u001b[0m\u001b[1;33m,\u001b[0m\u001b[1;36m0\u001b[0m\u001b[1;33m)\u001b[0m\u001b[1;33m,\u001b[0m \u001b[0mvelocity\u001b[0m \u001b[1;33m=\u001b[0m \u001b[0mVector\u001b[0m\u001b[1;33m(\u001b[0m\u001b[1;36m0\u001b[0m\u001b[1;33m,\u001b[0m\u001b[1;36m0\u001b[0m\u001b[1;33m,\u001b[0m\u001b[1;36m0\u001b[0m\u001b[1;33m)\u001b[0m\u001b[1;33m,\u001b[0m \u001b[0mname\u001b[0m \u001b[1;33m=\u001b[0m \u001b[1;32mNone\u001b[0m\u001b[1;33m,\u001b[0m \u001b[0msize\u001b[0m \u001b[1;33m=\u001b[0m \u001b[1;32mNone\u001b[0m\u001b[1;33m,\u001b[0m \u001b[0mcolor\u001b[0m \u001b[1;33m=\u001b[0m \u001b[1;32mNone\u001b[0m\u001b[1;33m)\u001b[0m\u001b[1;33m:\u001b[0m\u001b[1;33m\u001b[0m\u001b[0m\n\u001b[0;32m      3\u001b[0m         \u001b[0mBody\u001b[0m\u001b[1;33m.\u001b[0m\u001b[0m__init__\u001b[0m\u001b[1;33m(\u001b[0m\u001b[0mself\u001b[0m\u001b[1;33m,\u001b[0m \u001b[0mmass\u001b[0m\u001b[1;33m,\u001b[0m \u001b[0mposition\u001b[0m\u001b[1;33m,\u001b[0m \u001b[0mvelocity\u001b[0m\u001b[1;33m,\u001b[0m \u001b[0mname\u001b[0m\u001b[1;33m)\u001b[0m\u001b[1;33m\u001b[0m\u001b[0m\n\u001b[0;32m      4\u001b[0m         \u001b[0mself\u001b[0m\u001b[1;33m.\u001b[0m\u001b[0m_size\u001b[0m \u001b[1;33m=\u001b[0m \u001b[0msize\u001b[0m\u001b[1;33m\u001b[0m\u001b[0m\n\u001b[0;32m      5\u001b[0m         \u001b[0mself\u001b[0m\u001b[1;33m.\u001b[0m\u001b[0m_color\u001b[0m \u001b[1;33m=\u001b[0m \u001b[0mcolor\u001b[0m\u001b[1;33m\u001b[0m\u001b[0m\n",
      "\u001b[1;31mNameError\u001b[0m: name 'Body' is not defined"
     ]
    }
   ],
   "source": [
    "class TkBody(Body):\n",
    "    def __init__(self, mass = 0, position = Vector(0,0,0), velocity = Vector(0,0,0), name = None, size = None, color = None):\n",
    "        Body.__init__(self, mass, position, velocity, name)\n",
    "        self._size = size\n",
    "        self._color = color\n",
    "        self._graphic = None\n",
    "\n",
    "    def __repr__(self):\n",
    "        s = Body.__repr__(self)\n",
    "        return s + ' d = {:d} {:s}'.format(self._size, self._color)\n",
    "\n",
    "    def size(self):\n",
    "        return self._size\n",
    "\n",
    "    def color(self):\n",
    "        return self._color\n",
    "\n",
    "    def graphic(self):\n",
    "        return self._graphic\n",
    "    \n",
    "    def set_graphic(self, x):\n",
    "        self._graphic = x\n",
    "\n",
    "    def draw(self):\n",
    "        # YOUR CODE HERE\n",
    "        pass\n",
    "\n",
    "    def move(self, dt):\n",
    "        if self._graphic is None:\n",
    "            return\n",
    "        cur = self.position()\n",
    "        super().move(dt)\n",
    "        delta = (self.position() - cur) * TkBody.scale\n",
    "        a = TkBody.canvas.coords(self._graphic)\n",
    "        x0 = a[0] + self._size \n",
    "        y0 = a[1] + self._size\n",
    "        dx, dy = delta.x(), delta.y()\n",
    "        TkBody.canvas.create_line(x0, y0, x0+dx, y0+dy, width=1, fill='#777777')\n",
    "        TkBody.canvas.move(self._graphic, dx, dy)\n",
    "        TkBody.canvas.lift(self._graphic)\n",
    "    \n",
    "    canvas = None\n",
    "    center = Vector(0,0,0)\n",
    "    scale = 0\n",
    "\n",
    "    @staticmethod\n",
    "    def init_canvas(canvas):\n",
    "        TkBody.canvas = canvas\n",
    "        TkBody.center = Vector(int(canvas['width'])//2, int(canvas['height'])//2, 0)\n",
    "\n",
    "    @staticmethod\n",
    "    def set_scale(d):\n",
    "        size = min(int(TkBody.canvas['width']), int(TkBody.canvas['height']))\n",
    "        TkBody.scale = (size / 2.5) * (1 / d)\n"
   ]
  },
  {
   "cell_type": "markdown",
   "metadata": {},
   "source": [
    "##### <span style=\"color:red\">Tests:</span>"
   ]
  },
  {
   "cell_type": "markdown",
   "metadata": {
    "nbgrader": {
     "grade": false,
     "locked": false,
     "points": 30,
     "solution": false
    }
   },
   "source": [
    "Use the following code cell as a \"sandbox\" if you want to do your own tests.  You can add additional cells here if you want."
   ]
  },
  {
   "cell_type": "code",
   "execution_count": null,
   "metadata": {
    "collapsed": true
   },
   "outputs": [],
   "source": []
  },
  {
   "cell_type": "markdown",
   "metadata": {},
   "source": [
    "##### <span style=\"color:red\">Autograder Tests:</span>"
   ]
  },
  {
   "cell_type": "markdown",
   "metadata": {},
   "source": [
    "**Important:** &nbsp;  the code cells in this section will be used by `nbgrader` to run automated tests.  Do not move, delete or alter these cells in any way."
   ]
  },
  {
   "cell_type": "code",
   "execution_count": null,
   "metadata": {
    "collapsed": false,
    "deletable": false,
    "nbgrader": {
     "checksum": "a8b13e9596d7e87fbbbdaa01fdba93b6",
     "grade": true,
     "grade_id": "tkbody_test1",
     "locked": true,
     "points": 5,
     "solution": false
    }
   },
   "outputs": [],
   "source": [
    "app = tk.Tk()\n",
    "canvas = tk.Canvas(app, height=400,width=400)\n",
    "canvas.pack()\n",
    "\n",
    "TkBody.init_canvas(canvas)\n",
    "bodies = read_bodies('solarsystem.txt', TkBody)\n",
    "TkBody.set_scale(max([b.position().norm() for b in bodies[:2]]))\n",
    "bodies[0].draw()\n",
    "bodies[1].draw()\n",
    "\n",
    "assert [canvas.type(x) for x in canvas.find_all()].count('oval') == 2\n",
    "assert canvas.coords(bodies[0].graphic()) == [190, 190, 210, 210]"
   ]
  },
  {
   "cell_type": "code",
   "execution_count": null,
   "metadata": {
    "collapsed": false,
    "deletable": false,
    "nbgrader": {
     "checksum": "a19fc9ed66a985492aa3e8c35171f92f",
     "grade": true,
     "grade_id": "tkbody_test2",
     "locked": true,
     "points": 5,
     "solution": false
    }
   },
   "outputs": [],
   "source": [
    "step_system(bodies, nsteps=10)\n",
    "\n",
    "assert list(map(round, canvas.coords(bodies[1].graphic()))) == [167, 344, 173, 350]\n",
    "tk_objects = canvas.find_all()\n",
    "assert len(tk_objects) == 22\n",
    "assert [canvas.type(x) for x in tk_objects].count('line') == 20"
   ]
  },
  {
   "cell_type": "markdown",
   "metadata": {},
   "source": [
    "####  <span style=\"color:teal\">Part 4: &nbsp; Simulation (20 points)</span>"
   ]
  },
  {
   "cell_type": "markdown",
   "metadata": {},
   "source": [
    "The final part of the project is to put the pieces together.  The code cell below has the definition of the top level NBFrame (\"n-body frame\") object.  It will contain a canvas, a load button, and instances of the two components you wrote.\n",
    "\n",
    "There is only one thing you need to add:  when the \"load\" button is clicked, the callback named `load_cb` will be called.  Define the body of this method so it uses a the `askopenfilename` method of `tkinter.filedialog` to ask the user for the name of a file containing solar system data.  Pass the name of the file in a call to `read_bodies`, telling it to make a list of TkBody objects, and save the list in an instance variable:\n",
    "```\n",
    "self._bodies = read_bodies(fn, TkBody)\n",
    "```\n",
    "Now call the the `draw` method for each body in the list, which will place circles on the canvas, and finally call the `reset` method of the view frame to initialize the spinbox with the number of bodies in the list:\n",
    "```\n",
    "self.view_frame.reset(len(self._bodies))\n",
    "```"
   ]
  },
  {
   "cell_type": "markdown",
   "metadata": {},
   "source": [
    "##### <span style=\"color:red\">Documentation:</span>"
   ]
  },
  {
   "cell_type": "markdown",
   "metadata": {},
   "source": [
    "Use the markdown cell below to describe what you did to implement your NBodyFrame class."
   ]
  },
  {
   "cell_type": "markdown",
   "metadata": {
    "deletable": false,
    "nbgrader": {
     "checksum": "f5b73bd19085214c4902cefdf79d621c",
     "grade": true,
     "grade_id": "doc_4",
     "locked": false,
     "points": 5,
     "solution": true
    }
   },
   "source": [
    "YOUR ANSWER HERE"
   ]
  },
  {
   "cell_type": "markdown",
   "metadata": {},
   "source": [
    "##### <span style=\"color:red\">Code:</span>"
   ]
  },
  {
   "cell_type": "markdown",
   "metadata": {},
   "source": [
    "**Important:** &nbsp; Add your Python code to the following code cell.  Do not delete, rename, or copy this cell."
   ]
  },
  {
   "cell_type": "code",
   "execution_count": null,
   "metadata": {
    "collapsed": false,
    "deletable": false,
    "nbgrader": {
     "checksum": "5809cd301444f36b94ffc3d749a2cd6d",
     "grade": true,
     "grade_id": "nb_frame",
     "locked": false,
     "points": 5,
     "solution": true
    }
   },
   "outputs": [],
   "source": [
    "class NBodyFrame(tk.Frame):\n",
    "    \n",
    "    def __init__(self, parent):\n",
    "        tk.Frame.__init__(self, parent)\n",
    "                        \n",
    "        self.drawing = tk.Canvas(self, height=600, width=600, background='gray90', highlightthickness=0)\n",
    "        self.drawing.grid(row = 0, column = 0, columnspan = 3, padx = 10, pady = 10, sticky=\"nsew\")\n",
    "        TkBody.init_canvas(self.drawing)\n",
    "        \n",
    "        tk.Button(self, text='Load', command=self.load_cb).grid(row=1, column=0, pady = 20)\n",
    "        \n",
    "        self.view_frame = ViewFrame(self, self.view_cb)\n",
    "        self.view_frame.grid(row=1, column=1, pady=20)\n",
    "        \n",
    "        self.run_frame = RunFrame(self, self.run_cb)\n",
    "        self.run_frame.grid(row=1, column=2, pady=20)\n",
    "        \n",
    "        self.columnconfigure(0, weight=1)\n",
    "        self.rowconfigure(0, weight=1)\n",
    "        self.rowconfigure(0, weight=2)\n",
    "        for i in range(3):\n",
    "            self.columnconfigure(i, weight=2)\n",
    "            \n",
    "        self._bodies = []\n",
    "                        \n",
    "    def load_cb(self):\n",
    "        # YOUR CODE HERE\n",
    "        pass\n",
    " \n",
    "    def view_cb(self):\n",
    "        for pid in self.drawing.find_all():\n",
    "            self.drawing.delete(pid)\n",
    "        n = self.view_frame.nbodies()\n",
    "        TkBody.set_scale(max([b.position().norm() for b in self._bodies[:n]]))            \n",
    "        for body in self._bodies[:n]:\n",
    "            body.draw()\n",
    "        for body in self._bodies[n:]:\n",
    "            body.set_graphic(None)\n",
    "        \n",
    "    def run_cb(self):\n",
    "        nsteps = self.run_frame.nsteps()\n",
    "        self.run_frame.target(nsteps)\n",
    "        dt = self.run_frame.dt()\n",
    "        for i in range(nsteps):\n",
    "            step_system(self._bodies, dt)\n",
    "            self.run_frame.update_progress(1)\n",
    "            self.update_idletasks()\n",
    "            sleep(0.02)\n",
    "            \n",
    "\n"
   ]
  },
  {
   "cell_type": "markdown",
   "metadata": {},
   "source": [
    "##### <span style=\"color:red\">Tests:</span>"
   ]
  },
  {
   "cell_type": "markdown",
   "metadata": {
    "nbgrader": {
     "grade": false,
     "locked": false,
     "points": 30,
     "solution": false
    }
   },
   "source": [
    "Use the following code cell as a \"sandbox\" if you want to do your own tests.  You can add additional cells here if you want."
   ]
  },
  {
   "cell_type": "code",
   "execution_count": null,
   "metadata": {
    "collapsed": true
   },
   "outputs": [],
   "source": []
  },
  {
   "cell_type": "markdown",
   "metadata": {},
   "source": [
    "##### <span style=\"color:red\">Autograder Tests:</span>"
   ]
  },
  {
   "cell_type": "markdown",
   "metadata": {},
   "source": [
    "**Important:** &nbsp;  the code cells in this section will be used by `nbgrader` to run automated tests.  Do not move, delete or alter these cells in any way."
   ]
  },
  {
   "cell_type": "code",
   "execution_count": null,
   "metadata": {
    "collapsed": false,
    "deletable": false,
    "nbgrader": {
     "checksum": "9035b4727b90300cf17d3697722d0f06",
     "grade": false,
     "grade_id": "nb_setup",
     "locked": true,
     "solution": false
    }
   },
   "outputs": [],
   "source": [
    "nb = NBodyFrame(tk.Tk())\n",
    "nb.pack()"
   ]
  },
  {
   "cell_type": "code",
   "execution_count": null,
   "metadata": {
    "collapsed": false,
    "deletable": false,
    "nbgrader": {
     "checksum": "27295f499f37c70c22ba6af2e1e96a54",
     "grade": true,
     "grade_id": "nb_test1",
     "locked": true,
     "points": 5,
     "solution": false
    }
   },
   "outputs": [],
   "source": [
    "dialog = tk.filedialog.askopenfilename\n",
    "try:\n",
    "    tk.filedialog.askopenfilename = lambda : ''\n",
    "    nb.load_cb()\n",
    "    assert len(nb._bodies) == 0\n",
    "finally:\n",
    "    tk.filedialog.askopenfilename = dialog\n"
   ]
  },
  {
   "cell_type": "code",
   "execution_count": null,
   "metadata": {
    "collapsed": false,
    "deletable": false,
    "nbgrader": {
     "checksum": "acd17dc738941b444a8efc23c315a054",
     "grade": true,
     "grade_id": "nb_test2",
     "locked": true,
     "points": 5,
     "solution": false
    }
   },
   "outputs": [],
   "source": [
    "dialog = tk.filedialog.askopenfilename\n",
    "try:\n",
    "    tk.filedialog.askopenfilename = lambda : 'solarsystem.txt'\n",
    "    nb.load_cb()\n",
    "    assert len(nb._bodies) == 10\n",
    "finally:\n",
    "    tk.filedialog.askopenfilename = dialog\n"
   ]
  },
  {
   "cell_type": "markdown",
   "metadata": {},
   "source": [
    "####  <span style=\"color:teal\">Top Level App</span>"
   ]
  },
  {
   "cell_type": "markdown",
   "metadata": {},
   "source": [
    "If you want to make a top level application that runs your program run the code in this cell.\n",
    "\n",
    "If you are exporting the code cells to a stand-alone Python program add a call to `tk.mainloop` when the program is run from the command line."
   ]
  },
  {
   "cell_type": "code",
   "execution_count": null,
   "metadata": {
    "collapsed": false
   },
   "outputs": [],
   "source": [
    "root = tk.Tk()\n",
    "root.title(\"Solar System\")\n",
    "\n",
    "nb = NBodyFrame(root)\n",
    "nb.pack()"
   ]
  },
  {
   "cell_type": "code",
   "execution_count": null,
   "metadata": {
    "collapsed": true
   },
   "outputs": [],
   "source": []
  }
 ],
 "metadata": {
  "kernelspec": {
   "display_name": "Python 3",
   "language": "python",
   "name": "python3"
  },
  "language_info": {
   "codemirror_mode": {
    "name": "ipython",
    "version": 3
   },
   "file_extension": ".py",
   "mimetype": "text/x-python",
   "name": "python",
   "nbconvert_exporter": "python",
   "pygments_lexer": "ipython3",
   "version": "3.5.1"
  }
 },
 "nbformat": 4,
 "nbformat_minor": 0
}
