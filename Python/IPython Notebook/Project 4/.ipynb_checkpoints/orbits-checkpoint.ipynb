{
 "cells": [
  {
   "cell_type": "markdown",
   "metadata": {},
   "source": [
    "# <span style=\"color:teal;\">CIS 211 Project 4:  Orbits</span>"
   ]
  },
  {
   "cell_type": "markdown",
   "metadata": {},
   "source": [
    "##### Due 11:00 P.M. January 29, 2016"
   ]
  },
  {
   "cell_type": "markdown",
   "metadata": {},
   "source": [
    "##### Reading:  M&R 10.6.3"
   ]
  },
  {
   "cell_type": "markdown",
   "metadata": {},
   "source": [
    "This week's project will build on the Vector and Body classes from last week in order to create a complete simulation of the Solar System."
   ]
  },
  {
   "cell_type": "markdown",
   "metadata": {},
   "source": [
    "###  <span style=\"color:teal\">Compiled Python (`.pyc`) Files </span>"
   ]
  },
  {
   "cell_type": "markdown",
   "metadata": {},
   "source": [
    "Before you start this project you will need to download one or two files from Canvas.  The files you need have names that end with `cpython-3x.pyc` where `x` is either 4 or 5.  \n",
    "* type this command to see which version of Python you have:\n",
    "```\n",
    "$ python3 --version\n",
    "```\n",
    "* if you have 3.5.x you want to download the `pyc` files that have \"35\" in their names\n",
    "* if you are running 3.4.x download files with \"34\" in their names"
   ]
  },
  {
   "cell_type": "markdown",
   "metadata": {},
   "source": [
    "#### `Canvas.pyc`"
   ]
  },
  {
   "cell_type": "markdown",
   "metadata": {},
   "source": [
    "You need to have a file named `Canvas.pyc` -- that's the definition of the Canvas class used to display the motion of the planets.\n",
    "\n",
    "Download one of the `Canvas.cpython-3x.pyc` files, rename it `Canvas.pyc`, and move it to the same folder as this notebook."
   ]
  },
  {
   "cell_type": "markdown",
   "metadata": {},
   "source": [
    "#### `Body` and `Vector` Classes "
   ]
  },
  {
   "cell_type": "markdown",
   "metadata": {},
   "source": [
    "Your project also needs to use the Body and Vector classes from last week's assignment.  For this you have two choices:  you can use your own code, or you can use a `pyc` file containing our solution.\n",
    "\n",
    "If you want to use your own code, you can copy the cells to this notebook, or you can learn how to use `nbconvert` to export a `.py` file from your previous notebook. **Rename the exported file to `Body.py`** and move it to the directory for this notebook.\n",
    "\n",
    "If you want to use the instructors' solution download one of the `Body.cpython-3x.pyc` files, rename it `Body.pyc`, and move it to the same folder as this notebook."
   ]
  },
  {
   "cell_type": "markdown",
   "metadata": {},
   "source": [
    "###  <span style=\"color:teal\">Part 1: Canvas (25 points)</span>"
   ]
  },
  {
   "cell_type": "markdown",
   "metadata": {},
   "source": [
    "This first project makes sure you can create and use a graphics window using the Canvas class.\n",
    "\n",
    "Fill in the definition of the function named `graphics_demo`.  The function takes 4 arguments:\n",
    "* `circle_size`, which will determine the radius of a circle that will be drawn on the canvas\n",
    "* `circle_position`, a tuple with the `x` and `y` coordinates of the circle\n",
    "* `segment_size`, the length of a line segment to track the motion of the circle\n",
    "* `num_segments`, an integer that specifies the number of times the circle will be moved\n",
    "\n",
    "When the function is called, create a Circle object at the specified location.  Then execute a loop that moves the circle to the right.  The number of loop iterations is determined by `num_segments`, and the distance the circle moves on each iteration is determined by `segment_size`.\n",
    "\n",
    "To draw a dashed line that shows the motion of the circle, the `track` option passed to the `move` method should alternate between True and False on successive iterations.\n",
    "\n",
    "Example: if you call\n",
    "```\n",
    "graphics_demo(10, (100,100), 5, 20)\n",
    "```\n",
    "you should see this on your screen:\n",
    "\n",
    "<img src=\"http://www.cs.uoregon.edu/classes/16W/cis211/images/yellow_circle.png\"/>\n"
   ]
  },
  {
   "cell_type": "markdown",
   "metadata": {},
   "source": [
    "##### <span style=\"color:red\">Documentation:</span>"
   ]
  },
  {
   "cell_type": "markdown",
   "metadata": {},
   "source": [
    "Use the markdown cell below to describe what your fucntion does and anything interesting about your function."
   ]
  },
  {
   "cell_type": "markdown",
   "metadata": {
    "deletable": false,
    "nbgrader": {
     "checksum": "302554b4abe15bfed559e79f80a06046",
     "grade": true,
     "grade_id": "doc_1",
     "locked": false,
     "points": 5,
     "solution": true
    }
   },
   "source": [
    "YOUR ANSWER HERE"
   ]
  },
  {
   "cell_type": "markdown",
   "metadata": {},
   "source": [
    "##### <span style=\"color:red\">Code:</span>"
   ]
  },
  {
   "cell_type": "markdown",
   "metadata": {},
   "source": [
    "Execute this code cell each time you open the notebook.  Do not remove the code cell or alter it in any way or the auto-grader might fail."
   ]
  },
  {
   "cell_type": "code",
   "execution_count": null,
   "metadata": {
    "collapsed": true
   },
   "outputs": [],
   "source": [
    "%gui tk\n",
    "from Canvas import *"
   ]
  },
  {
   "cell_type": "markdown",
   "metadata": {
    "collapsed": true
   },
   "source": [
    "Use the following code cell to write your `graphics_demo` function."
   ]
  },
  {
   "cell_type": "code",
   "execution_count": null,
   "metadata": {
    "collapsed": false,
    "deletable": false,
    "nbgrader": {
     "checksum": "cc9e52f29add392431e4ebc91a869fa0",
     "grade": true,
     "grade_id": "graphics_demo",
     "locked": false,
     "points": 5,
     "solution": true
    }
   },
   "outputs": [],
   "source": [
    "def graphics_demo(circle_size, circle_position, segment_size, num_segments):\n",
    "    # YOUR CODE HERE\n",
    "    raise NotImplementedError()"
   ]
  },
  {
   "cell_type": "markdown",
   "metadata": {},
   "source": [
    "##### <span style=\"color:red\">Tests:</span>"
   ]
  },
  {
   "cell_type": "markdown",
   "metadata": {
    "nbgrader": {
     "grade": false,
     "locked": false,
     "points": 30,
     "solution": false
    }
   },
   "source": [
    "Use the following code cell as a \"sandbox\" if you want to do your own tests.  You can add additional cells here if you want."
   ]
  },
  {
   "cell_type": "code",
   "execution_count": null,
   "metadata": {
    "collapsed": true
   },
   "outputs": [],
   "source": []
  },
  {
   "cell_type": "markdown",
   "metadata": {},
   "source": [
    "##### <span style=\"color:red\">Autograder Tests:</span>"
   ]
  },
  {
   "cell_type": "markdown",
   "metadata": {},
   "source": [
    "**Important:** &nbsp;  the code cells in this section will be used by `nbgrader` to run automated tests.  Do not delete or alter these cells in any way."
   ]
  },
  {
   "cell_type": "code",
   "execution_count": null,
   "metadata": {
    "collapsed": true,
    "deletable": false,
    "nbgrader": {
     "checksum": "895fadfd0dbb286b73201d7c42ceba8a",
     "grade": true,
     "grade_id": "call_succeeds",
     "locked": true,
     "points": 5,
     "solution": false
    }
   },
   "outputs": [],
   "source": [
    "assert graphics_demo(10, (100,100), 5, 20) is None"
   ]
  },
  {
   "cell_type": "code",
   "execution_count": null,
   "metadata": {
    "collapsed": false,
    "deletable": false,
    "nbgrader": {
     "checksum": "c9b8ce7dcaf5fdafd90ab79ad60897df",
     "grade": true,
     "grade_id": "has_all_objects",
     "locked": true,
     "points": 5,
     "solution": false
    }
   },
   "outputs": [],
   "source": [
    "assert len(Canvas.drawing.find_all()) == 11"
   ]
  },
  {
   "cell_type": "code",
   "execution_count": null,
   "metadata": {
    "collapsed": false,
    "deletable": false,
    "nbgrader": {
     "checksum": "17368dd7cdf23c4e2d9e8d60286753f3",
     "grade": true,
     "grade_id": "test_circle",
     "locked": true,
     "points": 5,
     "solution": false
    }
   },
   "outputs": [],
   "source": [
    "circle = sorted(Canvas.drawing.find_all())[0]\n",
    "assert Canvas.drawing.coords(circle) == [190, 90, 210, 110]"
   ]
  },
  {
   "cell_type": "markdown",
   "metadata": {
    "collapsed": true
   },
   "source": [
    "###  <span style=\"color:teal\">Part 2: Solar System (25 points)</span>"
   ]
  },
  {
   "cell_type": "markdown",
   "metadata": {},
   "source": [
    "Fill in the body of the function named `step_system`.  The arguments to this function are\n",
    "* a list of Body objects\n",
    "* a time step size (default 86459, the number of seconds in 1/365 of a year)\n",
    "* the number of time steps to simulate (default 1)\n",
    "\n",
    "On each iteration the function needs to compute all pairs of interactions using calls to `add_force`, move the bodies using the accumulated forces, and then clear the force vectors to get ready for the next round.\n",
    "\n",
    "For example, to simulate one year of the Solar System, using the specifications in the solar system data file:\n",
    "```\n",
    "sys = make_system(\"solarsystem.txt\")\n",
    "step_system(sys, nsteps=365)\n",
    "```\n",
    "Note: you can put a copy of the `solarsystem.txt` file from last week's project in the same directory as this notebook, or you can pass the path to the file."
   ]
  },
  {
   "cell_type": "markdown",
   "metadata": {},
   "source": [
    "##### <span style=\"color:red\">Documentation:</span>"
   ]
  },
  {
   "cell_type": "markdown",
   "metadata": {},
   "source": [
    "Use the markdown cell below to describe what your fucntion does and anything interesting about your function."
   ]
  },
  {
   "cell_type": "markdown",
   "metadata": {
    "deletable": false,
    "nbgrader": {
     "checksum": "d94a32b06da228fc2d5d568f00ba0456",
     "grade": true,
     "grade_id": "doc_2",
     "locked": false,
     "points": 5,
     "solution": true
    }
   },
   "source": [
    "YOUR ANSWER HERE"
   ]
  },
  {
   "cell_type": "markdown",
   "metadata": {},
   "source": [
    "##### <span style=\"color:red\">Code:</span>"
   ]
  },
  {
   "cell_type": "markdown",
   "metadata": {
    "collapsed": true
   },
   "source": [
    "Use the following code cell to write your `step_system` function."
   ]
  },
  {
   "cell_type": "code",
   "execution_count": null,
   "metadata": {
    "collapsed": false,
    "deletable": false,
    "nbgrader": {
     "checksum": "649c00be9fb9d00aa9fbdce62a5f957c",
     "grade": true,
     "grade_id": "step_system",
     "locked": false,
     "points": 10,
     "solution": true
    }
   },
   "outputs": [],
   "source": [
    "from Body import *\n",
    "\n",
    "def step_system(bodies, dt=86459, nsteps=1):\n",
    "    # YOUR CODE HERE\n",
    "    raise NotImplementedError()"
   ]
  },
  {
   "cell_type": "markdown",
   "metadata": {},
   "source": [
    "##### <span style=\"color:red\">Tests:</span>"
   ]
  },
  {
   "cell_type": "markdown",
   "metadata": {},
   "source": [
    "For this part of the project you do not need to write your own tests -- you can just run the autograder test cells below.  If you do want to make your own tests use the code cell below."
   ]
  },
  {
   "cell_type": "code",
   "execution_count": null,
   "metadata": {
    "collapsed": true
   },
   "outputs": [],
   "source": []
  },
  {
   "cell_type": "markdown",
   "metadata": {},
   "source": [
    "##### <span style=\"color:red\">Autograder Tests:</span>"
   ]
  },
  {
   "cell_type": "markdown",
   "metadata": {},
   "source": [
    "**Important:** &nbsp;  the code cells in this section will be used by `nbgrader` to run automated tests.  Do not delete or alter these cells in any way."
   ]
  },
  {
   "cell_type": "markdown",
   "metadata": {
    "collapsed": false
   },
   "source": [
    "Test 1:  make a copy of the object that representes Mercury, then run the simulation using parameters that define one full orbit for Mercury (around 88 Earth days).  Compare the new position of Mercury with the original to make sure the planet is close to where it started."
   ]
  },
  {
   "cell_type": "code",
   "execution_count": null,
   "metadata": {
    "collapsed": false,
    "deletable": false,
    "nbgrader": {
     "checksum": "e108fa0fb56ec7805e38d937843263f1",
     "grade": true,
     "grade_id": "mercury_orbit",
     "locked": true,
     "points": 5,
     "solution": false
    }
   },
   "outputs": [],
   "source": [
    "from copy import copy\n",
    "\n",
    "ss = make_system('solarsystem.txt')\n",
    "mercury = copy(ss[1])\n",
    "step_system(ss, nsteps=1000, dt=7600.5216)\n",
    "\n",
    "assert abs(mercury.position().x() - ss[1].position().x()) < 1e10\n",
    "assert abs(mercury.position().y() - ss[1].position().y()) < 1e10\n",
    "assert abs(mercury.position().z() - ss[1].position().z()) < 1e10\n"
   ]
  },
  {
   "cell_type": "markdown",
   "metadata": {},
   "source": [
    "Test 2:  The Sun also moves during a simulation.  This test checks how far it moved from its original location at (0,0,0).  The expected value is approximately 4.9 kilometers."
   ]
  },
  {
   "cell_type": "code",
   "execution_count": null,
   "metadata": {
    "collapsed": false,
    "deletable": false,
    "nbgrader": {
     "checksum": "351e84f92d3fd0497b0e0b1578d8afdf",
     "grade": true,
     "grade_id": "sun_test",
     "locked": true,
     "points": 5,
     "solution": false
    }
   },
   "outputs": [],
   "source": [
    "assert 4900000 < ss[0].position().norm() < 4900100"
   ]
  },
  {
   "cell_type": "markdown",
   "metadata": {
    "collapsed": true
   },
   "source": [
    "###  <span style=\"color:teal\">Part 3: Visualizing Body Objects (40 points)</span>"
   ]
  },
  {
   "cell_type": "markdown",
   "metadata": {
    "collapsed": false
   },
   "source": [
    "Define a new class named VBody (the V stands for \"visualizable\").  The new class uses the existing Body class as a base class.\n",
    "\n",
    "The `__init__` method should have all the same arguments as the constructor for the Body class, plus two new arguments:\n",
    "* `size`, which will be the radius of the circle representing the body\n",
    "* `color`, a string that defines the circle's color\n",
    "\n",
    "The method should also initialize an additional instance variable named `_graphic` to None; when the body is drawn on the canvas this variable will refer to the circle for the body.\n",
    "\n",
    "The class should have accessor functions that return the body's size, color, and graphic attributes.\n",
    "\n",
    "The class should have two **class variables** (variables defined inside the class, but not part of any instance).  One, named `scale`, will be a scale factor that will be used to translate planet coordinates into screen coordinates.  The other, named `center`, will be a vector that defines the screen coordinates of the Sun.\n",
    "\n",
    "Define two **static methods** that set the values of the class variables:\n",
    "* `set_scale` will be passed a float and should use it to set the value of `VBody.scale`\n",
    "* `set_center` will be passed a Vector, and it should save a reference to this vector in `VBody.center`\n",
    "\n",
    "Define a method named `draw` that will create a Canvas.Circle object for this body, using the size and color that were passed to the constructor.  To determine the $x$ and $y$ coordinates of the circle you need to scale the body's position vector add the location of the center of the Sun:\n",
    "\n",
    "$$\n",
    "\\mathrm{loc} = \\mathrm{position} \\times \\mathrm{scale} + \\mathrm{center}\n",
    "$$\n",
    "\n",
    "Save a reference to the circle in this object's `_graphic` variable.\n",
    "\n",
    "Define a method named `move` that overrides the parent class `move` method.  It will have one argument, `dt`.  This method should call the parent class method to update the body's position, and then use the Circle class `move` method to move the circle on the screen.  Here is one way to do it:\n",
    "* save the body's current position vector in a local variable named `cur`\n",
    "* call the parent class `move` method\n",
    "* compute a vector named `delta` that the difference between `cur` and the new position of the body\n",
    "* multiply `delta` by the scale factor in `VBody.scale`, and use the resulting `x` and `y` coordinates as the arguments passed to the Circle class `move` method.\n",
    "Don't forget to have the Circle class leave a track so you can see the planet's orbit.\n",
    "\n",
    "**Note:** not all VBody objects will have a graphic.  Some visualizations will show only the inner planets.  Your `move` method always needs to call the parent class `move`, but it should only call the Circle class `move` if `_graphic` is not None."
   ]
  },
  {
   "cell_type": "markdown",
   "metadata": {},
   "source": [
    "The following code cell contains a helper function that you can use to create VBody objects.  It works just like the `make_system` function from last week's project, except it takes the name of a class as an argument.\n",
    "\n",
    "Passing Body to the function will work exactly like a call to `make_system` and return a list of Body objects:\n",
    "```\n",
    ">>> read_bodies(\"solarsystem.txt\", Body)\n",
    "```\n",
    "\n",
    "If you pass VBody to the function you will get back a list of VBody objects:\n",
    "```\n",
    ">>> read_bodies(\"solarsystem.txt\", Body)\n",
    "```\n",
    "When VBody is passed to `read_bodies` the size and color specifications from the file are passed to the VBody constructor."
   ]
  },
  {
   "cell_type": "code",
   "execution_count": null,
   "metadata": {
    "collapsed": false
   },
   "outputs": [],
   "source": [
    "from Body import *\n",
    "\n",
    "def read_bodies(filename, cls):\n",
    "    '''\n",
    "    Read descriptions of planets, return a list of body objects.  The\n",
    "    type of object to make is defined by cls, which must be Body or VBody.\n",
    "    '''\n",
    "    if cls not in [Body, VBody]:\n",
    "        raise TypeError('cls must be Body or VBody')\n",
    "        \n",
    "    bodies = [ ]\n",
    "    \n",
    "    with open(filename) as bodyfile:\n",
    "        for line in bodyfile:\n",
    "            line = line.strip()\n",
    "            if len(line) == 0 or line[0] == '#':  \n",
    "                continue\n",
    "            name, m, rx, ry, rz, vx, vy, vz, diam, color = line.split()\n",
    "            args = {\n",
    "                'name': name,\n",
    "                'mass' : float(m),\n",
    "                'position' : Vector(float(rx), float(ry), float(rz)),\n",
    "                'velocity' : Vector(float(vx), float(vy), float(vz)),\n",
    "            }\n",
    "            if cls == VBody:\n",
    "                args.update({ 'color' : color, 'size' : int(diam) })\n",
    "            bodies.append(cls(**args))\n",
    "\n",
    "    return bodies"
   ]
  },
  {
   "cell_type": "markdown",
   "metadata": {},
   "source": [
    "This code cell has a helper function that will create a canvas and call the `draw` method for each body in a list.\n",
    "* it calls `set_center` so the Sun will be drawn in the middle of the canvas\n",
    "* it figures out the longest distance from the Sun to any other body and uses that distance to compute the scale factor passed to `set_scale`\n",
    "\n",
    "**Note:** If you pass the entire list of planets to `view_system` you will see all the inner planets crowded too close to the Sun.  If you want to look at only the inner planets pass the first part of the list to `view_system`, *e.g.*\n",
    "```\n",
    ">>> view_system(bodies[0:5]\n",
    "```\n",
    "will show the Sun along with Mercury, Venus, Earth, and Mars."
   ]
  },
  {
   "cell_type": "code",
   "execution_count": null,
   "metadata": {
    "collapsed": false
   },
   "outputs": [],
   "source": [
    "def view_system(lst, size=1000):\n",
    "    Canvas.init(size, size, \"Solar System\")\n",
    "    VBody.set_center(Vector(size//2, size//2, 0))\n",
    "    VBody.set_scale((size/2) * (1 / max([b.position().norm() for b in lst])))\n",
    "    for body in lst:\n",
    "        body.draw()"
   ]
  },
  {
   "cell_type": "markdown",
   "metadata": {},
   "source": [
    "##### <span style=\"color:red\">Documentation:</span>"
   ]
  },
  {
   "cell_type": "markdown",
   "metadata": {},
   "source": [
    "Describe your VBody class in the following markdown cell.  Explain what your constructor does and how the class variables `scale` and `center` are used."
   ]
  },
  {
   "cell_type": "markdown",
   "metadata": {
    "deletable": false,
    "nbgrader": {
     "checksum": "806340909530febba255a5b260941cd7",
     "grade": true,
     "grade_id": "doc_3",
     "locked": false,
     "points": 5,
     "solution": true
    }
   },
   "source": [
    "YOUR ANSWER HERE"
   ]
  },
  {
   "cell_type": "markdown",
   "metadata": {},
   "source": [
    "##### <span style=\"color:red\">Code:</span>"
   ]
  },
  {
   "cell_type": "markdown",
   "metadata": {},
   "source": [
    "Define your VBody class in the following code cell."
   ]
  },
  {
   "cell_type": "code",
   "execution_count": null,
   "metadata": {
    "collapsed": false,
    "deletable": false,
    "nbgrader": {
     "checksum": "26517c2efbed4e2ca5202a705420d83d",
     "grade": true,
     "grade_id": "vbody",
     "locked": false,
     "points": 15,
     "solution": true
    }
   },
   "outputs": [],
   "source": [
    "class VBody(Body):\n",
    "    # YOUR CODE HERE\n",
    "    raise NotImplementedError()"
   ]
  },
  {
   "cell_type": "markdown",
   "metadata": {},
   "source": [
    "##### <span style=\"color:red\">Tests:</span>"
   ]
  },
  {
   "cell_type": "markdown",
   "metadata": {
    "nbgrader": {
     "grade": false,
     "locked": false,
     "points": 30,
     "solution": false
    }
   },
   "source": [
    "Use the following code cell as a \"sandbox\" if you want to do your own tests.  You can add additional cells here if you want."
   ]
  },
  {
   "cell_type": "code",
   "execution_count": null,
   "metadata": {
    "collapsed": true
   },
   "outputs": [],
   "source": []
  },
  {
   "cell_type": "markdown",
   "metadata": {},
   "source": [
    "##### <span style=\"color:red\">Autograder Tests:</span>"
   ]
  },
  {
   "cell_type": "markdown",
   "metadata": {},
   "source": [
    "**Important:** &nbsp;  the code cells in this section will be used by `nbgrader` to run automated tests.  Do not delete or alter these cells in any way."
   ]
  },
  {
   "cell_type": "markdown",
   "metadata": {},
   "source": [
    "Test 1:  After initializing the list of bodies and drawing them on the screen the canvas should have 6 circles."
   ]
  },
  {
   "cell_type": "code",
   "execution_count": null,
   "metadata": {
    "collapsed": false,
    "deletable": false,
    "nbgrader": {
     "checksum": "e80414d63aefbc7cd212fe961fcf09b4",
     "grade": true,
     "grade_id": "view_test",
     "locked": true,
     "points": 5,
     "solution": false
    }
   },
   "outputs": [],
   "source": [
    "bodies = read_bodies('solarsystem.txt', VBody)\n",
    "view_system(bodies[:6])\n",
    "tk_objects = Canvas.drawing.find_all()\n",
    "assert [Canvas.drawing.type(x) for x in tk_objects].count('oval') == 6"
   ]
  },
  {
   "cell_type": "markdown",
   "metadata": {},
   "source": [
    "Test 2: The Sun (body 0) should be centered at (500,500).  Since it has a radius of 10 pixels the Tk coordinates are (490,490) for the upper left and (510,510) for the lower right."
   ]
  },
  {
   "cell_type": "code",
   "execution_count": null,
   "metadata": {
    "collapsed": false,
    "deletable": false,
    "nbgrader": {
     "checksum": "851638fac8ec4304b05cd2284bbfd9e3",
     "grade": true,
     "grade_id": "sun_loc",
     "locked": true,
     "points": 5,
     "solution": false
    }
   },
   "outputs": [],
   "source": [
    "assert bodies[0].graphic().coords() == [490, 490, 510, 510]"
   ]
  },
  {
   "cell_type": "markdown",
   "metadata": {},
   "source": [
    "Test 3:  After running the simulation for 10 steps there should be 60 line segments (10 per body)."
   ]
  },
  {
   "cell_type": "code",
   "execution_count": null,
   "metadata": {
    "collapsed": true,
    "deletable": false,
    "nbgrader": {
     "checksum": "82e0ec25705259d427546966ccb0502c",
     "grade": true,
     "grade_id": "step_test",
     "locked": true,
     "points": 5,
     "solution": false
    }
   },
   "outputs": [],
   "source": [
    "step_system(bodies, nsteps=10)\n",
    "\n",
    "tk_objects = Canvas.drawing.find_all()\n",
    "assert len(tk_objects) == 66\n",
    "assert [Canvas.drawing.type(x) for x in tk_objects].count('line') == 60"
   ]
  },
  {
   "cell_type": "markdown",
   "metadata": {},
   "source": [
    "Test 4: Check the location of the circle in the VBody for Earth."
   ]
  },
  {
   "cell_type": "code",
   "execution_count": null,
   "metadata": {
    "collapsed": false,
    "deletable": false,
    "nbgrader": {
     "checksum": "7ef158a5d8099f0852135520bafaabe8",
     "grade": true,
     "grade_id": "earth_circle_test",
     "locked": true,
     "points": 5,
     "solution": false
    }
   },
   "outputs": [],
   "source": [
    "assert list(map(round, bodies[3].graphic().coords())) == [463, 579, 473, 589]"
   ]
  },
  {
   "cell_type": "markdown",
   "metadata": {
    "collapsed": true
   },
   "source": [
    "###  <span style=\"color:teal\">Part 4: Simulation with VBody</span>"
   ]
  },
  {
   "cell_type": "markdown",
   "metadata": {},
   "source": [
    "If you want to slow down the simulation so you can see the motion of the planets you can execute a loop like the one below.  It tells `step_system` to run just one time step, and it tells the system to update the canvas and pause for a short time before the next time step."
   ]
  },
  {
   "cell_type": "markdown",
   "metadata": {},
   "source": [
    "```\n",
    "from time import sleep\n",
    "\n",
    "bodies = read_bodies('solarsystem.txt', VBody)\n",
    "view_system(bodies[:5])\n",
    "\n",
    "for i in range(365):\n",
    "    step_system(bodies, nsteps = 1)\n",
    "    Canvas.update()\n",
    "    sleep(0.05)\n",
    "```"
   ]
  },
  {
   "cell_type": "markdown",
   "metadata": {},
   "source": [
    "Did you notice how the call to `step_system` in the loop above was based on a list of VBody objects?\n",
    "\n",
    "When you first wrote and tested `step_system` the only way to represent a planet was with the Body class.  There was no such thing as a VBody.  Now it appears we can run a simulation with either type of object without modifying the definition of `step_system`.\n",
    "\n",
    "How is this possible?  Use the markdown cell below to explain how Python is able to carry out the simulation using VBody objects, even though the `step_system` function was written for Body objects.\n",
    "\n",
    "Make sure your write your answer in the cell below so the graders will see it assign a score to it."
   ]
  },
  {
   "cell_type": "markdown",
   "metadata": {
    "deletable": false,
    "nbgrader": {
     "checksum": "665c7fb5f453f2a9c0b1207ee1f262cd",
     "grade": true,
     "grade_id": "step_with_vbody",
     "locked": false,
     "points": 10,
     "solution": true
    }
   },
   "source": [
    "YOUR ANSWER HERE"
   ]
  }
 ],
 "metadata": {
  "kernelspec": {
   "display_name": "Python 3",
   "language": "python",
   "name": "python3"
  },
  "language_info": {
   "codemirror_mode": {
    "name": "ipython",
    "version": 3
   },
   "file_extension": ".py",
   "mimetype": "text/x-python",
   "name": "python",
   "nbconvert_exporter": "python",
   "pygments_lexer": "ipython3",
   "version": "3.5.1"
  }
 },
 "nbformat": 4,
 "nbformat_minor": 0
}
