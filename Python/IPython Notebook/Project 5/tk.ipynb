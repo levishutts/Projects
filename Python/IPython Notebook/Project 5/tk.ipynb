{
 "cells": [
  {
   "cell_type": "markdown",
   "metadata": {},
   "source": [
    "# <span style=\"color:teal;\">CIS 211 Project 5:  Building GUIs with Tk</span>"
   ]
  },
  {
   "cell_type": "markdown",
   "metadata": {},
   "source": [
    "##### Due 11:00 P.M. Friday Feb 5"
   ]
  },
  {
   "cell_type": "markdown",
   "metadata": {},
   "source": [
    "Reading:\n",
    "* [TkDocs - Tk Tutorial](http://www.tkdocs.com/tutorial/index.html)\n",
    "* [Tkinter Tutorial](http://www.python-course.eu/python_tkinter.php) from `python-course.eu`"
   ]
  },
  {
   "cell_type": "markdown",
   "metadata": {},
   "source": [
    "### <span style=\"color:teal\">Setup</span>"
   ]
  },
  {
   "cell_type": "markdown",
   "metadata": {},
   "source": [
    "Execute the following code cell to tell IPython you want to create windows with Tk and to import the `tkinter` library."
   ]
  },
  {
   "cell_type": "code",
   "execution_count": 1,
   "metadata": {
    "collapsed": false
   },
   "outputs": [],
   "source": [
    "%gui tk\n",
    "import tkinter as tk"
   ]
  },
  {
   "cell_type": "markdown",
   "metadata": {},
   "source": [
    "**Important:** &nbsp; The autograder tests assume `tkinter` has been imported as shown above.  You should follow the same convention, and refer to widget classes as `tk.Label`, `tk.Entry`, and so on."
   ]
  },
  {
   "cell_type": "markdown",
   "metadata": {},
   "source": [
    "### <span style=\"color:teal\">1. &nbsp; Hello, World (20 points)</span>"
   ]
  },
  {
   "cell_type": "markdown",
   "metadata": {},
   "source": [
    "The code cell for this project has an assignment statement that creates a top level Tk application named `hello_app`.  \n",
    "\n",
    "Add statements to the code cell so the program has a label that says \"Hello, World\":\n",
    "\n",
    "<img src=\"http://www.cs.uoregon.edu/Classes/15S/cis211/images/hello_gui.png\"/>\n",
    "\n",
    "The example above uses 24-point Helvetica.  You can use the default text, but feel free to experiment with other fonts, font sizes, colors, *etc*."
   ]
  },
  {
   "cell_type": "markdown",
   "metadata": {},
   "source": [
    "##### <span style=\"color:red\">Documentation:</span>"
   ]
  },
  {
   "cell_type": "markdown",
   "metadata": {},
   "source": [
    "Use this markdown cell to describe how the \"hello\" program works."
   ]
  },
  {
   "cell_type": "markdown",
   "metadata": {
    "collapsed": true,
    "deletable": false,
    "nbgrader": {
     "checksum": "302554b4abe15bfed559e79f80a06046",
     "grade": true,
     "grade_id": "doc_1",
     "locked": false,
     "points": 5,
     "solution": true
    }
   },
   "source": [
    "The program makes a tk Label with the text \"Hello, world!\" and packs it into an application."
   ]
  },
  {
   "cell_type": "markdown",
   "metadata": {},
   "source": [
    "##### <span style=\"color:red\">Code:</span>"
   ]
  },
  {
   "cell_type": "markdown",
   "metadata": {},
   "source": [
    "Put your hello program in the following code cell."
   ]
  },
  {
   "cell_type": "code",
   "execution_count": 3,
   "metadata": {
    "collapsed": false,
    "deletable": false,
    "nbgrader": {
     "checksum": "54524fac24a1a9ccd767849cb97cf9e2",
     "grade": true,
     "grade_id": "hello",
     "locked": false,
     "points": 5,
     "solution": true
    }
   },
   "outputs": [],
   "source": [
    "hello_app = tk.Tk()\n",
    "hello = tk.Label(hello_app, font = ('Helvetica'), text = 'Hello, world!')\n",
    "hello.pack()"
   ]
  },
  {
   "cell_type": "markdown",
   "metadata": {},
   "source": [
    "##### <span style=\"color:red\">Autograder Tests:</span>"
   ]
  },
  {
   "cell_type": "markdown",
   "metadata": {},
   "source": [
    "The three tests for this program check to see if the application has a single widget, that the widget is a label, and the label text starts with the string \"hello\".\n",
    "\n",
    "**Do not edit, copy, or delete these cells.**"
   ]
  },
  {
   "cell_type": "code",
   "execution_count": 3,
   "metadata": {
    "collapsed": false,
    "deletable": false,
    "nbgrader": {
     "checksum": "e573e8f3644273120792f3a5ff44c97e",
     "grade": true,
     "grade_id": "hello_test_1",
     "locked": true,
     "points": 2,
     "solution": false
    }
   },
   "outputs": [],
   "source": [
    "widgets = list(hello_app.children.values())\n",
    "assert len(widgets) == 1"
   ]
  },
  {
   "cell_type": "code",
   "execution_count": 4,
   "metadata": {
    "collapsed": false,
    "deletable": false,
    "nbgrader": {
     "checksum": "4e6b9baaa313348735a4d26b3c71da94",
     "grade": true,
     "grade_id": "hello_test_2",
     "locked": true,
     "points": 3,
     "solution": false
    }
   },
   "outputs": [],
   "source": [
    "widgets = list(hello_app.children.values())\n",
    "assert isinstance(widgets[0], tk.Label)"
   ]
  },
  {
   "cell_type": "code",
   "execution_count": 5,
   "metadata": {
    "collapsed": false,
    "deletable": false,
    "nbgrader": {
     "checksum": "074a6f2e0d03787a882aea5b80b944c6",
     "grade": true,
     "grade_id": "hello_test_3",
     "locked": true,
     "points": 5,
     "solution": false
    }
   },
   "outputs": [],
   "source": [
    "widgets = list(hello_app.children.values())\n",
    "assert widgets[0]['text'].lower().startswith('hello')"
   ]
  },
  {
   "cell_type": "markdown",
   "metadata": {
    "collapsed": true
   },
   "source": [
    "### <span style=\"color:teal\">2. &nbsp; Payment Calculator (50 points)</span>"
   ]
  },
  {
   "cell_type": "markdown",
   "metadata": {},
   "source": [
    "Create a program that computes the monthly payment on a loan. The payment is a function of the loan amount, the annual interest rate, and the number of years to pay off the loan. To calculate the payment, first compute two values named $r$ and $p$, defined by these equations:\n",
    "\n",
    "$ r = ( \\textrm{rate} \\; / \\; 100 ) \\; / \\; 12 $\n",
    "\n",
    "$ p = 12 \\times \\textrm{years} $\n",
    "\n",
    "The monthly payment is then\n",
    "\n",
    "$$ \\textrm{payment} = \\frac{ r \\times \\textrm{amount} }{ 1 - (1 + r)^{-p} } $$\n",
    "\n",
    "For example, if you take out a 30-year loan for \\$150,000 at an annual rate of 4.5% your payment would be \\$760.03 per month."
   ]
  },
  {
   "cell_type": "markdown",
   "metadata": {},
   "source": [
    "The GUI for this application should have four text entry boxes, and each box should have a label to its left that explains what the box holds.  The first three boxes are for the user to enter the loan amount, the interest rate, and the number of years to repay the loan. \n",
    "\n",
    "The GUI should have a button labeled “compute payment”. When the user clicks this button, your program should read the values of the three parameters, use the equations shown above to calculate the monthly payment, and display the payment amount in the fourth text entry box.\n",
    "\n",
    "<img src=\"http://www.cs.uoregon.edu/Classes/15S/cis211/images/payment_gui.png\"/>"
   ]
  },
  {
   "cell_type": "markdown",
   "metadata": {},
   "source": [
    "The code cell for this program has the outline for the program.  First fill in the body of the function named `monthly_payment` and make sure it computes the correct payment value given an amount, rate, and loan period.  When your write the button callback function have it call the `monthly_payment` function.\n",
    "\n",
    "Next add statements that create the labels, boxes, and button for the application.  When you create the Entry and Button widgets, make sure you save them in global variables with the following names so the autograder tests will succeed:\n",
    "* `amount`\n",
    "* `rate`\n",
    "* `years`\n",
    "* `payment`\n",
    "* `button`"
   ]
  },
  {
   "cell_type": "markdown",
   "metadata": {},
   "source": [
    "##### <span style=\"color:red\">Documentation:</span>"
   ]
  },
  {
   "cell_type": "markdown",
   "metadata": {},
   "source": [
    "Use this markdown cell to describe your \"payment\" program."
   ]
  },
  {
   "cell_type": "markdown",
   "metadata": {
    "deletable": false,
    "nbgrader": {
     "checksum": "92fc9443a0d8e9d326990b60d9c0ec51",
     "grade": true,
     "grade_id": "doc_2",
     "locked": false,
     "points": 10,
     "solution": true
    }
   },
   "source": [
    "This proagram creates an application with four labels, their cooresponding entry boxes, and a computing button. Invoking the button uses the first three box values to compute and show a payment on a loan depending on the amount, rate, and years of said loan."
   ]
  },
  {
   "cell_type": "markdown",
   "metadata": {},
   "source": [
    "##### <span style=\"color:red\">Code:</span>"
   ]
  },
  {
   "cell_type": "markdown",
   "metadata": {},
   "source": [
    "Put your payment program in the following code cell."
   ]
  },
  {
   "cell_type": "code",
   "execution_count": 6,
   "metadata": {
    "collapsed": false,
    "deletable": false,
    "nbgrader": {
     "checksum": "f876afba9c8546bff43097066d9d0e30",
     "grade": true,
     "grade_id": "payment",
     "locked": false,
     "points": 15,
     "solution": true
    }
   },
   "outputs": [],
   "source": [
    "def monthly_payment(amt, pct, yrs):\n",
    "    r = (float(pct) / 100) / 12\n",
    "    p = 12 * float(yrs)\n",
    "    pymt = (r * float(amt)) / (1 - ((1 + r) ** (-1 * p)))\n",
    "    return pymt\n",
    "    \n",
    "def compute_payment_cb():\n",
    "\n",
    "    amt = amount.get()\n",
    "    pct = rate.get()\n",
    "    yrs = years.get()\n",
    "    \n",
    "    payment.delete(0, tk.END)\n",
    "    payment.insert(0, \"${:.2f}\".format(monthly_payment(amt, pct, yrs)))\n",
    "    \n",
    "\n",
    "payment_app = tk.Tk()\n",
    "\n",
    "la_label = tk.Label(payment_app, text=\"Loan Amount:\")\n",
    "la_label.grid(row=0, column=0, sticky=tk.W, padx = 20, pady = 30)\n",
    "\n",
    "ir_label = tk.Label(payment_app, text=\"Interest Rate:\")\n",
    "ir_label.grid(row=1, column=0, sticky=tk.W, padx = 20, pady = 30)\n",
    "\n",
    "lp_label = tk.Label(payment_app, text=\"Loan Period:\")\n",
    "lp_label.grid(row=2, column=0, sticky=tk.W, padx = 20, pady = 30)\n",
    "\n",
    "p_label = tk.Label(payment_app, text=\"Payment:\")\n",
    "p_label.grid(row=3, column=0, sticky=tk.W, padx = 20, pady = 30)\n",
    "\n",
    "amount = tk.Entry(payment_app)\n",
    "amount.grid(row=0, column=1, padx = 20)\n",
    "\n",
    "rate = tk.Entry(payment_app)\n",
    "rate.grid(row=1, column=1, padx = 20)\n",
    "\n",
    "years = tk.Entry(payment_app)\n",
    "years.grid(row=2, column=1, padx = 20)\n",
    "\n",
    "payment = tk.Entry(payment_app)\n",
    "payment.grid(row=3, column=1, padx = 20)\n",
    "\n",
    "button = tk.Button(payment_app, text=\"Compute Payment\", command=compute_payment_cb)\n",
    "button.grid(row=4, column=0, columnspan=2, pady = 30)\n",
    "\n"
   ]
  },
  {
   "cell_type": "markdown",
   "metadata": {},
   "source": [
    "##### <span style=\"color:red\">Autograder Tests:</span>"
   ]
  },
  {
   "cell_type": "markdown",
   "metadata": {},
   "source": [
    "The three tests for this program make sure the `monthly_payment` function computes the correct payment value, check to see if the GUI has the correct number of widgets, and test the GUI by inserting values into the entry boxes and clicking the button.\n",
    "\n",
    "**Do not edit, copy, or delete these cells.**"
   ]
  },
  {
   "cell_type": "code",
   "execution_count": 7,
   "metadata": {
    "collapsed": false,
    "deletable": false,
    "nbgrader": {
     "checksum": "8e2ef1ed9deada5f87c2f3dd0311dadd",
     "grade": true,
     "grade_id": "payment_test_1",
     "locked": true,
     "points": 5,
     "solution": false
    }
   },
   "outputs": [],
   "source": [
    "assert round(monthly_payment(20000, 3.0, 6), 2) == 303.87"
   ]
  },
  {
   "cell_type": "code",
   "execution_count": 8,
   "metadata": {
    "collapsed": false,
    "deletable": false,
    "nbgrader": {
     "checksum": "0f021a0a92335d2b13cc7d02878d2972",
     "grade": true,
     "grade_id": "payment_test_2",
     "locked": true,
     "points": 10,
     "solution": false
    }
   },
   "outputs": [],
   "source": [
    "counts = { tk.Label: 0, tk.Entry: 0, tk.Button: 0 }\n",
    "\n",
    "for x in payment_app.children.values():\n",
    "    counts[type(x)] += 1\n",
    "    \n",
    "assert counts == { tk.Label: 4, tk.Entry: 4, tk.Button: 1 }"
   ]
  },
  {
   "cell_type": "code",
   "execution_count": 9,
   "metadata": {
    "collapsed": false,
    "deletable": false,
    "nbgrader": {
     "checksum": "6135686f3046b1cbc0c489c86dd93db7",
     "grade": true,
     "grade_id": "payment_test_3",
     "locked": true,
     "points": 10,
     "solution": false
    }
   },
   "outputs": [],
   "source": [
    "amount.insert(0, '20000')\n",
    "rate.insert(0, '3.0')\n",
    "years.insert(0, '6')\n",
    "button.invoke()\n",
    "\n",
    "assert payment.get() == '$303.87'"
   ]
  },
  {
   "cell_type": "markdown",
   "metadata": {},
   "source": [
    "### <span style=\"color:teal\">3. &nbsp; Canvas (30 points)</span>"
   ]
  },
  {
   "cell_type": "markdown",
   "metadata": {},
   "source": [
    "Fill in the application named `canvas_app`.  The application will have just one widget, a Tk canvas with a size of $400 \\times 400$ pixels. \n",
    "\n",
    "You also need to fill in the body of the function named `make_circle` that will draw a circle on your canvas.  The parameters are a reference to the canvas widget, three integers for the size and location of the circle, and a string with a color name.\n",
    "\n",
    "Use the function to draw three circles on your canvas.  You can choose whatever size, location, and color you would like.\n",
    "\n",
    "<img src=\"http://www.cs.uoregon.edu/Classes/16W/cis211/images/gui/three_circles.png\"/>\n"
   ]
  },
  {
   "cell_type": "markdown",
   "metadata": {},
   "source": [
    "##### <span style=\"color:red\">Documentation:</span>"
   ]
  },
  {
   "cell_type": "markdown",
   "metadata": {},
   "source": [
    "Use this markdown cell to describe how the \"canvas\" program works."
   ]
  },
  {
   "cell_type": "markdown",
   "metadata": {
    "deletable": false,
    "nbgrader": {
     "checksum": "806340909530febba255a5b260941cd7",
     "grade": true,
     "grade_id": "doc_3",
     "locked": false,
     "points": 5,
     "solution": true
    }
   },
   "source": [
    "This program creates a tk canvas and uses a the make_circle function to translate circle dimensions to draw circles on the canvas."
   ]
  },
  {
   "cell_type": "markdown",
   "metadata": {},
   "source": [
    "##### <span style=\"color:red\">Code:</span>"
   ]
  },
  {
   "cell_type": "markdown",
   "metadata": {},
   "source": [
    "Put your canvas program in the following code cell."
   ]
  },
  {
   "cell_type": "code",
   "execution_count": 4,
   "metadata": {
    "collapsed": false,
    "deletable": false,
    "nbgrader": {
     "checksum": "c06a8978922470530664583f7c441dcb",
     "grade": true,
     "grade_id": "canvas",
     "locked": false,
     "points": 10,
     "solution": true
    }
   },
   "outputs": [],
   "source": [
    "def make_circle(canvas, radius, x, y, color):\n",
    "    tlx = x - radius\n",
    "    tly = y - radius\n",
    "    brx = x + radius\n",
    "    bry = y + radius\n",
    "    canvas.create_oval(tlx, tly, brx, bry, fill=color)\n",
    "\n",
    "canvas_app = tk.Tk()\n",
    "canvas = tk.Canvas(canvas_app, width=400, height=400)\n",
    "canvas.grid()\n",
    "make_circle(canvas, 40, 100, 100, 'blue')\n",
    "make_circle(canvas, 20, 200, 200, 'green')\n",
    "make_circle(canvas, 80, 300, 300, 'yellow')\n",
    "\n"
   ]
  },
  {
   "cell_type": "markdown",
   "metadata": {},
   "source": [
    "##### <span style=\"color:red\">Autograder Tests:</span>"
   ]
  },
  {
   "cell_type": "markdown",
   "metadata": {},
   "source": [
    "The tests for this program make sure the application has a single canvas widget and that the canvas has three circles.\n",
    "\n",
    "**Do not edit, copy, or delete these cells.**"
   ]
  },
  {
   "cell_type": "code",
   "execution_count": 5,
   "metadata": {
    "collapsed": false,
    "deletable": false,
    "nbgrader": {
     "checksum": "9805892cf4aec12d3596853f171bbec3",
     "grade": true,
     "grade_id": "canvas_test_1",
     "locked": true,
     "points": 5,
     "solution": false
    }
   },
   "outputs": [],
   "source": [
    "widgets = list(canvas_app.children.values())\n",
    "assert len(widgets) == 1 and isinstance(widgets[0], tk.Canvas)"
   ]
  },
  {
   "cell_type": "code",
   "execution_count": 6,
   "metadata": {
    "collapsed": false,
    "deletable": false,
    "nbgrader": {
     "checksum": "a2d78156203aafc92e6718d8060321ff",
     "grade": true,
     "grade_id": "canvas_test_2",
     "locked": true,
     "points": 10,
     "solution": false
    }
   },
   "outputs": [],
   "source": [
    "widgets = list(canvas_app.children.values())\n",
    "for n in widgets[0].find_all():\n",
    "    assert widgets[0].type(n) == 'oval'"
   ]
  }
 ],
 "metadata": {
  "kernelspec": {
   "display_name": "Python 3",
   "language": "python",
   "name": "python3"
  },
  "language_info": {
   "codemirror_mode": {
    "name": "ipython",
    "version": 3
   },
   "file_extension": ".py",
   "mimetype": "text/x-python",
   "name": "python",
   "nbconvert_exporter": "python",
   "pygments_lexer": "ipython3",
   "version": "3.5.1"
  }
 },
 "nbformat": 4,
 "nbformat_minor": 0
}
