{
 "cells": [
  {
   "cell_type": "markdown",
   "metadata": {},
   "source": [
    "# Canvas Demo "
   ]
  },
  {
   "cell_type": "markdown",
   "metadata": {},
   "source": [
    "### `tk` "
   ]
  },
  {
   "cell_type": "markdown",
   "metadata": {},
   "source": [
    "Use this \"IPython Magic\" to set up graphics using Tk"
   ]
  },
  {
   "cell_type": "code",
   "execution_count": 2,
   "metadata": {
    "collapsed": false
   },
   "outputs": [],
   "source": [
    "%gui tk"
   ]
  },
  {
   "cell_type": "markdown",
   "metadata": {},
   "source": [
    "### `Canvas` "
   ]
  },
  {
   "cell_type": "markdown",
   "metadata": {},
   "source": [
    "Import the Canvas class (download one of the versions of `Canvas.pyc` from Canvas (see notes below)"
   ]
  },
  {
   "cell_type": "code",
   "execution_count": 4,
   "metadata": {
    "collapsed": false,
    "scrolled": true
   },
   "outputs": [
    {
     "ename": "ImportError",
     "evalue": "No module named 'Canvas'",
     "output_type": "error",
     "traceback": [
      "\u001b[1;31m---------------------------------------------------------------------------\u001b[0m",
      "\u001b[1;31mImportError\u001b[0m                               Traceback (most recent call last)",
      "\u001b[1;32m<ipython-input-4-3607e9b8cf2a>\u001b[0m in \u001b[0;36m<module>\u001b[1;34m()\u001b[0m\n\u001b[1;32m----> 1\u001b[1;33m \u001b[1;32mfrom\u001b[0m \u001b[0mCanvas\u001b[0m \u001b[1;32mimport\u001b[0m \u001b[1;33m*\u001b[0m\u001b[1;33m\u001b[0m\u001b[0m\n\u001b[0m",
      "\u001b[1;31mImportError\u001b[0m: No module named 'Canvas'"
     ]
    }
   ],
   "source": [
    "from Canvas import *"
   ]
  },
  {
   "cell_type": "markdown",
   "metadata": {},
   "source": [
    "Initialize the canvas -- pass the `init` function the canvas size, in pixels, and an optional canvas window name."
   ]
  },
  {
   "cell_type": "code",
   "execution_count": null,
   "metadata": {
    "collapsed": false,
    "scrolled": true
   },
   "outputs": [],
   "source": [
    "Canvas.init(600, 400, \"In Class Demo\")"
   ]
  },
  {
   "cell_type": "markdown",
   "metadata": {},
   "source": [
    "### `Circle` "
   ]
  },
  {
   "cell_type": "markdown",
   "metadata": {},
   "source": [
    "Make a Circle object.  Parameters passed to the constructor are the radius, (x,y) coordinates of the center, and optional named parameters."
   ]
  },
  {
   "cell_type": "code",
   "execution_count": null,
   "metadata": {
    "collapsed": false
   },
   "outputs": [],
   "source": [
    "circle = Canvas.Circle(10, (100,100), fill='red')"
   ]
  },
  {
   "cell_type": "markdown",
   "metadata": {},
   "source": [
    "Call the `move` method to move the circle a specified distance; this call will move the circle right by 10 pixels and down by 10 pixels."
   ]
  },
  {
   "cell_type": "code",
   "execution_count": null,
   "metadata": {
    "collapsed": false
   },
   "outputs": [],
   "source": [
    "circle.move(10,10)"
   ]
  },
  {
   "cell_type": "markdown",
   "metadata": {},
   "source": [
    "### Tracking Motion "
   ]
  },
  {
   "cell_type": "markdown",
   "metadata": {},
   "source": [
    "An optional flag passed to `move` will leave a \"track\" so you can see the original location and the new location."
   ]
  },
  {
   "cell_type": "code",
   "execution_count": null,
   "metadata": {
    "collapsed": false
   },
   "outputs": [],
   "source": [
    "d = 10\n",
    "for i in range(10):\n",
    "    circle.move(10, d, track=True)\n",
    "    d = -d"
   ]
  },
  {
   "cell_type": "markdown",
   "metadata": {},
   "source": [
    "To slow down an animation use a library function named `sleep`.\n",
    "* **Important** call Canvas.update() after every movement, otherwise the Canvas module collects all the movements and shows them all at once"
   ]
  },
  {
   "cell_type": "code",
   "execution_count": null,
   "metadata": {
    "collapsed": true
   },
   "outputs": [],
   "source": [
    "from time import sleep"
   ]
  },
  {
   "cell_type": "code",
   "execution_count": null,
   "metadata": {
    "collapsed": false
   },
   "outputs": [],
   "source": [
    "d = 10\n",
    "for i in range(10):\n",
    "    circle.move(10, 0)\n",
    "    Canvas.update()\n",
    "    sleep(1)"
   ]
  },
  {
   "cell_type": "markdown",
   "metadata": {},
   "source": [
    "## `pyc` Files "
   ]
  },
  {
   "cell_type": "markdown",
   "metadata": {},
   "source": [
    "Python programs are plain text files with a `.py` extension\n",
    "\n",
    "When Python loads a program it **compiles** it into a \"bytecode\" file\n",
    "* look in a folder named `__pycache__`\n",
    "* `foo.py` is compiled into `__pycache__/foo.xxx.pyc`\n",
    "* the `xxx` part of the name depends on the Python version\n",
    "\n",
    "Example:  when I load my `Canvas` class I get `__pycache__/Canvas.cpython-35.pyc`"
   ]
  },
  {
   "cell_type": "markdown",
   "metadata": {},
   "source": [
    "### Importing from `.pyc` "
   ]
  },
  {
   "cell_type": "markdown",
   "metadata": {},
   "source": [
    "To use a `.pyc` file in another project:\n",
    "* copy the file to the same folder as the new project source\n",
    "* rename it so it does not have the version number"
   ]
  },
  {
   "cell_type": "markdown",
   "metadata": {},
   "source": [
    "### Download the Version You Can Use "
   ]
  },
  {
   "cell_type": "markdown",
   "metadata": {},
   "source": [
    "On Canvas (the course management system) find Canvas (the Python module)\n",
    "* figure out which version of Python you have; this is what I see:\n",
    "```\n",
    "$ python3 --version\n",
    "Python 3.5.1\n",
    "```\n",
    "* download one of the files\n",
    "   * `Canvas.cpython-35.pyc` is for Python 3.5.x\n",
    "   * `Canvas.cpython-34.pyc` is for Python 3.4.x\n",
    "* move the file to the same folder as your notebook, rename it `Canvas.pyc`"
   ]
  }
 ],
 "metadata": {
  "kernelspec": {
   "display_name": "Python 3",
   "language": "python",
   "name": "python3"
  },
  "language_info": {
   "codemirror_mode": {
    "name": "ipython",
    "version": 3
   },
   "file_extension": ".py",
   "mimetype": "text/x-python",
   "name": "python",
   "nbconvert_exporter": "python",
   "pygments_lexer": "ipython3",
   "version": "3.5.1"
  }
 },
 "nbformat": 4,
 "nbformat_minor": 0
}
