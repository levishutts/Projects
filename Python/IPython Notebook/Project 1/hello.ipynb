{
 "cells": [
  {
   "cell_type": "markdown",
   "metadata": {},
   "source": [
    "# <span style=\"color:teal;\">CIS 211 Project 1:  Hello, World</span>"
   ]
  },
  {
   "cell_type": "markdown",
   "metadata": {},
   "source": [
    "##### Due 11:00 P.M. January 8, 2016"
   ]
  },
  {
   "cell_type": "markdown",
   "metadata": {},
   "source": [
    "##### Reading:  none"
   ]
  },
  {
   "cell_type": "markdown",
   "metadata": {},
   "source": [
    "This goal for this project is to work through the process for completing projects in CIS 211 this term:\n",
    "* download a project description from Canvas, save it in a local `.ipynb` file\n",
    "* open the file with Jupyter\n",
    "* read the project description(s)\n",
    "* add code and documentation to the notebook\n",
    "* test your code\n",
    "* e-mail the completed notebook to `cis211-project@cs.uoregon.edu`"
   ]
  },
  {
   "cell_type": "markdown",
   "metadata": {},
   "source": [
    "###  <span style=\"color:teal\">The `hello` Function</span>"
   ]
  },
  {
   "cell_type": "markdown",
   "metadata": {},
   "source": [
    "Write a function named `hello` that will take a language name passed as a string argument and return a \"hello, world\" greeting in that language."
   ]
  },
  {
   "cell_type": "markdown",
   "metadata": {},
   "source": [
    "Examples:\n",
    "<pre>\n",
    ">>> hello('english')\n",
    "'Hello, World!'\n",
    "\n",
    ">>> hello('french')\n",
    "'Bonjour, tout le monde!'\n",
    "\n",
    ">>> hello('arabic')\n",
    "'مرحبا يا عالم'\n",
    "</pre>"
   ]
  },
  {
   "cell_type": "markdown",
   "metadata": {},
   "source": [
    "Your function should be able to return a greeting in at least two languages -- English and French -- but you can have as many as you would like.\n",
    "\n",
    "The strings to return for English and French are shown in the tests below.  Make sure you return these strings exactly as shown so your program passes the tests."
   ]
  },
  {
   "cell_type": "markdown",
   "metadata": {},
   "source": [
    "If the language passed as an argument is not one of the languages you implemented return None.\n",
    "<pre>\n",
    ">>> hello('valyrian')\n",
    "</pre>"
   ]
  },
  {
   "cell_type": "markdown",
   "metadata": {},
   "source": [
    "##### Style Points:"
   ]
  },
  {
   "cell_type": "markdown",
   "metadata": {},
   "source": [
    "Try to write your program without using a bunch of `if-elif` cases. This is <span style=\"color:red\"> not</span> a good way to structure the code in the body of your `hello` function:\n",
    "<pre>\n",
    "if lang == 'english':                   # bad style\n",
    "    reply = 'Hello, World!'\n",
    "elif lang == 'french':                  # ick\n",
    "    reply = 'Bonjour, tout le monde!'\n",
    "elif:                                   # ugh\n",
    "    ...\n",
    "</pre>"
   ]
  },
  {
   "cell_type": "markdown",
   "metadata": {},
   "source": [
    "How do you want to handle situations where users pass a capitalized language name?  Do you want your function to return values for `hello(\"english\")` and `hello(\"English\")`?"
   ]
  },
  {
   "cell_type": "markdown",
   "metadata": {},
   "source": [
    "##### <span style=\"color:red\">Documentation:</span>"
   ]
  },
  {
   "cell_type": "markdown",
   "metadata": {
    "deletable": false,
    "nbgrader": {
     "checksum": "740fe568116cf400d7cba7b948078edd",
     "grade": true,
     "grade_id": "doc",
     "locked": false,
     "points": 30,
     "solution": true
    }
   },
   "source": [
    "This project translates the phrase \"Hello, World!\" to one of four desired languages (English, French, Zulu, and Chinese). The user input can include upper and lower case characters along with special characters. "
   ]
  },
  {
   "cell_type": "markdown",
   "metadata": {},
   "source": [
    "##### <span style=\"color:red\">Code:</span>"
   ]
  },
  {
   "cell_type": "code",
   "execution_count": 1,
   "metadata": {
    "collapsed": false,
    "deletable": false,
    "nbgrader": {
     "checksum": "5ccb8e2cbee4d3d01cc7914b4b6c02a0",
     "grade": false,
     "grade_id": "code",
     "locked": false,
     "solution": true
    }
   },
   "outputs": [],
   "source": [
    "def hello(lang):\n",
    "    '''This function takes an input language: lang and returns the english phrase \"Hello, World!\" translated to the desired language.'''\n",
    "    word = ''\n",
    "    for ch in lang:\n",
    "        if ch.isalnum():\n",
    "            word += ch\n",
    "    word = word.lower()\n",
    "    response = {'english' : 'Hello, World!', 'french' : 'Bonjour, tout le monde!', 'zulu' : 'Sawubona Mhlaba!', 'chinese' : '你好，世界！'}\n",
    "    if word not in response:\n",
    "        return None\n",
    "    lang = response[word]\n",
    "    \n",
    "    return lang"
   ]
  },
  {
   "cell_type": "markdown",
   "metadata": {},
   "source": [
    "##### <span style=\"color:red\">Tests:</span>"
   ]
  },
  {
   "cell_type": "markdown",
   "metadata": {
    "nbgrader": {
     "grade": false,
     "locked": false,
     "points": 20,
     "solution": false
    }
   },
   "source": [
    "Use the code cell below to test your `hello` function.  The human grader will evaluate these tests and assign style points based on the thoroughness of your tests."
   ]
  },
  {
   "cell_type": "code",
   "execution_count": 2,
   "metadata": {
    "collapsed": false,
    "deletable": false,
    "nbgrader": {
     "checksum": "3be35ecf8f440160853bf5be38a89a78",
     "grade": true,
     "grade_id": "test",
     "locked": false,
     "points": 20,
     "solution": true
    }
   },
   "outputs": [],
   "source": [
    "assert hello('ENGLISh') == 'Hello, World!'           #uppercase"
   ]
  },
  {
   "cell_type": "code",
   "execution_count": 3,
   "metadata": {
    "collapsed": false
   },
   "outputs": [],
   "source": [
    "assert hello('french') == 'Bonjour, tout le monde!'  #base case"
   ]
  },
  {
   "cell_type": "code",
   "execution_count": 4,
   "metadata": {
    "collapsed": false
   },
   "outputs": [],
   "source": [
    "assert hello('$$zulu!!') == 'Sawubona Mhlaba!'       #special characters"
   ]
  },
  {
   "cell_type": "code",
   "execution_count": 5,
   "metadata": {
    "collapsed": false
   },
   "outputs": [],
   "source": [
    "assert hello('12345') == None                        #not translated"
   ]
  },
  {
   "cell_type": "code",
   "execution_count": 6,
   "metadata": {
    "collapsed": false
   },
   "outputs": [],
   "source": [
    "assert hello('chinese') == '你好，世界！'             #non latin characters"
   ]
  },
  {
   "cell_type": "markdown",
   "metadata": {
    "collapsed": true
   },
   "source": [
    "##### <span style=\"color:red\">Auto-Grader</span>"
   ]
  },
  {
   "cell_type": "markdown",
   "metadata": {},
   "source": [
    "Your notebook will be processed by a program called `nbgrader`, which will run the tests below and automatically assign a grade.  You will earn credit for every cell that does not raise an Assertion error."
   ]
  },
  {
   "cell_type": "code",
   "execution_count": 7,
   "metadata": {
    "collapsed": false,
    "deletable": false,
    "nbgrader": {
     "checksum": "63143403a8512248d7c1b2f46f4c30e2",
     "grade": true,
     "grade_id": "english",
     "locked": true,
     "points": 20,
     "solution": false
    }
   },
   "outputs": [],
   "source": [
    "assert hello('english') == 'Hello, World!'"
   ]
  },
  {
   "cell_type": "code",
   "execution_count": 8,
   "metadata": {
    "collapsed": false,
    "deletable": false,
    "nbgrader": {
     "checksum": "a880d02dc233537161acb2e9c2d4b3e0",
     "grade": true,
     "grade_id": "french",
     "locked": true,
     "points": 20,
     "solution": false
    }
   },
   "outputs": [],
   "source": [
    "assert hello('french') == 'Bonjour, tout le monde!'"
   ]
  },
  {
   "cell_type": "code",
   "execution_count": 9,
   "metadata": {
    "collapsed": false,
    "deletable": false,
    "nbgrader": {
     "checksum": "67392ed32a0b00b361923b83dcfaa2d1",
     "grade": true,
     "grade_id": "klingon",
     "locked": true,
     "points": 10,
     "solution": false
    }
   },
   "outputs": [],
   "source": [
    "assert hello('klingon') is None"
   ]
  }
 ],
 "metadata": {
  "kernelspec": {
   "display_name": "Python 3",
   "language": "python",
   "name": "python3"
  },
  "language_info": {
   "codemirror_mode": {
    "name": "ipython",
    "version": 3
   },
   "file_extension": ".py",
   "mimetype": "text/x-python",
   "name": "python",
   "nbconvert_exporter": "python",
   "pygments_lexer": "ipython3",
   "version": "3.5.1"
  }
 },
 "nbformat": 4,
 "nbformat_minor": 0
}
