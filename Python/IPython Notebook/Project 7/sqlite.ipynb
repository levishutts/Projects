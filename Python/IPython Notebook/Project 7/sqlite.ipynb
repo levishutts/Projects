{
 "cells": [
  {
   "cell_type": "markdown",
   "metadata": {},
   "source": [
    "# <span style=\"color:teal;\">CIS 211 Project 7:  SQLite</span>"
   ]
  },
  {
   "cell_type": "markdown",
   "metadata": {},
   "source": [
    "##### Due 11:00 P.M. Friday Feb 26"
   ]
  },
  {
   "cell_type": "markdown",
   "metadata": {},
   "source": [
    "This project will give you some experience writing database queries in SQL and connecting to a SQLite database from Python."
   ]
  },
  {
   "cell_type": "markdown",
   "metadata": {},
   "source": [
    "### <span style=\"color:teal\">Setup</span>"
   ]
  },
  {
   "cell_type": "markdown",
   "metadata": {},
   "source": [
    "Download the Sakila database (the file named `sakila211.db`) and move it to the same folder as this IPython notebook."
   ]
  },
  {
   "cell_type": "markdown",
   "metadata": {},
   "source": [
    "### <span style=\"color:teal\">Executing Queries in an IPython Notebook</span>"
   ]
  },
  {
   "cell_type": "markdown",
   "metadata": {},
   "source": [
    "To solve the problems in the first two sections of this project you need to write a SQL query based on the tables in the Sakila211 database.  \n",
    "\n",
    "To execute a query from an IPython Notebook write the query in quotes as part of a shell command:\n",
    "```\n",
    "! sqlite3 sakila211.db \"...\"\n",
    "```\n",
    "\n",
    "For example, to answer the question \"What are the names and ratings of the films\" your code cell would have\n",
    "```\n",
    "! sqlite3 sakila211.db \"select title, rating from film\"\n",
    "```\n",
    "\n",
    "Some of the queries will produce a lot of output.  You can add a `LIMIT` clause to any query if you want to reduce the size of the output."
   ]
  },
  {
   "cell_type": "markdown",
   "metadata": {},
   "source": [
    "**Note:** &nbsp; Your grade will not depend on the output format.  If want to have a nicer looking output that includes column headers create a file named `.sqliterc` in your home folder and add these two lines:\n",
    "```\n",
    ".header on\n",
    ".mode column\n",
    "```"
   ]
  },
  {
   "cell_type": "markdown",
   "metadata": {},
   "source": [
    "## <span style=\"color:teal\">Part 1:  &nbsp; Queries</span>"
   ]
  },
  {
   "cell_type": "markdown",
   "metadata": {},
   "source": [
    "The following questions can all be answered using records from a single table."
   ]
  },
  {
   "cell_type": "markdown",
   "metadata": {},
   "source": [
    "(1) What are the first and last names of all the customers?"
   ]
  },
  {
   "cell_type": "code",
   "execution_count": 1,
   "metadata": {
    "collapsed": false,
    "deletable": false,
    "nbgrader": {
     "checksum": "91ee3c877c70f8544f5ce07e910194bf",
     "grade": true,
     "grade_id": "query_1",
     "locked": false,
     "points": 2,
     "solution": true
    },
    "scrolled": true
   },
   "outputs": [
    {
     "name": "stdout",
     "output_type": "stream",
     "text": [
      "first_name  last_name \n",
      "----------  ----------\n",
      "Mary        Smith     \n",
      "Patricia    Johnson   \n",
      "Linda       Williams  \n",
      "Barbara     Jones     \n",
      "Elizabeth   Brown     \n",
      "Jennifer    Davis     \n",
      "Maria       Miller    \n",
      "Susan       Wilson    \n",
      "Margaret    Moore     \n",
      "Dorothy     Taylor    \n",
      "Lisa        Anderson  \n",
      "Nancy       Thomas    \n",
      "Karen       Jackson   \n",
      "Betty       White     \n",
      "Helen       Harris    \n",
      "Sandra      Martin    \n",
      "Donna       Thompson  \n",
      "Carol       Garcia    \n",
      "Ruth        Martinez  \n",
      "Sharon      Robinson  \n",
      "Michelle    Clark     \n",
      "Laura       Rodriguez \n",
      "Sarah       Lewis     \n",
      "Kimberly    Lee       \n",
      "Deborah     Walker    \n",
      "Jessica     Hall      \n",
      "Shirley     Allen     \n",
      "Cynthia     Young     \n",
      "Angela      Hernandez \n",
      "Melissa     King      \n",
      "Brenda      Wright    \n",
      "Amy         Lopez     \n",
      "Anna        Hill      \n",
      "Rebecca     Scott     \n",
      "Virginia    Green     \n",
      "Kathleen    Adams     \n",
      "Pamela      Baker     \n",
      "Martha      Gonzalez  \n",
      "Debra       Nelson    \n",
      "Amanda      Carter    \n",
      "Stephanie   Mitchell  \n",
      "Carolyn     Perez     \n",
      "Christine   Roberts   \n",
      "Marie       Turner    \n",
      "Janet       Phillips  \n",
      "Catherine   Campbell  \n",
      "Frances     Parker    \n",
      "Ann         Evans     \n",
      "Joyce       Edwards   \n",
      "Diane       Collins   \n",
      "Alice       Stewart   \n",
      "Julie       Sanchez   \n",
      "Heather     Morris    \n",
      "Teresa      Rogers    \n",
      "Doris       Reed      \n",
      "Gloria      Cook      \n",
      "Evelyn      Morgan    \n",
      "Jean        Bell      \n",
      "Cheryl      Murphy    \n",
      "Mildred     Bailey    \n",
      "Katherine   Rivera    \n",
      "Joan        Cooper    \n",
      "Ashley      Richardson\n",
      "Judith      Cox       \n",
      "Rose        Howard    \n",
      "Janice      Ward      \n",
      "Kelly       Torres    \n",
      "Nicole      Peterson  \n",
      "Judy        Gray      \n",
      "Christina   Ramirez   \n",
      "Kathy       James     \n",
      "Theresa     Watson    \n",
      "Beverly     Brooks    \n",
      "Denise      Kelly     \n",
      "Tammy       Sanders   \n",
      "Irene       Price     \n",
      "Jane        Bennett   \n",
      "Lori        Wood      \n",
      "Rachel      Barnes    \n",
      "Marilyn     Ross      \n",
      "Andrea      Henderson \n",
      "Kathryn     Coleman   \n",
      "Louise      Jenkins   \n",
      "Sara        Perry     \n",
      "Anne        Powell    \n",
      "Jacqueline  Long      \n",
      "Wanda       Patterson \n",
      "Bonnie      Hughes    \n",
      "Julia       Flores    \n",
      "Ruby        Washington\n",
      "Lois        Butler    \n",
      "Tina        Simmons   \n",
      "Phyllis     Foster    \n",
      "Norma       Gonzales  \n",
      "Paula       Bryant    \n",
      "Diana       Alexander \n",
      "Annie       Russell   \n",
      "Lillian     Griffin   \n",
      "Emily       Diaz      \n",
      "Robin       Hayes     \n",
      "Peggy       Myers     \n",
      "Crystal     Ford      \n",
      "Gladys      Hamilton  \n",
      "Rita        Graham    \n",
      "Dawn        Sullivan  \n",
      "Connie      Wallace   \n",
      "Florence    Woods     \n",
      "Tracy       Cole      \n",
      "Edna        West      \n",
      "Tiffany     Jordan    \n",
      "Carmen      Owens     \n",
      "Rosa        Reynolds  \n",
      "Cindy       Fisher    \n",
      "Grace       Ellis     \n",
      "Wendy       Harrison  \n",
      "Victoria    Gibson    \n",
      "Edith       Mcdonald  \n",
      "Kim         Cruz      \n",
      "Sherry      Marshall  \n",
      "Sylvia      Ortiz     \n",
      "Josephine   Gomez     \n",
      "Thelma      Murray    \n",
      "Shannon     Freeman   \n",
      "Sheila      Wells     \n",
      "Ethel       Webb      \n",
      "Ellen       Simpson   \n",
      "Elaine      Stevens   \n",
      "Marjorie    Tucker    \n",
      "Carrie      Porter    \n",
      "Charlotte   Hunter    \n",
      "Monica      Hicks     \n",
      "Esther      Crawford  \n",
      "Pauline     Henry     \n",
      "Emma        Boyd      \n",
      "Juanita     Mason     \n",
      "Anita       Morales   \n",
      "Rhonda      Kennedy   \n",
      "Hazel       Warren    \n",
      "Amber       Dixon     \n",
      "Eva         Ramos     \n",
      "Debbie      Reyes     \n",
      "April       Burns     \n",
      "Leslie      Gordon    \n",
      "Clara       Shaw      \n",
      "Lucille     Holmes    \n",
      "Jamie       Rice      \n",
      "Joanne      Robertson \n",
      "Eleanor     Hunt      \n",
      "Valerie     Black     \n",
      "Danielle    Daniels   \n",
      "Megan       Palmer    \n",
      "Alicia      Mills     \n",
      "Suzanne     Nichols   \n",
      "Michele     Grant     \n",
      "Gail        Knight    \n",
      "Bertha      Ferguson  \n",
      "Darlene     Rose      \n",
      "Veronica    Stone     \n",
      "Jill        Hawkins   \n",
      "Erin        Dunn      \n",
      "Geraldine   Perkins   \n",
      "Lauren      Hudson    \n",
      "Cathy       Spencer   \n",
      "Joann       Gardner   \n",
      "Lorraine    Stephens  \n",
      "Lynn        Payne     \n",
      "Sally       Pierce    \n",
      "Regina      Berry     \n",
      "Erica       Matthews  \n",
      "Beatrice    Arnold    \n",
      "Dolores     Wagner    \n",
      "Bernice     Willis    \n",
      "Audrey      Ray       \n",
      "Yvonne      Watkins   \n",
      "Annette     Olson     \n",
      "June        Carroll   \n",
      "Samantha    Duncan    \n",
      "Marion      Snyder    \n",
      "Dana        Hart      \n",
      "Stacy       Cunningham\n",
      "Ana         Bradley   \n",
      "Renee       Lane      \n",
      "Ida         Andrews   \n",
      "Vivian      Ruiz      \n",
      "Roberta     Harper    \n",
      "Holly       Fox       \n",
      "Brittany    Riley     \n",
      "Melanie     Armstrong \n",
      "Loretta     Carpenter \n",
      "Yolanda     Weaver    \n",
      "Jeanette    Greene    \n",
      "Laurie      Lawrence  \n",
      "Katie       Elliott   \n",
      "Kristen     Chavez    \n",
      "Vanessa     Sims      \n",
      "Alma        Austin    \n",
      "Sue         Peters    \n",
      "Elsie       Kelley    \n",
      "Beth        Franklin  \n",
      "Jeanne      Lawson    \n",
      "Vicki       Fields    \n",
      "Carla       Gutierrez \n",
      "Tara        Ryan      \n",
      "Rosemary    Schmidt   \n",
      "Eileen      Carr      \n",
      "Terri       Vasquez   \n",
      "Gertrude    Castillo  \n",
      "Lucy        Wheeler   \n",
      "Tonya       Chapman   \n",
      "Ella        Oliver    \n",
      "Stacey      Montgomery\n",
      "Wilma       Richards  \n",
      "Gina        Williamson\n",
      "Kristin     Johnston  \n",
      "Jessie      Banks     \n",
      "Natalie     Meyer     \n",
      "Agnes       Bishop    \n",
      "Vera        Mccoy     \n",
      "Willie      Howell    \n",
      "Charlene    Alvarez   \n",
      "Bessie      Morrison  \n",
      "Delores     Hansen    \n",
      "Melinda     Fernandez \n",
      "Pearl       Garza     \n",
      "Arlene      Harvey    \n",
      "Maureen     Little    \n",
      "Colleen     Burton    \n",
      "Allison     Stanley   \n",
      "Tamara      Nguyen    \n",
      "Joy         George    \n",
      "Georgia     Jacobs    \n",
      "Constance   Reid      \n",
      "Lillie      Kim       \n",
      "Claudia     Fuller    \n",
      "Jackie      Lynch     \n",
      "Marcia      Dean      \n",
      "Tanya       Gilbert   \n",
      "Nellie      Garrett   \n",
      "Minnie      Romero    \n",
      "Marlene     Welch     \n",
      "Heidi       Larson    \n",
      "Glenda      Frazier   \n",
      "Lydia       Burke     \n",
      "Viola       Hanson    \n",
      "Courtney    Day       \n",
      "Marian      Mendoza   \n",
      "Stella      Moreno    \n",
      "Caroline    Bowman    \n",
      "Dora        Medina    \n",
      "Jo          Fowler    \n",
      "Vickie      Brewer    \n",
      "Mattie      Hoffman   \n",
      "Terry       Carlson   \n",
      "Maxine      Silva     \n",
      "Irma        Pearson   \n",
      "Mabel       Holland   \n",
      "Marsha      Douglas   \n",
      "Myrtle      Fleming   \n",
      "Lena        Jensen    \n",
      "Christy     Vargas    \n",
      "Deanna      Byrd      \n",
      "Patsy       Davidson  \n",
      "Hilda       Hopkins   \n",
      "Gwendolyn   May       \n",
      "Jennie      Terry     \n",
      "Nora        Herrera   \n",
      "Margie      Wade      \n",
      "Nina        Soto      \n",
      "Cassandra   Walters   \n",
      "Leah        Curtis    \n",
      "Penny       Neal      \n",
      "Kay         Caldwell  \n",
      "Priscilla   Lowe      \n",
      "Naomi       Jennings  \n",
      "Carole      Barnett   \n",
      "Brandy      Graves    \n",
      "Olga        Jimenez   \n",
      "Billie      Horton    \n",
      "Dianne      Shelton   \n",
      "Tracey      Barrett   \n",
      "Leona       Obrien    \n",
      "Jenny       Castro    \n",
      "Felicia     Sutton    \n",
      "Sonia       Gregory   \n",
      "Miriam      Mckinney  \n",
      "Velma       Lucas     \n",
      "Becky       Miles     \n",
      "Bobbie      Craig     \n",
      "Violet      Rodriquez \n",
      "Kristina    Chambers  \n",
      "Toni        Holt      \n",
      "Misty       Lambert   \n",
      "Mae         Fletcher  \n",
      "Shelly      Watts     \n",
      "Daisy       Bates     \n",
      "Ramona      Hale      \n",
      "Sherri      Rhodes    \n",
      "Erika       Pena      \n",
      "James       Gannon    \n",
      "John        Farnsworth\n",
      "Robert      Baughman  \n",
      "Michael     Silverman \n",
      "William     Satterfiel\n",
      "David       Royal     \n",
      "Richard     Mccrary   \n",
      "Charles     Kowalski  \n",
      "Joseph      Joy       \n",
      "Thomas      Grigsby   \n",
      "Christophe  Greco     \n",
      "Daniel      Cabral    \n",
      "Paul        Trout     \n",
      "Mark        Rinehart  \n",
      "Donald      Mahon     \n",
      "George      Linton    \n",
      "Kenneth     Gooden    \n",
      "Steven      Curley    \n",
      "Edward      Baugh     \n",
      "Brian       Wyman     \n",
      "Ronald      Weiner    \n",
      "Anthony     Schwab    \n",
      "Kevin       Schuler   \n",
      "Jason       Morrissey \n",
      "Matthew     Mahan     \n",
      "Gary        Coy       \n",
      "Timothy     Bunn      \n",
      "Jose        Andrew    \n",
      "Larry       Thrasher  \n",
      "Jeffrey     Spear     \n",
      "Frank       Waggoner  \n",
      "Scott       Shelley   \n",
      "Eric        Robert    \n",
      "Stephen     Qualls    \n",
      "Andrew      Purdy     \n",
      "Raymond     Mcwhorter \n",
      "Gregory     Mauldin   \n",
      "Joshua      Mark      \n",
      "Jerry       Jordon    \n",
      "Dennis      Gilman    \n",
      "Walter      Perryman  \n",
      "Patrick     Newsom    \n",
      "Peter       Menard    \n",
      "Harold      Martino   \n",
      "Douglas     Graf      \n",
      "Henry       Billingsle\n",
      "Carl        Artis     \n",
      "Arthur      Simpkins  \n",
      "Ryan        Salisbury \n",
      "Roger       Quintanill\n",
      "Joe         Gilliland \n",
      "Juan        Fraley    \n",
      "Jack        Foust     \n",
      "Albert      Crouse    \n",
      "Jonathan    Scarboroug\n",
      "Justin      Ngo       \n",
      "Terry       Grissom   \n",
      "Gerald      Fultz     \n",
      "Keith       Rico      \n",
      "Samuel      Marlow    \n",
      "Willie      Markham   \n",
      "Ralph       Madrigal  \n",
      "Lawrence    Lawton    \n",
      "Nicholas    Barfield  \n",
      "Roy         Whiting   \n",
      "Benjamin    Varney    \n",
      "Bruce       Schwarz   \n",
      "Brandon     Huey      \n",
      "Adam        Gooch     \n",
      "Harry       Arce      \n",
      "Fred        Wheat     \n",
      "Wayne       Truong    \n",
      "Billy       Poulin    \n",
      "Steve       Mackenzie \n",
      "Louis       Leone     \n",
      "Jeremy      Hurtado   \n",
      "Aaron       Selby     \n",
      "Randy       Gaither   \n",
      "Howard      Fortner   \n",
      "Eugene      Culpepper \n",
      "Carlos      Coughlin  \n",
      "Russell     Brinson   \n",
      "Bobby       Boudreau  \n",
      "Victor      Barkley   \n",
      "Martin      Bales     \n",
      "Ernest      Stepp     \n",
      "Phillip     Holm      \n",
      "Todd        Tan       \n",
      "Jesse       Schilling \n",
      "Craig       Morrell   \n",
      "Alan        Kahn      \n",
      "Shawn       Heaton    \n",
      "Clarence    Gamez     \n",
      "Sean        Douglass  \n",
      "Philip      Causey    \n",
      "Chris       Brothers  \n",
      "Johnny      Turpin    \n",
      "Earl        Shanks    \n",
      "Jimmy       Schrader  \n",
      "Antonio     Meek      \n",
      "Danny       Isom      \n",
      "Bryan       Hardison  \n",
      "Tony        Carranza  \n",
      "Luis        Yanez     \n",
      "Mike        Way       \n",
      "Stanley     Scroggins \n",
      "Leonard     Schofield \n",
      "Nathan      Runyon    \n",
      "Dale        Ratcliff  \n",
      "Manuel      Murrell   \n",
      "Rodney      Moeller   \n",
      "Curtis      Irby      \n",
      "Norman      Currier   \n",
      "Allen       Butterfiel\n",
      "Marvin      Yee       \n",
      "Vincent     Ralston   \n",
      "Glenn       Pullen    \n",
      "Jeffery     Pinson    \n",
      "Travis      Estep     \n",
      "Jeff        East      \n",
      "Chad        Carbone   \n",
      "Jacob       Lance     \n",
      "Lee         Hawks     \n",
      "Melvin      Ellington \n",
      "Alfred      Casillas  \n",
      "Kyle        Spurlock  \n",
      "Francis     Sikes     \n",
      "Bradley     Motley    \n",
      "Jesus       Mccartney \n",
      "Herbert     Kruger    \n",
      "Frederick   Isbell    \n",
      "Ray         Houle     \n",
      "Joel        Francisco \n",
      "Edwin       Burk      \n",
      "Don         Bone      \n",
      "Eddie       Tomlin    \n",
      "Ricky       Shelby    \n",
      "Troy        Quigley   \n",
      "Randall     Neumann   \n",
      "Barry       Lovelace  \n",
      "Alexander   Fennell   \n",
      "Bernard     Colby     \n",
      "Mario       Cheatham  \n",
      "Leroy       Bustamante\n",
      "Francisco   Skidmore  \n",
      "Marcus      Hidalgo   \n",
      "Micheal     Forman    \n",
      "Theodore    Culp      \n",
      "Clifford    Bowens    \n",
      "Miguel      Betancourt\n",
      "Oscar       Aquino    \n",
      "Jay         Robb      \n",
      "Jim         Rea       \n",
      "Tom         Milner    \n",
      "Calvin      Martel    \n",
      "Alex        Gresham   \n",
      "Jon         Wiles     \n",
      "Ronnie      Ricketts  \n",
      "Bill        Gavin     \n",
      "Lloyd       Dowd      \n",
      "Tommy       Collazo   \n",
      "Leon        Bostic    \n",
      "Derek       Blakely   \n",
      "Warren      Sherrod   \n",
      "Darrell     Power     \n",
      "Jerome      Kenyon    \n",
      "Floyd       Gandy     \n",
      "Leo         Ebert     \n",
      "Alvin       Deloach   \n",
      "Tim         Cary      \n",
      "Wesley      Bull      \n",
      "Gordon      Allard    \n",
      "Dean        Sauer     \n",
      "Greg        Robins    \n",
      "Jorge       Olivares  \n",
      "Dustin      Gillette  \n",
      "Pedro       Chestnut  \n",
      "Derrick     Bourque   \n",
      "Dan         Paine     \n",
      "Lewis       Lyman     \n",
      "Zachary     Hite      \n",
      "Corey       Hauser    \n",
      "Herman      Devore    \n",
      "Maurice     Crawley   \n",
      "Vernon      Chapa     \n",
      "Roberto     Vu        \n",
      "Clyde       Tobias    \n",
      "Glen        Talbert   \n",
      "Hector      Poindexter\n",
      "Shane       Millard   \n",
      "Ricardo     Meador    \n",
      "Sam         Mcduffie  \n",
      "Rick        Mattox    \n",
      "Lester      Kraus     \n",
      "Brent       Harkins   \n",
      "Ramon       Choate    \n",
      "Charlie     Bess      \n",
      "Tyler       Wren      \n",
      "Gilbert     Sledge    \n",
      "Gene        Sanborn   \n",
      "Marc        Outlaw    \n",
      "Reginald    Kinder    \n",
      "Ruben       Geary     \n",
      "Brett       Cornwell  \n",
      "Angel       Barclay   \n",
      "Nathaniel   Adam      \n",
      "Rafael      Abney     \n",
      "Leslie      Seward    \n",
      "Edgar       Rhoads    \n",
      "Milton      Howland   \n",
      "Raul        Fortier   \n",
      "Ben         Easter    \n",
      "Chester     Benner    \n",
      "Cecil       Vines     \n",
      "Duane       Tubbs     \n",
      "Franklin    Troutman  \n",
      "Andre       Rapp      \n",
      "Elmer       Noe       \n",
      "Brad        Mccurdy   \n",
      "Gabriel     Harder    \n",
      "Ron         Deluca    \n",
      "Mitchell    Westmorela\n",
      "Roland      South     \n",
      "Arnold      Havens    \n",
      "Harvey      Guajardo  \n",
      "Jared       Ely       \n",
      "Adrian      Clary     \n",
      "Karl        Seal      \n",
      "Cory        Meehan    \n",
      "Claude      Herzog    \n",
      "Erik        Guillen   \n",
      "Darryl      Ashcraft  \n",
      "Jamie       Waugh     \n",
      "Neil        Renner    \n",
      "Jessie      Milam     \n",
      "Christian   Jung      \n",
      "Javier      Elrod     \n",
      "Fernando    Churchill \n",
      "Clinton     Buford    \n",
      "Ted         Breaux    \n",
      "Mathew      Bolin     \n",
      "Tyrone      Asher     \n",
      "Darren      Windham   \n",
      "Lonnie      Tirado    \n",
      "Lance       Pemberton \n",
      "Cody        Nolen     \n",
      "Julio       Noland    \n",
      "Kelly       Knott     \n",
      "Kurt        Emmons    \n",
      "Allan       Cornish   \n",
      "Nelson      Christenso\n",
      "Guy         Brownlee  \n",
      "Clayton     Barbee    \n",
      "Hugh        Waldrop   \n",
      "Max         Pitt      \n",
      "Dwayne      Olvera    \n",
      "Dwight      Lombardi  \n",
      "Armando     Gruber    \n",
      "Felix       Gaffney   \n",
      "Jimmie      Eggleston \n",
      "Everett     Banda     \n",
      "Jordan      Archuleta \n",
      "Ian         Still     \n",
      "Wallace     Slone     \n",
      "Ken         Prewitt   \n",
      "Bob         Pfeiffer  \n",
      "Jaime       Nettles   \n",
      "Casey       Mena      \n",
      "Alfredo     Mcadams   \n",
      "Alberto     Henning   \n",
      "Dave        Gardiner  \n",
      "Ivan        Cromwell  \n",
      "Johnnie     Chisholm  \n",
      "Sidney      Burleson  \n",
      "Byron       Box       \n",
      "Julian      Vest      \n",
      "Isaac       Oglesby   \n",
      "Morris      Mccarter  \n",
      "Clifton     Malcolm   \n",
      "Willard     Lumpkin   \n",
      "Daryl       Larue     \n",
      "Ross        Grey      \n",
      "Virgil      Wofford   \n",
      "Andy        Vanhorn   \n",
      "Marshall    Thorn     \n",
      "Salvador    Teel      \n",
      "Perry       Swafford  \n",
      "Kirk        Stclair   \n",
      "Sergio      Stanfield \n",
      "Marion      Ocampo    \n",
      "Tracy       Herrmann  \n",
      "Seth        Hannon    \n",
      "Kent        Arsenault \n",
      "Terrance    Roush     \n",
      "Rene        Mcalister \n",
      "Eduardo     Hiatt     \n",
      "Terrence    Gunderson \n",
      "Enrique     Forsythe  \n",
      "Freddie     Duggan    \n",
      "Wade        Delvalle  \n",
      "Austin      Cintron   \n"
     ]
    }
   ],
   "source": [
    "! sqlite3 sakila211.db \"select first_name, last_name from customer\""
   ]
  },
  {
   "cell_type": "markdown",
   "metadata": {},
   "source": [
    "(2) What are the e-mail addresses of customers whose first name is “Willard”?"
   ]
  },
  {
   "cell_type": "code",
   "execution_count": 2,
   "metadata": {
    "collapsed": false,
    "deletable": false,
    "nbgrader": {
     "checksum": "64e446ba985806fb04f9ef039fe65952",
     "grade": true,
     "grade_id": "query_2",
     "locked": false,
     "points": 2,
     "solution": true
    }
   },
   "outputs": [
    {
     "name": "stdout",
     "output_type": "stream",
     "text": [
      "email                             \n",
      "----------------------------------\n",
      "willard.lumpkin@sakilacustomer.org\n"
     ]
    }
   ],
   "source": [
    "! sqlite3 sakila211.db \"select email from customer where first_name='Willard'\""
   ]
  },
  {
   "cell_type": "markdown",
   "metadata": {},
   "source": [
    "(3) How many customers are there?"
   ]
  },
  {
   "cell_type": "code",
   "execution_count": 3,
   "metadata": {
    "collapsed": false,
    "deletable": false,
    "nbgrader": {
     "checksum": "6a4f0b6dde1ac7d790f97794e7783a42",
     "grade": true,
     "grade_id": "query_3",
     "locked": false,
     "points": 2,
     "solution": true
    }
   },
   "outputs": [
    {
     "name": "stdout",
     "output_type": "stream",
     "text": [
      "count(*)  \n",
      "----------\n",
      "599       \n"
     ]
    }
   ],
   "source": [
    "! sqlite3 sakila211.db \"select count(*) from customer\""
   ]
  },
  {
   "cell_type": "markdown",
   "metadata": {},
   "source": [
    "(4) How many customers shop at store number 1?"
   ]
  },
  {
   "cell_type": "code",
   "execution_count": 4,
   "metadata": {
    "collapsed": false,
    "deletable": false,
    "nbgrader": {
     "checksum": "f08fc7c6be8b740e600e483f045942fe",
     "grade": true,
     "grade_id": "query_4",
     "locked": false,
     "points": 2,
     "solution": true
    }
   },
   "outputs": [
    {
     "name": "stdout",
     "output_type": "stream",
     "text": [
      "count(*)  \n",
      "----------\n",
      "326       \n"
     ]
    }
   ],
   "source": [
    "! sqlite3 sakila211.db \"select count(*) from customer where store_id='1'\""
   ]
  },
  {
   "cell_type": "markdown",
   "metadata": {},
   "source": [
    "(5) How much does it cost to rent the film named “Virtual Spoilers”?"
   ]
  },
  {
   "cell_type": "code",
   "execution_count": 5,
   "metadata": {
    "collapsed": false,
    "deletable": false,
    "nbgrader": {
     "checksum": "3d0a2eff95a0c91e3972df7cffcc5cde",
     "grade": true,
     "grade_id": "query_5",
     "locked": false,
     "points": 2,
     "solution": true
    }
   },
   "outputs": [
    {
     "name": "stdout",
     "output_type": "stream",
     "text": [
      "rental_rate\n",
      "-----------\n",
      "4.99       \n"
     ]
    }
   ],
   "source": [
    "! sqlite3 sakila211.db \"select rental_rate from film where title='Virtual Spoilers'\""
   ]
  },
  {
   "cell_type": "markdown",
   "metadata": {},
   "source": [
    "(6) Do any films have the word “Princess” in the title?"
   ]
  },
  {
   "cell_type": "code",
   "execution_count": 6,
   "metadata": {
    "collapsed": false,
    "deletable": false,
    "nbgrader": {
     "checksum": "32aac141a11a289bcdf659acc75988ca",
     "grade": true,
     "grade_id": "query_6",
     "locked": false,
     "points": 2,
     "solution": true
    }
   },
   "outputs": [
    {
     "name": "stdout",
     "output_type": "stream",
     "text": [
      "count(*)  \n",
      "----------\n",
      "2         \n"
     ]
    }
   ],
   "source": [
    "! sqlite3 sakila211.db \"select count(*) from film where title like '%Princess%';\""
   ]
  },
  {
   "cell_type": "markdown",
   "metadata": {},
   "source": [
    "(7) What are the titles of the films that are longer than 180 minutes?"
   ]
  },
  {
   "cell_type": "code",
   "execution_count": 7,
   "metadata": {
    "collapsed": false,
    "deletable": false,
    "nbgrader": {
     "checksum": "a56541c60971ed0218521fde895de3af",
     "grade": true,
     "grade_id": "query_7",
     "locked": false,
     "points": 2,
     "solution": true
    },
    "scrolled": true
   },
   "outputs": [
    {
     "name": "stdout",
     "output_type": "stream",
     "text": [
      "title          \n",
      "---------------\n",
      "Alley Evolution\n",
      "Analyze Hoosier\n",
      "Baked Cleopatra\n",
      "Catch Amistad  \n",
      "Chicago North  \n",
      "Confidential In\n",
      "Conspiracy Spir\n",
      "Control Anthem \n",
      "Crystal Breakin\n",
      "Darn Forrester \n",
      "Frontier Cabin \n",
      "Gangs Pride    \n",
      "Haunting Pianis\n",
      "Home Pity      \n",
      "Hotel Happiness\n",
      "Impact Aladdin \n",
      "Intrigue Worst \n",
      "Jacket Frisco  \n",
      "King Evolution \n",
      "Lawless Vision \n",
      "Love Suicides  \n",
      "Mixed Doors    \n",
      "Monsoon Cause  \n",
      "Moonwalker Fool\n",
      "Muscle Bright  \n",
      "Mussolini Spoil\n",
      "Nash Chocolat  \n",
      "Pond Seattle   \n",
      "Records Zorro  \n",
      "Reds Pocus     \n",
      "Runaway Tenenba\n",
      "Saturn Name    \n",
      "Scalawag Duck  \n",
      "Searchers Wait \n",
      "Smoochy Control\n",
      "Soldiers Evolut\n",
      "Something Duck \n",
      "Sons Interview \n",
      "Sorority Queen \n",
      "Star Operation \n",
      "Sweet Brotherho\n",
      "Theory Mermaid \n",
      "Wife Turn      \n",
      "Wild Apollo    \n",
      "Worst Banger   \n",
      "Young Language \n"
     ]
    }
   ],
   "source": [
    "! sqlite3 sakila211.db \"select title from film where length>=180\""
   ]
  },
  {
   "cell_type": "markdown",
   "metadata": {},
   "source": [
    "(8) How many films have a “G” rating and are less than 60 minutes long?"
   ]
  },
  {
   "cell_type": "code",
   "execution_count": 8,
   "metadata": {
    "collapsed": false,
    "deletable": false,
    "nbgrader": {
     "checksum": "3f60984cef7bc7cea4eebc63abbb9111",
     "grade": true,
     "grade_id": "query_8",
     "locked": false,
     "points": 2,
     "solution": true
    }
   },
   "outputs": [
    {
     "name": "stdout",
     "output_type": "stream",
     "text": [
      "count(*)  \n",
      "----------\n",
      "21        \n"
     ]
    }
   ],
   "source": [
    "! sqlite3 sakila211.db \"select count(*) from film where rating='G' and length<60\""
   ]
  },
  {
   "cell_type": "markdown",
   "metadata": {},
   "source": [
    "(9) What is the maximum replacement cost for any film?"
   ]
  },
  {
   "cell_type": "code",
   "execution_count": 9,
   "metadata": {
    "collapsed": false,
    "deletable": false,
    "nbgrader": {
     "checksum": "4e978c554314837f99ada46bba4506cc",
     "grade": true,
     "grade_id": "query_9",
     "locked": false,
     "points": 2,
     "solution": true
    }
   },
   "outputs": [
    {
     "name": "stdout",
     "output_type": "stream",
     "text": [
      "replacement_cost\n",
      "----------------\n",
      "29.99           \n"
     ]
    }
   ],
   "source": [
    "! sqlite3 sakila211.db \"select replacement_cost from film order by replacement_cost desc limit 1\""
   ]
  },
  {
   "cell_type": "markdown",
   "metadata": {},
   "source": [
    "(10) Print a table that lists the different types of ratings and the number of films that have that rating."
   ]
  },
  {
   "cell_type": "code",
   "execution_count": 10,
   "metadata": {
    "collapsed": false,
    "deletable": false,
    "nbgrader": {
     "checksum": "8e1de89901999890be844e2915eb5ef4",
     "grade": true,
     "grade_id": "query_10",
     "locked": false,
     "points": 2,
     "solution": true
    }
   },
   "outputs": [
    {
     "name": "stdout",
     "output_type": "stream",
     "text": [
      "rating      count(*)  \n",
      "----------  ----------\n",
      "G           178       \n",
      "NC-17       210       \n",
      "PG          194       \n",
      "PG-13       223       \n",
      "R           195       \n"
     ]
    }
   ],
   "source": [
    "! sqlite3 sakila211.db \"select rating, count(*) from film group by rating\""
   ]
  },
  {
   "cell_type": "markdown",
   "metadata": {},
   "source": [
    "## <span style=\"color:teal\">Part 2: &nbsp; Joins</span>"
   ]
  },
  {
   "cell_type": "markdown",
   "metadata": {},
   "source": [
    "The following queries all require a join of two or more tables. As a hint for how to create the query the table names are shown next to each a question."
   ]
  },
  {
   "cell_type": "markdown",
   "metadata": {},
   "source": [
    "(11) What are the film IDs of movies starring Jude Cruise?  &nbsp; &nbsp; [`actor`, `film_actor`]"
   ]
  },
  {
   "cell_type": "code",
   "execution_count": 11,
   "metadata": {
    "collapsed": false,
    "deletable": false,
    "nbgrader": {
     "checksum": "c626f13f16b011b334890f13ccf48a7b",
     "grade": true,
     "grade_id": "query_11",
     "locked": false,
     "points": 3,
     "solution": true
    },
    "scrolled": true
   },
   "outputs": [
    {
     "name": "stdout",
     "output_type": "stream",
     "text": [
      "film_id   \n",
      "----------\n",
      "16        \n",
      "34        \n",
      "101       \n",
      "114       \n",
      "122       \n",
      "134       \n",
      "144       \n",
      "153       \n",
      "192       \n",
      "213       \n",
      "258       \n",
      "267       \n",
      "317       \n",
      "340       \n",
      "393       \n",
      "437       \n",
      "447       \n",
      "502       \n",
      "592       \n",
      "605       \n",
      "637       \n",
      "685       \n",
      "707       \n",
      "714       \n",
      "717       \n",
      "737       \n",
      "767       \n",
      "852       \n",
      "891       \n",
      "918       \n"
     ]
    }
   ],
   "source": [
    "! sqlite3 sakila211.db \"select film_id from film_actor join actor using (actor_id) where first_name='Jude' and last_name='Cruise'\""
   ]
  },
  {
   "cell_type": "markdown",
   "metadata": {},
   "source": [
    "(12) What language was “Ace Goldfinger” filmed in?  &nbsp; &nbsp; [`film`, `language`]"
   ]
  },
  {
   "cell_type": "code",
   "execution_count": 12,
   "metadata": {
    "collapsed": false,
    "deletable": false,
    "nbgrader": {
     "checksum": "5c2b9575dc400f86b959c7ff874df154",
     "grade": true,
     "grade_id": "query_12",
     "locked": false,
     "points": 3,
     "solution": true
    }
   },
   "outputs": [
    {
     "name": "stdout",
     "output_type": "stream",
     "text": [
      "name      \n",
      "----------\n",
      "Japanese  \n"
     ]
    }
   ],
   "source": [
    "! sqlite3 sakila211.db \"select name from language join film using (language_id) where title='Ace Goldfinger'\""
   ]
  },
  {
   "cell_type": "markdown",
   "metadata": {},
   "source": [
    "(13) How many actors starred in the film named “Scalawag Duck”? &nbsp; &nbsp; [`film`, `film_actor`]"
   ]
  },
  {
   "cell_type": "code",
   "execution_count": 13,
   "metadata": {
    "collapsed": false,
    "deletable": false,
    "nbgrader": {
     "checksum": "55c2dcfd7dd9ca5a67855c6cb0c309be",
     "grade": true,
     "grade_id": "query_13",
     "locked": false,
     "points": 3,
     "solution": true
    }
   },
   "outputs": [
    {
     "name": "stdout",
     "output_type": "stream",
     "text": [
      "count(*)  \n",
      "----------\n",
      "5         \n"
     ]
    }
   ],
   "source": [
    "! sqlite3 sakila211.db \"select count(*) from film join film_actor using (film_id) where title='Scalawag Duck'\""
   ]
  },
  {
   "cell_type": "markdown",
   "metadata": {},
   "source": [
    "(14) Produce a table that shows how many films each customer has rented.  &nbsp; &nbsp; [`customer`, `rental`]"
   ]
  },
  {
   "cell_type": "code",
   "execution_count": 14,
   "metadata": {
    "collapsed": false,
    "deletable": false,
    "nbgrader": {
     "checksum": "db0fdecae51287220f5b1fc17f4f1538",
     "grade": true,
     "grade_id": "query_14",
     "locked": false,
     "points": 3,
     "solution": true
    }
   },
   "outputs": [
    {
     "name": "stdout",
     "output_type": "stream",
     "text": [
      "first_name  last_name   count(*)  \n",
      "----------  ----------  ----------\n",
      "Aaron       Selby       24        \n",
      "Adam        Gooch       22        \n",
      "Adrian      Clary       19        \n",
      "Agnes       Bishop      23        \n",
      "Alan        Kahn        26        \n",
      "Albert      Crouse      23        \n",
      "Alberto     Henning     21        \n",
      "Alex        Gresham     33        \n",
      "Alexander   Fennell     36        \n",
      "Alfred      Casillas    26        \n",
      "Alfredo     Mcadams     20        \n",
      "Alice       Stewart     33        \n",
      "Alicia      Mills       21        \n",
      "Allan       Cornish     19        \n",
      "Allen       Butterfiel  21        \n",
      "Allison     Stanley     27        \n",
      "Alma        Austin      35        \n",
      "Alvin       Deloach     29        \n",
      "Amanda      Carter      27        \n",
      "Amber       Dixon       27        \n",
      "Amy         Lopez       29        \n",
      "Ana         Bradley     34        \n",
      "Andre       Rapp        28        \n",
      "Andrea      Henderson   22        \n",
      "Andrew      Purdy       27        \n",
      "Andy        Vanhorn     25        \n",
      "Angel       Barclay     32        \n",
      "Angela      Hernandez   36        \n",
      "Anita       Morales     15        \n",
      "Ann         Evans       17        \n",
      "Anna        Hill        21        \n",
      "Anne        Powell      23        \n",
      "Annette     Olson       24        \n",
      "Annie       Russell     18        \n",
      "Anthony     Schwab      20        \n",
      "Antonio     Meek        16        \n",
      "April       Burns       26        \n",
      "Arlene      Harvey      26        \n",
      "Armando     Gruber      21        \n",
      "Arnold      Havens      33        \n",
      "Arthur      Simpkins    32        \n",
      "Ashley      Richardson  25        \n",
      "Audrey      Ray         29        \n",
      "Austin      Cintron     19        \n",
      "Barbara     Jones       22        \n",
      "Barry       Lovelace    33        \n",
      "Beatrice    Arnold      26        \n",
      "Becky       Miles       29        \n",
      "Ben         Easter      26        \n",
      "Benjamin    Varney      23        \n",
      "Bernard     Colby       22        \n",
      "Bernice     Willis      33        \n",
      "Bertha      Ferguson    25        \n",
      "Bessie      Morrison    28        \n",
      "Beth        Franklin    25        \n",
      "Betty       White       28        \n",
      "Beverly     Brooks      24        \n",
      "Bill        Gavin       28        \n",
      "Billie      Horton      26        \n",
      "Billy       Poulin      35        \n",
      "Bob         Pfeiffer    24        \n",
      "Bobbie      Craig       24        \n",
      "Bobby       Boudreau    35        \n",
      "Bonnie      Hughes      21        \n",
      "Brad        Mccurdy     25        \n",
      "Bradley     Motley      27        \n",
      "Brandon     Huey        37        \n",
      "Brandy      Graves      28        \n",
      "Brenda      Wright      26        \n",
      "Brent       Harkins     23        \n",
      "Brett       Cornwell    34        \n",
      "Brian       Wyman       12        \n",
      "Brittany    Riley       28        \n",
      "Bruce       Schwarz     23        \n",
      "Bryan       Hardison    28        \n",
      "Byron       Box         29        \n",
      "Calvin      Martel      23        \n",
      "Carl        Artis       23        \n",
      "Carla       Gutierrez   26        \n",
      "Carlos      Coughlin    23        \n",
      "Carmen      Owens       26        \n",
      "Carol       Garcia      22        \n",
      "Carole      Barnett     30        \n",
      "Caroline    Bowman      15        \n",
      "Carolyn     Perez       30        \n",
      "Carrie      Porter      34        \n",
      "Casey       Mena        34        \n",
      "Cassandra   Walters     30        \n",
      "Catherine   Campbell    34        \n",
      "Cathy       Spencer     29        \n",
      "Cecil       Vines       26        \n",
      "Chad        Carbone     25        \n",
      "Charlene    Alvarez     27        \n",
      "Charles     Kowalski    32        \n",
      "Charlie     Bess        26        \n",
      "Charlotte   Hunter      24        \n",
      "Cheryl      Murphy      27        \n",
      "Chester     Benner      24        \n",
      "Chris       Brothers    22        \n",
      "Christian   Jung        24        \n",
      "Christina   Ramirez     18        \n",
      "Christine   Roberts     24        \n",
      "Christophe  Greco       31        \n",
      "Christy     Vargas      31        \n",
      "Cindy       Fisher      29        \n",
      "Clara       Shaw        42        \n",
      "Clarence    Gamez       30        \n",
      "Claude      Herzog      25        \n",
      "Claudia     Fuller      26        \n",
      "Clayton     Barbee      26        \n",
      "Clifford    Bowens      29        \n",
      "Clifton     Malcolm     27        \n",
      "Clinton     Buford      25        \n",
      "Clyde       Tobias      29        \n",
      "Cody        Nolen       22        \n",
      "Colleen     Burton      24        \n",
      "Connie      Wallace     23        \n",
      "Constance   Reid        25        \n",
      "Corey       Hauser      22        \n",
      "Cory        Meehan      24        \n",
      "Courtney    Day         32        \n",
      "Craig       Morrell     30        \n",
      "Crystal     Ford        33        \n",
      "Curtis      Irby        38        \n",
      "Cynthia     Young       32        \n",
      "Daisy       Bates       38        \n",
      "Dale        Ratcliff    27        \n",
      "Dan         Paine       22        \n",
      "Dana        Hart        29        \n",
      "Daniel      Cabral      20        \n",
      "Danielle    Daniels     25        \n",
      "Danny       Isom        21        \n",
      "Darlene     Rose        31        \n",
      "Darrell     Power       25        \n",
      "Darren      Windham     24        \n",
      "Darryl      Ashcraft    23        \n",
      "Daryl       Larue       27        \n",
      "Dave        Gardiner    32        \n",
      "David       Royal       26        \n",
      "Dawn        Sullivan    26        \n",
      "Dean        Sauer       27        \n",
      "Deanna      Byrd        26        \n",
      "Debbie      Reyes       32        \n",
      "Deborah     Walker      29        \n",
      "Debra       Nelson      29        \n",
      "Delores     Hansen      21        \n",
      "Denise      Kelly       27        \n",
      "Dennis      Gilman      28        \n",
      "Derek       Blakely     28        \n",
      "Derrick     Bourque     22        \n",
      "Diana       Alexander   27        \n",
      "Diane       Collins     35        \n",
      "Dianne      Shelton     31        \n",
      "Dolores     Wagner      26        \n",
      "Don         Bone        25        \n",
      "Donald      Mahon       23        \n",
      "Donna       Thompson    21        \n",
      "Dora        Medina      23        \n",
      "Doris       Reed        22        \n",
      "Dorothy     Taylor      25        \n",
      "Douglas     Graf        25        \n",
      "Duane       Tubbs       31        \n",
      "Dustin      Gillette    26        \n",
      "Dwayne      Olvera      22        \n",
      "Dwight      Lombardi    17        \n",
      "Earl        Shanks      27        \n",
      "Eddie       Tomlin      27        \n",
      "Edgar       Rhoads      25        \n",
      "Edith       Mcdonald    19        \n",
      "Edna        West        26        \n",
      "Eduardo     Hiatt       27        \n",
      "Edward      Baugh       28        \n",
      "Edwin       Burk        23        \n",
      "Eileen      Carr        18        \n",
      "Elaine      Stevens     24        \n",
      "Eleanor     Hunt        46        \n",
      "Elizabeth   Brown       38        \n",
      "Ella        Oliver      31        \n",
      "Ellen       Simpson     28        \n",
      "Elmer       Noe         26        \n",
      "Elsie       Kelley      37        \n",
      "Emily       Diaz        24        \n",
      "Emma        Boyd        23        \n",
      "Enrique     Forsythe    28        \n",
      "Eric        Robert      27        \n",
      "Erica       Matthews    22        \n",
      "Erik        Guillen     29        \n",
      "Erika       Pena        26        \n",
      "Erin        Dunn        27        \n",
      "Ernest      Stepp       25        \n",
      "Esther      Crawford    28        \n",
      "Ethel       Webb        32        \n",
      "Eugene      Culpepper   19        \n",
      "Eva         Ramos       18        \n",
      "Evelyn      Morgan      28        \n",
      "Everett     Banda       28        \n",
      "Felicia     Sutton      28        \n",
      "Felix       Gaffney     24        \n",
      "Fernando    Churchill   25        \n",
      "Florence    Woods       30        \n",
      "Floyd       Gandy       17        \n",
      "Frances     Parker      22        \n",
      "Francis     Sikes       26        \n",
      "Francisco   Skidmore    22        \n",
      "Frank       Waggoner    32        \n",
      "Franklin    Troutman    22        \n",
      "Fred        Wheat       25        \n",
      "Freddie     Duggan      25        \n",
      "Frederick   Isbell      21        \n",
      "Gabriel     Harder      26        \n",
      "Gail        Knight      25        \n",
      "Gary        Coy         25        \n",
      "Gene        Sanborn     27        \n",
      "George      Linton      33        \n",
      "Georgia     Jacobs      26        \n",
      "Gerald      Fultz       30        \n",
      "Geraldine   Perkins     30        \n",
      "Gertrude    Castillo    34        \n",
      "Gilbert     Sledge      28        \n",
      "Gina        Williamson  28        \n",
      "Gladys      Hamilton    31        \n",
      "Glen        Talbert     26        \n",
      "Glenda      Frazier     32        \n",
      "Glenn       Pullen      23        \n",
      "Gloria      Cook        30        \n",
      "Gordon      Allard      32        \n",
      "Grace       Ellis       33        \n",
      "Greg        Robins      30        \n",
      "Gregory     Mauldin     23        \n",
      "Guy         Brownlee    32        \n",
      "Gwendolyn   May         25        \n",
      "Harold      Martino     32        \n",
      "Harry       Arce        35        \n",
      "Harvey      Guajardo    22        \n",
      "Hazel       Warren      34        \n",
      "Heather     Morris      30        \n",
      "Hector      Poindexter  26        \n",
      "Heidi       Larson      34        \n",
      "Helen       Harris      32        \n",
      "Henry       Billingsle  18        \n",
      "Herbert     Kruger      20        \n",
      "Herman      Devore      29        \n",
      "Hilda       Hopkins     29        \n",
      "Holly       Fox         31        \n",
      "Howard      Fortner     26        \n",
      "Hugh        Waldrop     21        \n",
      "Ian         Still       27        \n",
      "Ida         Andrews     23        \n",
      "Irene       Price       23        \n",
      "Irma        Pearson     18        \n",
      "Isaac       Oglesby     29        \n",
      "Ivan        Cromwell    26        \n",
      "Jack        Foust       24        \n",
      "Jackie      Lynch       25        \n",
      "Jacob       Lance       21        \n",
      "Jacqueline  Long        33        \n",
      "Jaime       Nettles     29        \n",
      "James       Gannon      30        \n",
      "Jamie       Rice        29        \n",
      "Jamie       Waugh       25        \n",
      "Jane        Bennett     28        \n",
      "Janet       Phillips    27        \n",
      "Janice      Ward        34        \n",
      "Jared       Ely         19        \n",
      "Jason       Morrissey   28        \n",
      "Javier      Elrod       32        \n",
      "Jay         Robb        26        \n",
      "Jean        Bell        27        \n",
      "Jeanette    Greene      20        \n",
      "Jeanne      Lawson      27        \n",
      "Jeff        East        30        \n",
      "Jeffery     Pinson      31        \n",
      "Jeffrey     Spear       23        \n",
      "Jennie      Terry       29        \n",
      "Jennifer    Davis       28        \n",
      "Jenny       Castro      27        \n",
      "Jeremy      Hurtado     28        \n",
      "Jerome      Kenyon      16        \n",
      "Jerry       Jordon      29        \n",
      "Jesse       Schilling   26        \n",
      "Jessica     Hall        34        \n",
      "Jessie      Banks       26        \n",
      "Jessie      Milam       33        \n",
      "Jesus       Mccartney   24        \n",
      "Jill        Hawkins     21        \n",
      "Jim         Rea         33        \n",
      "Jimmie      Eggleston   28        \n",
      "Jimmy       Schrader    29        \n",
      "Jo          Fowler      20        \n",
      "Joan        Cooper      23        \n",
      "Joann       Gardner     16        \n",
      "Joanne      Robertson   34        \n",
      "Joe         Gilliland   29        \n",
      "Joel        Francisco   23        \n",
      "John        Farnsworth  31        \n",
      "Johnnie     Chisholm    24        \n",
      "Johnny      Turpin      19        \n",
      "Jon         Wiles       24        \n",
      "Jonathan    Scarboroug  18        \n",
      "Jordan      Archuleta   30        \n",
      "Jorge       Olivares    34        \n",
      "Jose        Andrew      25        \n",
      "Joseph      Joy         30        \n",
      "Josephine   Gomez       26        \n",
      "Joshua      Mark        30        \n",
      "Joy         George      33        \n",
      "Joyce       Edwards     28        \n",
      "Juan        Fraley      23        \n",
      "Juanita     Mason       30        \n",
      "Judith      Cox         33        \n",
      "Judy        Gray        25        \n",
      "Julia       Flores      32        \n",
      "Julian      Vest        28        \n",
      "Julie       Sanchez     29        \n",
      "Julio       Noland      21        \n",
      "June        Carroll     37        \n",
      "Justin      Ngo         36        \n",
      "Karen       Jackson     27        \n",
      "Karl        Seal        45        \n",
      "Katherine   Rivera      14        \n",
      "Kathleen    Adams       27        \n",
      "Kathryn     Coleman     26        \n",
      "Kathy       James       30        \n",
      "Katie       Elliott     25        \n",
      "Kay         Caldwell    20        \n",
      "Keith       Rico        26        \n",
      "Kelly       Knott       25        \n",
      "Kelly       Torres      22        \n",
      "Ken         Prewitt     29        \n",
      "Kenneth     Gooden      17        \n",
      "Kent        Arsenault   27        \n",
      "Kevin       Schuler     22        \n",
      "Kim         Cruz        21        \n",
      "Kimberly    Lee         25        \n",
      "Kirk        Stclair     19        \n",
      "Kristen     Chavez      18        \n",
      "Kristin     Johnston    31        \n",
      "Kristina    Chambers    28        \n",
      "Kurt        Emmons      23        \n",
      "Kyle        Spurlock    30        \n",
      "Lance       Pemberton   22        \n",
      "Larry       Thrasher    26        \n",
      "Laura       Rodriguez   22        \n",
      "Lauren      Hudson      20        \n",
      "Laurie      Lawrence    23        \n",
      "Lawrence    Lawton      31        \n",
      "Leah        Curtis      25        \n",
      "Lee         Hawks       27        \n",
      "Lena        Jensen      32        \n",
      "Leo         Ebert       23        \n",
      "Leon        Bostic      25        \n",
      "Leona       Obrien      14        \n",
      "Leonard     Schofield   32        \n",
      "Leroy       Bustamante  32        \n",
      "Leslie      Gordon      22        \n",
      "Leslie      Seward      35        \n",
      "Lester      Kraus       16        \n",
      "Lewis       Lyman       19        \n",
      "Lillian     Griffin     25        \n",
      "Lillie      Kim         23        \n",
      "Linda       Williams    26        \n",
      "Lisa        Anderson    24        \n",
      "Lloyd       Dowd        19        \n",
      "Lois        Butler      35        \n",
      "Lonnie      Tirado      18        \n",
      "Loretta     Carpenter   22        \n",
      "Lori        Wood        31        \n",
      "Lorraine    Stephens    21        \n",
      "Louis       Leone       35        \n",
      "Louise      Jenkins     25        \n",
      "Lucille     Holmes      28        \n",
      "Lucy        Wheeler     26        \n",
      "Luis        Yanez       20        \n",
      "Lydia       Burke       24        \n",
      "Lynn        Payne       28        \n",
      "Mabel       Holland     30        \n",
      "Mae         Fletcher    31        \n",
      "Manuel      Murrell     30        \n",
      "Marc        Outlaw      30        \n",
      "Marcia      Dean        42        \n",
      "Marcus      Hidalgo     30        \n",
      "Margaret    Moore       23        \n",
      "Margie      Wade        36        \n",
      "Maria       Miller      33        \n",
      "Marian      Mendoza     23        \n",
      "Marie       Turner      26        \n",
      "Marilyn     Ross        30        \n",
      "Mario       Cheatham    28        \n",
      "Marion      Ocampo      29        \n",
      "Marion      Snyder      39        \n",
      "Marjorie    Tucker      32        \n",
      "Mark        Rinehart    26        \n",
      "Marlene     Welch       26        \n",
      "Marsha      Douglas     37        \n",
      "Marshall    Thorn       23        \n",
      "Martha      Gonzalez    34        \n",
      "Martin      Bales       27        \n",
      "Marvin      Yee         21        \n",
      "Mary        Smith       32        \n",
      "Mathew      Bolin       22        \n",
      "Matthew     Mahan       31        \n",
      "Mattie      Hoffman     22        \n",
      "Maureen     Little      21        \n",
      "Maurice     Crawley     29        \n",
      "Max         Pitt        24        \n",
      "Maxine      Silva       32        \n",
      "Megan       Palmer      27        \n",
      "Melanie     Armstrong   25        \n",
      "Melinda     Fernandez   17        \n",
      "Melissa     King        34        \n",
      "Melvin      Ellington   26        \n",
      "Michael     Silverman   29        \n",
      "Micheal     Forman      26        \n",
      "Michele     Grant       30        \n",
      "Michelle    Clark       35        \n",
      "Miguel      Betancourt  29        \n",
      "Mike        Way         35        \n",
      "Mildred     Bailey      25        \n",
      "Milton      Howland     25        \n",
      "Minnie      Romero      34        \n",
      "Miriam      Mckinney    26        \n",
      "Misty       Lambert     27        \n",
      "Mitchell    Westmorela  32        \n",
      "Monica      Hicks       30        \n",
      "Morris      Mccarter    34        \n",
      "Myrtle      Fleming     24        \n",
      "Nancy       Thomas      28        \n",
      "Naomi       Jennings    35        \n",
      "Natalie     Meyer       23        \n",
      "Nathan      Runyon      32        \n",
      "Nathaniel   Adam        28        \n",
      "Neil        Renner      32        \n",
      "Nellie      Garrett     21        \n",
      "Nelson      Christenso  20        \n",
      "Nicholas    Barfield    32        \n",
      "Nicole      Peterson    22        \n",
      "Nina        Soto        29        \n",
      "Nora        Herrera     28        \n",
      "Norma       Gonzales    21        \n",
      "Norman      Currier     26        \n",
      "Olga        Jimenez     32        \n",
      "Oscar       Aquino      20        \n",
      "Pamela      Baker       23        \n",
      "Patricia    Johnson     27        \n",
      "Patrick     Newsom      31        \n",
      "Patsy       Davidson    28        \n",
      "Paul        Trout       23        \n",
      "Paula       Bryant      18        \n",
      "Pauline     Henry       27        \n",
      "Pearl       Garza       22        \n",
      "Pedro       Chestnut    24        \n",
      "Peggy       Myers       24        \n",
      "Penny       Neal        18        \n",
      "Perry       Swafford    24        \n",
      "Peter       Menard      23        \n",
      "Philip      Causey      31        \n",
      "Phillip     Holm        26        \n",
      "Phyllis     Foster      23        \n",
      "Priscilla   Lowe        35        \n",
      "Rachel      Barnes      22        \n",
      "Rafael      Abney       21        \n",
      "Ralph       Madrigal    34        \n",
      "Ramon       Choate      31        \n",
      "Ramona      Hale        30        \n",
      "Randall     Neumann     23        \n",
      "Randy       Gaither     28        \n",
      "Raul        Fortier     20        \n",
      "Ray         Houle       22        \n",
      "Raymond     Mcwhorter   30        \n",
      "Rebecca     Scott       24        \n",
      "Regina      Berry       34        \n",
      "Reginald    Kinder      28        \n",
      "Rene        Mcalister   26        \n",
      "Renee       Lane        26        \n",
      "Rhonda      Kennedy     39        \n",
      "Ricardo     Meador      21        \n",
      "Richard     Mccrary     25        \n",
      "Rick        Mattox      27        \n",
      "Ricky       Shelby      25        \n",
      "Rita        Graham      24        \n",
      "Robert      Baughman    21        \n",
      "Roberta     Harper      23        \n",
      "Roberto     Vu          30        \n",
      "Robin       Hayes       24        \n",
      "Rodney      Moeller     23        \n",
      "Roger       Quintanill  36        \n",
      "Roland      South       23        \n",
      "Ron         Deluca      23        \n",
      "Ronald      Weiner      30        \n",
      "Ronnie      Ricketts    25        \n",
      "Rosa        Reynolds    30        \n",
      "Rose        Howard      22        \n",
      "Rosemary    Schmidt     35        \n",
      "Ross        Grey        27        \n",
      "Roy         Whiting     29        \n",
      "Ruben       Geary       21        \n",
      "Ruby        Washington  28        \n",
      "Russell     Brinson     36        \n",
      "Ruth        Martinez    24        \n",
      "Ryan        Salisbury   30        \n",
      "Sally       Pierce      32        \n",
      "Salvador    Teel        30        \n",
      "Sam         Mcduffie    24        \n",
      "Samantha    Duncan      23        \n",
      "Samuel      Marlow      21        \n",
      "Sandra      Martin      28        \n",
      "Sara        Perry       33        \n",
      "Sarah       Lewis       30        \n",
      "Scott       Shelley     25        \n",
      "Sean        Douglass    23        \n",
      "Sergio      Stanfield   26        \n",
      "Seth        Hannon      25        \n",
      "Shane       Millard     22        \n",
      "Shannon     Freeman     24        \n",
      "Sharon      Robinson    30        \n",
      "Shawn       Heaton      33        \n",
      "Sheila      Wells       18        \n",
      "Shelly      Watts       26        \n",
      "Sherri      Rhodes      33        \n",
      "Sherry      Marshall    34        \n",
      "Shirley     Allen       31        \n",
      "Sidney      Burleson    25        \n",
      "Sonia       Gregory     28        \n",
      "Stacey      Montgomery  34        \n",
      "Stacy       Cunningham  23        \n",
      "Stanley     Scroggins   30        \n",
      "Stella      Moreno      22        \n",
      "Stephanie   Mitchell    25        \n",
      "Stephen     Qualls      28        \n",
      "Steve       Mackenzie   34        \n",
      "Steven      Curley      29        \n",
      "Sue         Peters      40        \n",
      "Susan       Wilson      24        \n",
      "Suzanne     Nichols     24        \n",
      "Sylvia      Ortiz       32        \n",
      "Tamara      Nguyen      25        \n",
      "Tammy       Sanders     41        \n",
      "Tanya       Gilbert     33        \n",
      "Tara        Ryan        20        \n",
      "Ted         Breaux      29        \n",
      "Teresa      Rogers      29        \n",
      "Terrance    Roush       29        \n",
      "Terrence    Gunderson   30        \n",
      "Terri       Vasquez     27        \n",
      "Terry       Carlson     29        \n",
      "Terry       Grissom     20        \n",
      "Thelma      Murray      32        \n",
      "Theodore    Culp        31        \n",
      "Theresa     Watson      30        \n",
      "Thomas      Grigsby     25        \n",
      "Tiffany     Jordan      14        \n",
      "Tim         Cary        39        \n",
      "Timothy     Bunn        22        \n",
      "Tina        Simmons     28        \n",
      "Todd        Tan         29        \n",
      "Tom         Milner      32        \n",
      "Tommy       Collazo     38        \n",
      "Toni        Holt        23        \n",
      "Tony        Carranza    21        \n",
      "Tonya       Chapman     32        \n",
      "Tracey      Barrett     27        \n",
      "Tracy       Cole        30        \n",
      "Tracy       Herrmann    28        \n",
      "Travis      Estep       25        \n",
      "Troy        Quigley     30        \n",
      "Tyler       Wren        21        \n",
      "Tyrone      Asher       24        \n",
      "Valerie     Black       26        \n",
      "Vanessa     Sims        19        \n",
      "Velma       Lucas       27        \n",
      "Vera        Mccoy       18        \n",
      "Vernon      Chapa       18        \n",
      "Veronica    Stone       32        \n",
      "Vicki       Fields      25        \n",
      "Vickie      Brewer      31        \n",
      "Victor      Barkley     24        \n",
      "Victoria    Gibson      27        \n",
      "Vincent     Ralston     25        \n",
      "Viola       Hanson      32        \n",
      "Violet      Rodriquez   30        \n",
      "Virgil      Wofford     27        \n",
      "Virginia    Green       32        \n",
      "Vivian      Ruiz        23        \n",
      "Wade        Delvalle    22        \n",
      "Wallace     Slone       25        \n",
      "Walter      Perryman    30        \n",
      "Wanda       Patterson   30        \n",
      "Warren      Sherrod     33        \n",
      "Wayne       Truong      19        \n",
      "Wendy       Harrison    30        \n",
      "Wesley      Bull        40        \n",
      "Willard     Lumpkin     22        \n",
      "William     Satterfiel  26        \n",
      "Willie      Howell      26        \n",
      "Willie      Markham     25        \n",
      "Wilma       Richards    20        \n",
      "Yolanda     Weaver      27        \n",
      "Yvonne      Watkins     21        \n",
      "Zachary     Hite        31        \n"
     ]
    }
   ],
   "source": [
    "! sqlite3 sakila211.db \"select first_name, last_name, count(*) from customer join rental using (customer_id) group by first_name, last_name\""
   ]
  },
  {
   "cell_type": "markdown",
   "metadata": {},
   "source": [
    "(15) How many films did the customer named Smith rent?  &nbsp; &nbsp; [`customer`, `rental`]"
   ]
  },
  {
   "cell_type": "code",
   "execution_count": 15,
   "metadata": {
    "collapsed": false,
    "deletable": false,
    "nbgrader": {
     "checksum": "acd6a44d97465509b36dc321fb726224",
     "grade": true,
     "grade_id": "query_15",
     "locked": false,
     "points": 3,
     "solution": true
    }
   },
   "outputs": [
    {
     "name": "stdout",
     "output_type": "stream",
     "text": [
      "count(*)  \n",
      "----------\n",
      "32        \n"
     ]
    }
   ],
   "source": [
    "! sqlite3 sakila211.db \"select count(*) from customer join rental using (customer_id) where last_name='Smith'\""
   ]
  },
  {
   "cell_type": "markdown",
   "metadata": {},
   "source": [
    "(16) Which customers have not returned films (*i.e.* the return_date field in the rental table is null)?  &nbsp; &nbsp; [`customer`, `rental`]"
   ]
  },
  {
   "cell_type": "code",
   "execution_count": 16,
   "metadata": {
    "collapsed": false,
    "deletable": false,
    "nbgrader": {
     "checksum": "bcf1ed821747656bbc8e38355aca630f",
     "grade": true,
     "grade_id": "query_16",
     "locked": false,
     "points": 3,
     "solution": true
    }
   },
   "outputs": [
    {
     "name": "stdout",
     "output_type": "stream",
     "text": [
      "first_name  last_name \n",
      "----------  ----------\n",
      "Gail        Knight    \n",
      "Gregory     Mauldin   \n",
      "Louise      Jenkins   \n",
      "Willie      Howell    \n",
      "Emily       Diaz      \n",
      "Laurie      Lawrence  \n",
      "Lisa        Anderson  \n",
      "Freddie     Duggan    \n",
      "Heather     Morris    \n",
      "Roland      South     \n",
      "Natalie     Meyer     \n",
      "Scott       Shelley   \n",
      "Louis       Leone     \n",
      "Cathy       Spencer   \n",
      "Guy         Brownlee  \n",
      "Justin      Ngo       \n",
      "Jerry       Jordon    \n",
      "Alicia      Mills     \n",
      "Jeanne      Lawson    \n",
      "Dustin      Gillette  \n",
      "Morris      Mccarter  \n",
      "Judy        Gray      \n",
      "Julie       Sanchez   \n",
      "Ramona      Hale      \n",
      "Sonia       Gregory   \n",
      "Margie      Wade      \n",
      "Zachary     Hite      \n",
      "Jordan      Archuleta \n",
      "Andy        Vanhorn   \n",
      "Elmer       Noe       \n",
      "Peggy       Myers     \n",
      "Sergio      Stanfield \n",
      "Laura       Rodriguez \n",
      "Anna        Hill      \n",
      "Gail        Knight    \n",
      "Marilyn     Ross      \n",
      "Mildred     Bailey    \n",
      "Grace       Ellis     \n",
      "Barry       Lovelace  \n",
      "Edward      Baugh     \n",
      "Cassandra   Walters   \n",
      "Bill        Gavin     \n",
      "Curtis      Irby      \n",
      "Allison     Stanley   \n",
      "Courtney    Day       \n",
      "Gilbert     Sledge    \n",
      "Ivan        Cromwell  \n",
      "Wanda       Patterson \n",
      "Viola       Hanson    \n",
      "Stacey      Montgomery\n",
      "Justin      Ngo       \n",
      "Cecil       Vines     \n",
      "Leonard     Schofield \n",
      "Craig       Morrell   \n",
      "Marion      Snyder    \n",
      "Stacy       Cunningham\n",
      "Lois        Butler    \n",
      "Elmer       Noe       \n",
      "Cynthia     Young     \n",
      "Sonia       Gregory   \n",
      "Natalie     Meyer     \n",
      "Marcia      Dean      \n",
      "Ana         Bradley   \n",
      "Joshua      Mark      \n",
      "Cassandra   Walters   \n",
      "Wendy       Harrison  \n",
      "Florence    Woods     \n",
      "Bernard     Colby     \n",
      "Beverly     Brooks    \n",
      "Annette     Olson     \n",
      "Chris       Brothers  \n",
      "Tyler       Wren      \n",
      "Elizabeth   Brown     \n",
      "Norman      Currier   \n",
      "Travis      Estep     \n",
      "Tamara      Nguyen    \n",
      "Lawrence    Lawton    \n",
      "Judith      Cox       \n",
      "Carolyn     Perez     \n",
      "Colleen     Burton    \n",
      "Juanita     Mason     \n",
      "Clinton     Buford    \n",
      "Brandon     Huey      \n",
      "Marie       Turner    \n",
      "Morris      Mccarter  \n",
      "Naomi       Jennings  \n",
      "Tammy       Sanders   \n",
      "Dianne      Shelton   \n",
      "Darryl      Ashcraft  \n",
      "Miguel      Betancourt\n",
      "Albert      Crouse    \n",
      "Allan       Cornish   \n",
      "Joel        Francisco \n",
      "Margie      Wade      \n",
      "Lucy        Wheeler   \n",
      "Charlie     Bess      \n",
      "Mattie      Hoffman   \n",
      "Betty       White     \n",
      "Helen       Harris    \n",
      "Fred        Wheat     \n",
      "Derrick     Bourque   \n",
      "Beth        Franklin  \n",
      "Gary        Coy       \n",
      "Helen       Harris    \n",
      "Jessie      Milam     \n",
      "Annette     Olson     \n",
      "Dwayne      Olvera    \n",
      "Vickie      Brewer    \n",
      "Heather     Morris    \n",
      "Brent       Harkins   \n",
      "Jay         Robb      \n",
      "Tom         Milner    \n",
      "Becky       Miles     \n",
      "Holly       Fox       \n",
      "Raymond     Mcwhorter \n",
      "Lauren      Hudson    \n",
      "Gwendolyn   May       \n",
      "Cory        Meehan    \n",
      "Felix       Gaffney   \n",
      "Milton      Howland   \n",
      "Jeanette    Greene    \n",
      "Gina        Williamson\n",
      "Ian         Still     \n",
      "Jordan      Archuleta \n",
      "Kenneth     Gooden    \n",
      "Tammy       Sanders   \n",
      "Melanie     Armstrong \n",
      "Bill        Gavin     \n",
      "Christian   Jung      \n",
      "Alberto     Henning   \n",
      "Perry       Swafford  \n",
      "Terrance    Roush     \n",
      "Neil        Renner    \n",
      "Miguel      Betancourt\n",
      "Mildred     Bailey    \n",
      "Terry       Grissom   \n",
      "Lawrence    Lawton    \n",
      "Mario       Cheatham  \n",
      "Joe         Gilliland \n",
      "Greg        Robins    \n",
      "Michelle    Clark     \n",
      "Adrian      Clary     \n",
      "Robin       Hayes     \n",
      "Kyle        Spurlock  \n",
      "Yolanda     Weaver    \n",
      "Tammy       Sanders   \n",
      "Allison     Stanley   \n",
      "Cathy       Spencer   \n",
      "Hilda       Hopkins   \n",
      "Tracy       Cole      \n",
      "Larry       Thrasher  \n",
      "Allen       Butterfiel\n",
      "Jean        Bell      \n",
      "Norma       Gonzales  \n",
      "Carolyn     Perez     \n",
      "Enrique     Forsythe  \n",
      "Jenny       Castro    \n",
      "Melvin      Ellington \n",
      "April       Burns     \n",
      "Seth        Hannon    \n",
      "Florence    Woods     \n",
      "Sarah       Lewis     \n",
      "Carmen      Owens     \n",
      "Angela      Hernandez \n",
      "Christine   Roberts   \n",
      "Kristin     Johnston  \n",
      "Willie      Markham   \n",
      "John        Farnsworth\n",
      "Lee         Hawks     \n",
      "Gloria      Cook      \n",
      "Lucy        Wheeler   \n",
      "Katie       Elliott   \n",
      "Daisy       Bates     \n",
      "Christine   Roberts   \n",
      "Claudia     Fuller    \n",
      "Sylvia      Ortiz     \n",
      "Daryl       Larue     \n",
      "Margaret    Moore     \n",
      "Jessie      Banks     \n",
      "Rafael      Abney     \n",
      "Stephanie   Mitchell  \n",
      "Regina      Berry     \n",
      "Jeremy      Hurtado   \n"
     ]
    }
   ],
   "source": [
    "! sqlite3 sakila211.db \"select first_name, last_name from customer join rental using (customer_id) where return_date is null\""
   ]
  },
  {
   "cell_type": "markdown",
   "metadata": {},
   "source": [
    "(17) Which actors starred in “Splash Gump”?  &nbsp; &nbsp; [`film`, `film_actor`, `actor`]"
   ]
  },
  {
   "cell_type": "code",
   "execution_count": 17,
   "metadata": {
    "collapsed": false,
    "deletable": false,
    "nbgrader": {
     "checksum": "62934f2def9ff51a7b7eb88292c4c069",
     "grade": true,
     "grade_id": "query_17",
     "locked": false,
     "points": 4,
     "solution": true
    },
    "scrolled": true
   },
   "outputs": [
    {
     "name": "stdout",
     "output_type": "stream",
     "text": [
      "first_name  last_name \n",
      "----------  ----------\n",
      "Penelope    Guiness   \n",
      "Jennifer    Davis     \n",
      "Uma         Wood      \n",
      "Cameron     Streep    \n",
      "Christian   Neeson    \n",
      "Ray         Johansson \n",
      "Gene        Willis    \n",
      "Morgan      Williams  \n",
      "Humphrey    Willis    \n",
      "Al          Garland   \n"
     ]
    }
   ],
   "source": [
    "! sqlite3 sakila211.db \"select first_name, last_name from actor join film_actor using (actor_id) join film using (film_id) where title='Splash Gump'\""
   ]
  },
  {
   "cell_type": "markdown",
   "metadata": {},
   "source": [
    "(18) Which films has Penelope Guiness starred in?  &nbsp; &nbsp; [`film`, `film_actor`, `actor`]"
   ]
  },
  {
   "cell_type": "code",
   "execution_count": 18,
   "metadata": {
    "collapsed": false,
    "deletable": false,
    "nbgrader": {
     "checksum": "d811e1e64a3a28da4103f0adb698f866",
     "grade": true,
     "grade_id": "query_18",
     "locked": false,
     "points": 4,
     "solution": true
    },
    "scrolled": false
   },
   "outputs": [
    {
     "name": "stdout",
     "output_type": "stream",
     "text": [
      "title           \n",
      "----------------\n",
      "Academy Dinosaur\n",
      "Anaconda Confess\n",
      "Angels Life     \n",
      "Bulworth Command\n",
      "Cheaper Clyde   \n",
      "Color Philadelph\n",
      "Elephant Trojan \n",
      "Gleaming Jawbrea\n",
      "Human Graffiti  \n",
      "King Evolution  \n",
      "Lady Stage      \n",
      "Language Cowboy \n",
      "Mulholland Beast\n",
      "Oklahoma Jumanji\n",
      "Rules Human     \n",
      "Splash Gump     \n",
      "Vertigo Northwes\n",
      "Westward Seabisc\n",
      "Wizard Coldblood\n"
     ]
    }
   ],
   "source": [
    "! sqlite3 sakila211.db \"select title from film join film_actor using (film_id) join actor using (actor_id) where first_name='Penelope' and last_name='Guiness'\""
   ]
  },
  {
   "cell_type": "markdown",
   "metadata": {},
   "source": [
    "(19) What are the names of the films rented by the customer named Knight?  &nbsp; &nbsp; [`customer`, `rental`, `inventory`, `film`]"
   ]
  },
  {
   "cell_type": "code",
   "execution_count": 19,
   "metadata": {
    "collapsed": false,
    "deletable": false,
    "nbgrader": {
     "checksum": "66ea5f83cfdb46127212f07cc8dfa1aa",
     "grade": true,
     "grade_id": "query_19",
     "locked": false,
     "points": 4,
     "solution": true
    },
    "scrolled": true
   },
   "outputs": [
    {
     "name": "stdout",
     "output_type": "stream",
     "text": [
      "title        \n",
      "-------------\n",
      "Jericho Mulan\n",
      "Frost Head   \n",
      "Clerks Angels\n",
      "Wife Turn    \n",
      "Expecations N\n",
      "Lawless Visio\n",
      "Soup Wisdom  \n",
      "Heartbreakers\n",
      "Bikini Borrow\n",
      "Attacks Hate \n",
      "Cupboard Sinn\n",
      "Princess Gian\n",
      "Cyclone Famil\n",
      "Platoon Insti\n",
      "Knock Warlock\n",
      "Excitement Ev\n",
      "Right Cranes \n",
      "Hyde Doctor  \n",
      "Fatal Haunted\n",
      "Chasing Fight\n",
      "Falcon Volume\n",
      "Tomorrow Hust\n",
      "Half Outfield\n",
      "Horror Reign \n",
      "Borrowers Bed\n"
     ]
    }
   ],
   "source": [
    "! sqlite3 sakila211.db \"select title from film join inventory using (film_id) join rental using (inventory_id) join customer using (customer_id) where last_name='Knight'\""
   ]
  },
  {
   "cell_type": "markdown",
   "metadata": {},
   "source": [
    "## <span style=\"color:teal\">Part 3: &nbsp; Monthly Report</span>"
   ]
  },
  {
   "cell_type": "markdown",
   "metadata": {},
   "source": [
    "For this part of the project you will write a report generator that will print a summary of monthly activity for a customer.  The report should show a list of all the films rented during the month along with a total amount due.\n",
    "This example shows the activity for the customer named Leo Ebert for the month of June, 2005.\n",
    "\n",
    "<pre>\n",
    "--- Sakila DVD Rentals ---\n",
    "\n",
    "Monthly Report for Leo Ebert \n",
    "\n",
    "Lonely Elephant                 06/16/2005    $2.99\n",
    "                   ** late fee  06/24/2005    $2.99\n",
    "Enemy Odds                      06/18/2005    $4.99\n",
    "                   ** late fee  06/27/2005    $4.99\n",
    "Song Hedwig                     06/20/2005    $0.99\n",
    "                   ** late fee  06/26/2005    $0.99\n",
    "Wash Heavenly                   06/21/2005    $4.99\n",
    "Hurricane Affair                06/21/2005    $2.99\n",
    "\n",
    "Monthly Total:  $25.92\n",
    "</pre>\n",
    "\n",
    "To compute the total, the report generator needs to add up all the rental fees, and for any film returned late, add an additional rental fee as the late charge. In the example, Leo rented *Lonely Elephant* on June 16 but didn’t return it until June 24. It was a 3-day rental, so he was charged an additional \\$2.99 (it was 5 days late, so we could have charged him \\$4.98 in late fees, but we’ll keep it simple and just charge the basic fee as the late fee).\n",
    "\n",
    "We've broken the problem into separate parts so they can be implemented and tested separately.  Your job is to fill in the code cells so each part passes the auto-grader tests.\n",
    "\n",
    "**Note:** &nbsp; There is no documentation requirement for this project."
   ]
  },
  {
   "cell_type": "markdown",
   "metadata": {},
   "source": [
    "### <span style=\"color:teal\">Database Connection</span>"
   ]
  },
  {
   "cell_type": "markdown",
   "metadata": {},
   "source": [
    "To simplify the code for this program you can define the database connection as a global variable.  The following code cell imports the libraries you need and defines the database connection."
   ]
  },
  {
   "cell_type": "code",
   "execution_count": 4,
   "metadata": {
    "collapsed": true
   },
   "outputs": [],
   "source": [
    "from sqlite3 import connect\n",
    "\n",
    "db = connect('sakila211.db')"
   ]
  },
  {
   "cell_type": "markdown",
   "metadata": {},
   "source": [
    "### <span style=\"color:teal\">Dates</span>"
   ]
  },
  {
   "cell_type": "markdown",
   "metadata": {},
   "source": [
    "Dates in a SQLite database are stored as strings.  The function below uses a Python library named `datetime` to parse a date string and return a string that can be printed as part of the report.  Read the online documentation for the `datetime` module if you want to learn more about date formats and functions that parse and format dates.\n",
    "\n",
    "**Note:** &nbsp; The format string is a global variable -- you can use this same format in your function that checks to see if a CD is overdue."
   ]
  },
  {
   "cell_type": "code",
   "execution_count": 5,
   "metadata": {
    "collapsed": false
   },
   "outputs": [],
   "source": [
    "from datetime import datetime\n",
    "\n",
    "date_format = \"%Y-%m-%d %H:%M:%S.%f\"\n",
    "\n",
    "def mmddyyyy(date):\n",
    "    d = datetime.strptime(date, date_format)\n",
    "    return '{:02d}/{:02d}/{:02d}'.format(d.month, d.day, d.year)"
   ]
  },
  {
   "cell_type": "code",
   "execution_count": 6,
   "metadata": {
    "collapsed": false
   },
   "outputs": [],
   "source": [
    "assert mmddyyyy('2005-02-26 20:59:35.000') == '02/26/2005'"
   ]
  },
  {
   "cell_type": "markdown",
   "metadata": {},
   "source": [
    "### <span style=\"color:teal\">Customer Name</span>"
   ]
  },
  {
   "cell_type": "markdown",
   "metadata": {},
   "source": [
    "Fill in the definition of the `customer_name` function.  It will be passed a string with a last name, and it should return a list of tuples of the form `(first, last)` with the first and last names of all customers with the same last name.  If there are no customers with that name the list should be empty."
   ]
  },
  {
   "cell_type": "code",
   "execution_count": 7,
   "metadata": {
    "collapsed": false,
    "deletable": false,
    "nbgrader": {
     "checksum": "e70c884e18f10012edb52e87d2719697",
     "grade": true,
     "grade_id": "customer_name",
     "locked": false,
     "points": 4,
     "solution": true
    }
   },
   "outputs": [],
   "source": [
    "def customer_names(s):\n",
    "    '''\n",
    "    Takes an name (s) to return a tuple with the full name of a customer from skalia database\n",
    "    '''\n",
    "    fullnames = []\n",
    "    lastnames = db.execute(\"select first_name, last_name from customer\")\n",
    "    for name in lastnames:\n",
    "        if name[1].lower() == s:\n",
    "            fullnames.append(name)\n",
    "    return fullnames\n"
   ]
  },
  {
   "cell_type": "markdown",
   "metadata": {},
   "source": [
    "##### <span style=\"color:red\">Autograder Tests:</span>"
   ]
  },
  {
   "cell_type": "markdown",
   "metadata": {},
   "source": [
    "**Do not edit, copy, or delete these cells.**"
   ]
  },
  {
   "cell_type": "code",
   "execution_count": 8,
   "metadata": {
    "collapsed": false,
    "deletable": false,
    "nbgrader": {
     "checksum": "a058825c6ac9ee1512975bf08b53f5e2",
     "grade": true,
     "grade_id": "cname_1",
     "locked": true,
     "points": 2,
     "solution": false
    }
   },
   "outputs": [],
   "source": [
    "assert customer_names('ebert') == [('Leo', 'Ebert')]"
   ]
  },
  {
   "cell_type": "code",
   "execution_count": 9,
   "metadata": {
    "collapsed": false,
    "deletable": false,
    "nbgrader": {
     "checksum": "8368cbc5b9882ede9ad70397eec55502",
     "grade": true,
     "grade_id": "cname_2",
     "locked": true,
     "points": 2,
     "solution": false
    }
   },
   "outputs": [],
   "source": [
    "assert customer_names('smith') == [('Mary', 'Smith')]"
   ]
  },
  {
   "cell_type": "code",
   "execution_count": 10,
   "metadata": {
    "collapsed": true,
    "deletable": false,
    "nbgrader": {
     "checksum": "898903e3d3e5b92bea1199d595596f78",
     "grade": true,
     "grade_id": "cname_3",
     "locked": true,
     "points": 2,
     "solution": false
    }
   },
   "outputs": [],
   "source": [
    "assert customer_names('turing') == []"
   ]
  },
  {
   "cell_type": "markdown",
   "metadata": {},
   "source": [
    "### <span style=\"color:teal\">Film List</span>"
   ]
  },
  {
   "cell_type": "markdown",
   "metadata": {},
   "source": [
    "Fill in the body of the `film_list` function so it returns a list of all CDs rented by a customer during a specified month. \n",
    "The parameters that will be passed to the function are the customer's last name (a string) and the month and year (both integers).  Return a list of tuples that have the following values, in the order shown:\n",
    "* film title\n",
    "* rental rate (how much it costs to rent the CD)\n",
    "* rental date (the date the CD was rented)\n",
    "* return date (the date the CD was returned)\n",
    "* rental duration (the number of days the CD can be out before a late fee is charged) \n",
    "\n",
    "All of the information you need can be retrieved with a single query that joins the rental, inventory, film, and customer tables. Note that this is the same query used to answer Question 19 above, except with different column names.\n",
    "\n",
    "**Hint:** &nbsp; The dates in the database are strings.  Think about pattern matching when you write the WHERE clause that specifies the date range.\n"
   ]
  },
  {
   "cell_type": "code",
   "execution_count": 11,
   "metadata": {
    "collapsed": false,
    "deletable": false,
    "nbgrader": {
     "checksum": "f088858c2cd4711c5ab68e68cb012b98",
     "grade": true,
     "grade_id": "film_list",
     "locked": false,
     "points": 6,
     "solution": true
    }
   },
   "outputs": [],
   "source": [
    "def film_list(name, month, year): \n",
    "    '''\n",
    "    Takes a customer name, month, and year and returns a list with the movies the given customer has rented and returned, \n",
    "    the rate, and the rental duration \n",
    "    '''\n",
    "    month, year = str(month).zfill(2), str(year)\n",
    "    \n",
    "    filmlist = []\n",
    "    \n",
    "    query = 'select title, rental_rate, rental_date, return_date, rental_duration from film join inventory using (film_id) \\\n",
    "    join rental using (inventory_id) join customer using (customer_id) where last_name=? and strftime(\"%m\", rental_date)=? and \\\n",
    "    strftime(\"%Y\", rental_date)=?'\n",
    "    \n",
    "    info = db.execute(query, (name, month, year))\n",
    "    \n",
    "    for line in info:\n",
    "        filmlist.append(line)\n",
    "    return filmlist"
   ]
  },
  {
   "cell_type": "markdown",
   "metadata": {},
   "source": [
    "##### <span style=\"color:red\">Autograder Tests:</span>"
   ]
  },
  {
   "cell_type": "markdown",
   "metadata": {},
   "source": [
    "**Do not edit, copy, or delete these cells.**"
   ]
  },
  {
   "cell_type": "code",
   "execution_count": 12,
   "metadata": {
    "collapsed": false,
    "deletable": false,
    "nbgrader": {
     "checksum": "ecda577b6149a8ba1c87959857708ffe",
     "grade": true,
     "grade_id": "film_1",
     "locked": true,
     "points": 2,
     "solution": false
    }
   },
   "outputs": [],
   "source": [
    "leo = film_list('Ebert', 6, 2005)\n",
    "assert len(leo) == 5\n",
    "assert leo[0] == (('Lonely Elephant', 2.99, '2005-06-16 20:59:35.000', '2005-06-24 15:31:35.000', 3))"
   ]
  },
  {
   "cell_type": "code",
   "execution_count": 13,
   "metadata": {
    "collapsed": true,
    "deletable": false,
    "nbgrader": {
     "checksum": "bb03a0a830f1591b9770aa54a841b5aa",
     "grade": true,
     "grade_id": "film_2",
     "locked": true,
     "points": 2,
     "solution": false
    }
   },
   "outputs": [],
   "source": [
    "mary = film_list('Smith', 8, 2005)\n",
    "assert len(mary) == 11\n",
    "assert mary[0] == ('Adaptation Holes', 2.99, '2005-08-01 08:51:04.000', '2005-08-10 12:12:04.000', 7)"
   ]
  },
  {
   "cell_type": "markdown",
   "metadata": {},
   "source": [
    "### <span style=\"color:teal\">Overdue CDs</span>"
   ]
  },
  {
   "cell_type": "markdown",
   "metadata": {},
   "source": [
    "To decide whether a CD was returned late you need to subtract the rental date from the return date and see if the difference is greater than the rental duration. The easiest way to do this is to use Python’s `datetime` library.\n",
    "\n",
    "Using a call to `strptime` (see the body of the `mmddyyyy` function defined above) create `datetime` objects for the rental date and the return date. Then subtract the rental date from the return date to get a `timedelta` object:\n",
    "```\n",
    "    diff = returned - rented\n",
    "```\n",
    "Now you can get attributes of the object named `diff` to tell you how far apart the dates were, for example `diff.days` will tell you the time difference in days.\n",
    "\n",
    "Fill in the body of the `overdue` function.  The parameters are a rental date, a return date, and the rental duration.  Return TRUE if the CD was not returned or if the number of days it was checked out is greater than the rental duration."
   ]
  },
  {
   "cell_type": "code",
   "execution_count": 18,
   "metadata": {
    "collapsed": false,
    "deletable": false,
    "nbgrader": {
     "checksum": "c323f797a07a6c9b3735ad8edf1d3421",
     "grade": true,
     "grade_id": "overdue",
     "locked": false,
     "points": 4,
     "solution": true
    }
   },
   "outputs": [],
   "source": [
    "def overdue(rent_date, return_date, duration):\n",
    "    '''\n",
    "    This takes two dates and a rental duration and returns true if the rental is overdue\n",
    "    '''\n",
    "    diff = datetime.strptime(return_date, date_format) - datetime.strptime(rent_date, date_format)\n",
    "    return diff.days >= duration"
   ]
  },
  {
   "cell_type": "code",
   "execution_count": 19,
   "metadata": {
    "collapsed": false,
    "deletable": false,
    "nbgrader": {
     "checksum": "80d794c42ab8cce996954fd9b03c3ab3",
     "grade": true,
     "grade_id": "overdue_1",
     "locked": true,
     "points": 2,
     "solution": false
    }
   },
   "outputs": [],
   "source": [
    "assert overdue('2005-06-16 20:59:35.000', '2005-06-19 20:59:35.000', 2)"
   ]
  },
  {
   "cell_type": "code",
   "execution_count": 20,
   "metadata": {
    "collapsed": false,
    "deletable": false,
    "nbgrader": {
     "checksum": "765469f430365b95790c1fc6ca19f4c8",
     "grade": true,
     "grade_id": "overdue_2",
     "locked": true,
     "points": 2,
     "solution": false
    }
   },
   "outputs": [],
   "source": [
    "assert not overdue('2005-06-16 20:59:35.000', '2005-06-17 20:59:35.000', 2)"
   ]
  },
  {
   "cell_type": "code",
   "execution_count": 21,
   "metadata": {
    "collapsed": false,
    "deletable": false,
    "nbgrader": {
     "checksum": "05f3f9c7bd7551799d290730dbebb1fe",
     "grade": true,
     "grade_id": "overdue_3",
     "locked": true,
     "points": 2,
     "solution": false
    }
   },
   "outputs": [
    {
     "ename": "AssertionError",
     "evalue": "",
     "output_type": "error",
     "traceback": [
      "\u001b[1;31m---------------------------------------------------------------------------\u001b[0m",
      "\u001b[1;31mAssertionError\u001b[0m                            Traceback (most recent call last)",
      "\u001b[1;32m<ipython-input-21-ede2c6dd80f4>\u001b[0m in \u001b[0;36m<module>\u001b[1;34m()\u001b[0m\n\u001b[1;32m----> 1\u001b[1;33m \u001b[1;32massert\u001b[0m \u001b[1;32mnot\u001b[0m \u001b[0moverdue\u001b[0m\u001b[1;33m(\u001b[0m\u001b[1;34m'2005-06-16 20:59:35.000'\u001b[0m\u001b[1;33m,\u001b[0m \u001b[1;34m'2005-06-19 20:59:34.000'\u001b[0m\u001b[1;33m,\u001b[0m \u001b[1;36m2\u001b[0m\u001b[1;33m)\u001b[0m\u001b[1;33m\u001b[0m\u001b[0m\n\u001b[0m",
      "\u001b[1;31mAssertionError\u001b[0m: "
     ]
    }
   ],
   "source": [
    "assert not overdue('2005-06-16 20:59:35.000', '2005-06-19 20:59:34.000', 2)"
   ]
  },
  {
   "cell_type": "markdown",
   "metadata": {},
   "source": [
    "### <span style=\"color:teal\">Report Generator</span>"
   ]
  },
  {
   "cell_type": "markdown",
   "metadata": {},
   "source": [
    "Fill in the body of the function named `sakila_report` so it prints a monthly report.  The arguments passed to the function will be a customer's last name (a string) and a month and year (both integers).\n",
    "\n",
    "If the customer is not in the database, or if there are two customers with the same last name, return None.  Otherwise print a list of films and late fees and the total amount due.\n",
    "\n",
    "You can format the report however you would like, as long as the following items appear somewhere in the output:\n",
    "* every fee should be printed with a dollar sign and an amount, for example `$2.99` or `25.92`\n",
    "* the total amound due should be printed on a line that includes the word `\"Total\"` followed by a dollar amount on the same line"
   ]
  },
  {
   "cell_type": "code",
   "execution_count": 34,
   "metadata": {
    "collapsed": false,
    "deletable": false,
    "nbgrader": {
     "checksum": "1df4a1d4be88cc0c6f4280e906e005f8",
     "grade": true,
     "grade_id": "report",
     "locked": false,
     "points": 10,
     "solution": true
    }
   },
   "outputs": [],
   "source": [
    "def sakila_report(customer, month, year):\n",
    "    '''\n",
    "    This takes a customer name, month and year to create a report of the month on the fees owed by given customer\n",
    "    '''\n",
    "    filmlist = film_list(customer, month, year)\n",
    "    total = 0\n",
    "    for line in filmlist:\n",
    "        print('{} ${} {}'.format(line[0], line[1], line[2]))\n",
    "        total += line[1]\n",
    "        if overdue(line[2], line[3], line[4]):\n",
    "            print('** late fee {} ${}'.format(line[3], line[1]))\n",
    "            total += line[1]\n",
    "    if total == 0:\n",
    "        return None\n",
    "    print('Monthly Total:  ${:.2f}'.format(total))"
   ]
  },
  {
   "cell_type": "markdown",
   "metadata": {},
   "source": [
    "##### <span style=\"color:red\">Tests</span>"
   ]
  },
  {
   "cell_type": "markdown",
   "metadata": {},
   "source": [
    "You can use code cells in this section (and add more if you wish) to test your functions."
   ]
  },
  {
   "cell_type": "code",
   "execution_count": null,
   "metadata": {
    "collapsed": true
   },
   "outputs": [],
   "source": []
  },
  {
   "cell_type": "markdown",
   "metadata": {},
   "source": [
    "##### <span style=\"color:red\">Autograder Tests</span>"
   ]
  },
  {
   "cell_type": "markdown",
   "metadata": {},
   "source": [
    "The tests for the `sakila_report` function will call the function and while using the IPython `capture` command to save everything the function prints.  We'll then use a function that counts the number of times a dollar amount (from either a rental fee or a late fee) occurs and make sure the total amount is the expected value.\n",
    "\n",
    "**Do not edit, copy, or delete these cells.**"
   ]
  },
  {
   "cell_type": "code",
   "execution_count": 35,
   "metadata": {
    "collapsed": false,
    "deletable": false,
    "nbgrader": {
     "checksum": "2f49d1799c7ab14021f07a28be3c903a",
     "grade": false,
     "grade_id": "check_report",
     "locked": true,
     "solution": false
    }
   },
   "outputs": [],
   "source": [
    "import re\n",
    "\n",
    "def check_report(text, expected_count, expected_total):\n",
    "    nums = []\n",
    "    for line in text.split('\\n'):\n",
    "        has_total = re.search(r'Total.*(\\$\\d+\\.\\d\\d)', line)\n",
    "        if has_total:\n",
    "            assert has_total.group(1) == expected_total\n",
    "        else:\n",
    "            for s in re.findall(r'\\$\\d+\\.\\d\\d', line):\n",
    "                nums.append(s)\n",
    "    assert(len(nums) == expected_count)\n",
    "    total = 0.0\n",
    "    for s in nums:\n",
    "        total += float(s[1:])\n",
    "    assert(round(total,2)) == round(float(expected_total[1:]), 2)\n",
    "    return True"
   ]
  },
  {
   "cell_type": "code",
   "execution_count": 36,
   "metadata": {
    "collapsed": true,
    "deletable": false,
    "nbgrader": {
     "checksum": "669aa6961ac2f3df7f43f3739c606684",
     "grade": false,
     "grade_id": "capture_leo",
     "locked": true,
     "solution": false
    }
   },
   "outputs": [],
   "source": [
    "%%capture res\n",
    "sakila_report('Ebert', 6, 2005)"
   ]
  },
  {
   "cell_type": "code",
   "execution_count": 37,
   "metadata": {
    "collapsed": false,
    "deletable": false,
    "nbgrader": {
     "checksum": "52d5bbb12d2951cd7f316dfafb8f9357",
     "grade": true,
     "grade_id": "leo_test",
     "locked": true,
     "points": 4,
     "solution": false
    }
   },
   "outputs": [],
   "source": [
    "assert check_report(res.stdout, 8, '$25.92')"
   ]
  },
  {
   "cell_type": "code",
   "execution_count": 38,
   "metadata": {
    "collapsed": true,
    "deletable": false,
    "nbgrader": {
     "checksum": "8ff3338ef9d21fa580671aa6f7141965",
     "grade": false,
     "grade_id": "capture_mary",
     "locked": true,
     "solution": false
    }
   },
   "outputs": [],
   "source": [
    "%%capture res\n",
    "sakila_report('Smith', 8, 2005)"
   ]
  },
  {
   "cell_type": "code",
   "execution_count": 39,
   "metadata": {
    "collapsed": false,
    "deletable": false,
    "nbgrader": {
     "checksum": "ef16e7521cb06dedabc59aa25a9e390d",
     "grade": true,
     "grade_id": "mary_test",
     "locked": true,
     "points": 4,
     "solution": false
    }
   },
   "outputs": [],
   "source": [
    "assert check_report(res.stdout, 15, '$32.85')"
   ]
  },
  {
   "cell_type": "code",
   "execution_count": 40,
   "metadata": {
    "collapsed": false,
    "deletable": false,
    "nbgrader": {
     "checksum": "f405bf0dc3d1f189495a57dfdc8b8a1e",
     "grade": false,
     "grade_id": "capture_alan",
     "locked": true,
     "solution": false
    }
   },
   "outputs": [],
   "source": [
    "%%capture res\n",
    "sakila_report('Turing', 6, 2005)"
   ]
  },
  {
   "cell_type": "code",
   "execution_count": 41,
   "metadata": {
    "collapsed": false,
    "deletable": false,
    "nbgrader": {
     "checksum": "db75b21478ac4552611eeb700788d17c",
     "grade": true,
     "grade_id": "alan_test",
     "locked": true,
     "points": 2,
     "solution": false
    }
   },
   "outputs": [],
   "source": [
    "assert len(res.stdout) == 0"
   ]
  }
 ],
 "metadata": {
  "kernelspec": {
   "display_name": "Python 3",
   "language": "python",
   "name": "python3"
  },
  "language_info": {
   "codemirror_mode": {
    "name": "ipython",
    "version": 3
   },
   "file_extension": ".py",
   "mimetype": "text/x-python",
   "name": "python",
   "nbconvert_exporter": "python",
   "pygments_lexer": "ipython3",
   "version": "3.5.1"
  }
 },
 "nbformat": 4,
 "nbformat_minor": 0
}
