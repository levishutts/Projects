{
 "cells": [
  {
   "cell_type": "markdown",
   "metadata": {},
   "source": [
    "# <span style=\"color:teal;\">CIS 211 Project 2:  Cryptography</span>"
   ]
  },
  {
   "cell_type": "markdown",
   "metadata": {},
   "source": [
    "##### Due 11:00 P.M. January 15, 2016"
   ]
  },
  {
   "cell_type": "markdown",
   "metadata": {},
   "source": [
    "##### Reading:  M&R 3.1 -- 3.3, 3.5; &nbsp; 8.1 -- 8.2, 8.4.1 -- 8.4.4"
   ]
  },
  {
   "cell_type": "markdown",
   "metadata": {},
   "source": [
    "This week we're going to use simple encryption and decryption algorithms as a way of exploing strings and containers (lists, dictionaries, and sets) in Python.\n",
    "\n",
    "Encryption is described in Chapter 3 of the textbook.  You should understand how the **substitution cipher** works -- you don't need to understand the details of any of the Python functions that implement the method, but you should know what it means to encode a piece of text with this kind of cipher.\n",
    "\n",
    "Decrypting a piece of text (assuming it really was encrypted with a substitution cipher) is not too hard, compared to other forms of encryption, but still more than we want to do in a one-week project.  Instead of developing an algorithm that will decrypt a piece of text we'll write a few small \"helper functions\" that might be useful as part of a larger application.\n"
   ]
  },
  {
   "cell_type": "markdown",
   "metadata": {},
   "source": [
    "###  <span style=\"color:teal\">Part 1: Word Lists (25 points)</span>"
   ]
  },
  {
   "cell_type": "markdown",
   "metadata": {},
   "source": [
    "Several steps in a decrytion algorithm need to see if a string is a valid English word.  We need a Python data structure that allows for a fast lookup in a collection of 100,000 or more strings.  We can make a list of all words, but (as you should recall from CIS 210) the amount of time to check a list is proportional to the length of the list.\n",
    "\n",
    "In Chapter 8 there is a suggestion to make a dictionary, where the key is an English word and the value can be anything, *e.g.* the number 0:\n",
    "\n",
    "``` \n",
    "{ 'a' : 0, 'aardvark' : 0, 'abaci' : 0, ... }\n",
    "```\n",
    "\n",
    "To see if a string is an English word just check to see if the string is a key, using the `in` operator.  The time for this operation is proportional to $log_2 n$ where $n$ is the number of words in the dictionary.\n",
    "\n",
    "What about sets?  Do you think Python organizes set objects so it can do a $log_2$ time lookup?  This experiment will help you find out."
   ]
  },
  {
   "cell_type": "markdown",
   "metadata": {},
   "source": [
    "Write a function named `wordlist_sample` that has two arguments, `n` and `all_types`.  If `all_types` is `False` just return a list of `n` words chosen at random from the English dictionary.  If `all_types` is `True` return three containers, a list, a dictionary, and a set, each containing the same words.\n",
    "\n",
    "Examples:\n",
    "<pre>\n",
    ">>> wl = wordlist_sample(5)\n",
    ">>> print(wl)\n",
    "['felicitating', 'submergible', 'duarchies', 'inglorious', 'phonophore']\n",
    "\n",
    ">>> wl, wd, ws = wordlist_sample(5, True)\n",
    ">>> print(wl)\n",
    "\n",
    "['crooked', 'paradisal', 'tanklike', 'juvenilely', 'redigestion']\n",
    ">>> print(wd)\n",
    "{'crooked': 0, 'paradisal': 0, 'juvenilely': 0, 'tanklike': 0, 'redigestion': 0}\n",
    "\n",
    ">>> print(ws)\n",
    "{'crooked', 'paradisal', 'juvenilely', 'tanklike', 'redigestion'}\n",
    "</pre>"
   ]
  },
  {
   "cell_type": "markdown",
   "metadata": {},
   "source": [
    "##### <span style=\"color:red\">Documentation:</span>"
   ]
  },
  {
   "cell_type": "markdown",
   "metadata": {},
   "source": [
    "Use the markdown cell below to describe how you implemented and tested your wordlist_sample function."
   ]
  },
  {
   "cell_type": "markdown",
   "metadata": {
    "deletable": false,
    "nbgrader": {
     "checksum": "0e4d683e83aa8c8e74136e7a06fd9323",
     "grade": true,
     "grade_id": "wordlist_doc",
     "locked": false,
     "points": 15,
     "solution": true
    }
   },
   "source": [
    "YOUR ANSWER HERE"
   ]
  },
  {
   "cell_type": "markdown",
   "metadata": {},
   "source": [
    "##### <span style=\"color:red\">Code:</span>"
   ]
  },
  {
   "cell_type": "markdown",
   "metadata": {},
   "source": [
    "Fill in the outline of the `wordlist_sample` function in the code cell below.  The `random` library has a function named `sample` you can use to draw random items from the dictionary.  You can use the global variable named `all_words` in the body of the function -- it is a list of all the words in the file named `wordlist.txt` which is distributed with this project.\n",
    "\n",
    "**NOTE:** &nbsp; do not change anything on the line that defines `all_words` -- the tests run by the \"auto-grader\" assume this list exists and contains the words from the file."
   ]
  },
  {
   "cell_type": "code",
   "execution_count": null,
   "metadata": {
    "collapsed": true,
    "deletable": false,
    "nbgrader": {
     "checksum": "d6859079c3e55cac61a054a54bc5f3ca",
     "grade": false,
     "grade_id": "wordlists",
     "locked": false,
     "solution": true
    }
   },
   "outputs": [],
   "source": [
    "import random\n",
    "\n",
    "all_words = list(map(str.strip, open('wordlist.txt').readlines()))\n",
    "\n",
    "def wordlist_sample(size, all_types=False):\n",
    "    '''\n",
    "    Make a random sample from the list of all words.  Return them as\n",
    "    a list if all_types is False, otherwise return them in a list, \n",
    "    dictionary, and set (to allow experiments on the same sample but\n",
    "    with different data structures).\n",
    "    '''\n",
    "    # YOUR CODE HERE\n",
    "    raise NotImplementedError()"
   ]
  },
  {
   "cell_type": "markdown",
   "metadata": {},
   "source": [
    "##### <span style=\"color:red\">Tests:</span>"
   ]
  },
  {
   "cell_type": "markdown",
   "metadata": {
    "nbgrader": {
     "grade": false,
     "locked": false,
     "points": 30,
     "solution": false
    }
   },
   "source": [
    "Use this code cell to test your `wordlist_sample` function."
   ]
  },
  {
   "cell_type": "code",
   "execution_count": null,
   "metadata": {
    "collapsed": true
   },
   "outputs": [],
   "source": []
  },
  {
   "cell_type": "markdown",
   "metadata": {},
   "source": [
    "##### <span style=\"color:red\">Autograder Tests:</span>"
   ]
  },
  {
   "cell_type": "code",
   "execution_count": 1,
   "metadata": {
    "collapsed": false,
    "deletable": false,
    "nbgrader": {
     "checksum": "8d2a055967243096773051e3c8599ca9",
     "grade": true,
     "grade_id": "struct_test_1",
     "locked": true,
     "points": 5,
     "solution": false
    }
   },
   "outputs": [
    {
     "ename": "NameError",
     "evalue": "name 'wordlist_sample' is not defined",
     "output_type": "error",
     "traceback": [
      "\u001b[1;31m---------------------------------------------------------------------------\u001b[0m",
      "\u001b[1;31mNameError\u001b[0m                                 Traceback (most recent call last)",
      "\u001b[1;32m<ipython-input-1-1db28df090f8>\u001b[0m in \u001b[0;36m<module>\u001b[1;34m()\u001b[0m\n\u001b[0;32m      4\u001b[0m     \u001b[1;32massert\u001b[0m \u001b[0misinstance\u001b[0m\u001b[1;33m(\u001b[0m\u001b[0mwl\u001b[0m\u001b[1;33m,\u001b[0m \u001b[0mlist\u001b[0m\u001b[1;33m)\u001b[0m\u001b[1;33m\u001b[0m\u001b[0m\n\u001b[0;32m      5\u001b[0m \u001b[1;33m\u001b[0m\u001b[0m\n\u001b[1;32m----> 6\u001b[1;33m \u001b[0mstruct_test_1\u001b[0m\u001b[1;33m(\u001b[0m\u001b[1;33m)\u001b[0m\u001b[1;33m\u001b[0m\u001b[0m\n\u001b[0m",
      "\u001b[1;32m<ipython-input-1-1db28df090f8>\u001b[0m in \u001b[0;36mstruct_test_1\u001b[1;34m()\u001b[0m\n\u001b[0;32m      1\u001b[0m \u001b[1;32mdef\u001b[0m \u001b[0mstruct_test_1\u001b[0m\u001b[1;33m(\u001b[0m\u001b[1;33m)\u001b[0m\u001b[1;33m:\u001b[0m\u001b[1;33m\u001b[0m\u001b[0m\n\u001b[1;32m----> 2\u001b[1;33m     \u001b[0mwl\u001b[0m \u001b[1;33m=\u001b[0m \u001b[0mwordlist_sample\u001b[0m\u001b[1;33m(\u001b[0m\u001b[1;36m10\u001b[0m\u001b[1;33m)\u001b[0m\u001b[1;33m\u001b[0m\u001b[0m\n\u001b[0m\u001b[0;32m      3\u001b[0m     \u001b[1;32massert\u001b[0m \u001b[0mlen\u001b[0m\u001b[1;33m(\u001b[0m\u001b[0mwl\u001b[0m\u001b[1;33m)\u001b[0m \u001b[1;33m==\u001b[0m \u001b[1;36m10\u001b[0m\u001b[1;33m\u001b[0m\u001b[0m\n\u001b[0;32m      4\u001b[0m     \u001b[1;32massert\u001b[0m \u001b[0misinstance\u001b[0m\u001b[1;33m(\u001b[0m\u001b[0mwl\u001b[0m\u001b[1;33m,\u001b[0m \u001b[0mlist\u001b[0m\u001b[1;33m)\u001b[0m\u001b[1;33m\u001b[0m\u001b[0m\n\u001b[0;32m      5\u001b[0m \u001b[1;33m\u001b[0m\u001b[0m\n",
      "\u001b[1;31mNameError\u001b[0m: name 'wordlist_sample' is not defined"
     ]
    }
   ],
   "source": [
    "def struct_test_1():\n",
    "    wl = wordlist_sample(10)\n",
    "    assert len(wl) == 10\n",
    "    assert isinstance(wl, list)\n",
    "    \n",
    "struct_test_1()"
   ]
  },
  {
   "cell_type": "code",
   "execution_count": null,
   "metadata": {
    "collapsed": false,
    "deletable": false,
    "nbgrader": {
     "checksum": "e774fcd43b8ba8a45b13339946bae792",
     "grade": true,
     "grade_id": "struct_test_2",
     "locked": true,
     "points": 5,
     "solution": false
    }
   },
   "outputs": [],
   "source": [
    "def struct_test_2():\n",
    "    wl, wd, ws = wordlist_sample(10, True)\n",
    "    assert len(wd) == 10\n",
    "    assert isinstance(wd, dict)\n",
    "    for x in wl:\n",
    "        assert x in wd\n",
    "\n",
    "struct_test_2()"
   ]
  },
  {
   "cell_type": "code",
   "execution_count": null,
   "metadata": {
    "collapsed": false,
    "deletable": false,
    "nbgrader": {
     "checksum": "a40af0f57160ebe73b3759c49de95f49",
     "grade": true,
     "grade_id": "struct_test_3",
     "locked": true,
     "points": 5,
     "solution": false
    }
   },
   "outputs": [],
   "source": [
    "def struct_test_3():\n",
    "    wl, wd, ws = wordlist_sample(10, True)\n",
    "    assert len(ws) == 10\n",
    "    assert isinstance(ws, set)\n",
    "    for x in wl:\n",
    "        assert x in ws\n",
    "\n",
    "struct_test_3()"
   ]
  },
  {
   "cell_type": "markdown",
   "metadata": {},
   "source": [
    "###  <span style=\"color:teal\">Part 2: Experiments (30 points)</span>"
   ]
  },
  {
   "cell_type": "markdown",
   "metadata": {},
   "source": [
    "Fill in the body of the function below.  It should make a list of 25 random words and look up each word in `struct`.  When the function is called `struct` will be one of the wordlist data structures created by `wordlist_sample`, so you can assume it's either a list, dictionary, or set.\n",
    "\n",
    "Conveniently for us, the Python code that searches for a word in a container is the same for all three container types:  the expression `x in struct` is `True` if `x` is in a list, or `x` is a key in a dictionary, or `x` is a member of a set.\n",
    "\n",
    "Your function should return the number of items from your list of 25 random words that were found in `struct`.\n",
    "\n",
    "** DOCUMENTATION OPTIONAL ** &nbsp; Since this is such a simple function you don't need to write any documentation (unless you do something interesting that you want to point out to the graders, in which case add comments to your code that draw attention to what you did). "
   ]
  },
  {
   "cell_type": "code",
   "execution_count": null,
   "metadata": {
    "collapsed": true,
    "deletable": false,
    "nbgrader": {
     "checksum": "5fdde0f96cefb06023809ed6cdc93eea",
     "grade": false,
     "grade_id": "wordtest",
     "locked": false,
     "solution": true
    }
   },
   "outputs": [],
   "source": [
    "def run_test(struct):\n",
    "    '''\n",
    "    Create a list of n random words, return the number of those words\n",
    "    that are in struct\n",
    "    '''\n",
    "    # YOUR CODE HERE\n",
    "    raise NotImplementedError()"
   ]
  },
  {
   "cell_type": "markdown",
   "metadata": {},
   "source": [
    "##### <span style=\"color:red\">Tests:</span>"
   ]
  },
  {
   "cell_type": "markdown",
   "metadata": {},
   "source": [
    "The following code cell shows how to measure the execution time required to look up words in the three kinds of container objects.  First call `wordlist_sample` to make containers of a specific size, then use the IPython magic command `timeit` to report how long it takes to look up random words in that container."
   ]
  },
  {
   "cell_type": "code",
   "execution_count": null,
   "metadata": {
    "collapsed": false
   },
   "outputs": [],
   "source": [
    "wl, wd, ws = wordlist_sample(10, all_types=True)\n",
    "\n",
    "% timeit run_test(wl)\n",
    "% timeit run_test(wd)\n",
    "% timeit run_test(ws)"
   ]
  },
  {
   "cell_type": "markdown",
   "metadata": {},
   "source": [
    "Each call to `timeit` generates one line of output, and the lines are printed in order.  For this test we don't care how many words were found during the test so the return value from `run_test` is thrown away."
   ]
  },
  {
   "cell_type": "markdown",
   "metadata": {},
   "source": [
    "Your job is to run several more tests, using different size containers, in order to measure the scalability of the three container types.  Increase the size of the containers until you can see amount of time taken to find items in a list is much longer than the time to see if the word is in a dictionary.\n",
    "\n",
    "Add as many code cells as you want, each containing the code shown above, but with a different container size passed to `wordlist_sample`.  When you are done, summarize your results and explain what you learned about lists, dictionaries, and sets in the markdown cell below."
   ]
  },
  {
   "cell_type": "markdown",
   "metadata": {},
   "source": [
    "##### <span style=\"color:red\">Results:</span>"
   ]
  },
  {
   "cell_type": "markdown",
   "metadata": {},
   "source": [
    "Use the markdown cell below to summarize the results of your experiments."
   ]
  },
  {
   "cell_type": "markdown",
   "metadata": {
    "deletable": false,
    "nbgrader": {
     "checksum": "996b186a9e9dc0a07a4b5710dedb3198",
     "grade": true,
     "grade_id": "results",
     "locked": false,
     "points": 30,
     "solution": true
    }
   },
   "source": [
    "YOUR ANSWER HERE"
   ]
  },
  {
   "cell_type": "markdown",
   "metadata": {},
   "source": [
    "###  <span style=\"color:teal\">Part 3: Organizing Words by Size (45 points)</span>"
   ]
  },
  {
   "cell_type": "markdown",
   "metadata": {},
   "source": [
    "When decrypting a piece of text it helps to have a collection of words that is organized by word length.  At times we'd like to have a list of all 2-letter words, 3-letter words, and so on.\n",
    "\n",
    "We could build such a list using all the words in the dictionary, but another strategy would be to use words that are more commonly used.\n",
    "\n",
    "For this part of the project, fill in the body of the function below.  The function is passed the name of a text file.  You should split the text into individual words, and save each word in the container that holds all words of that length.  Since we don't want duplicates, a set is the natural choice for this container.  Return a dictionary that maps a word length to the set of all words of that length.\n",
    "\n",
    "Here is an example, using a short quotation as in the input text.  The file named `quote.txt` contains this quotation:\n",
    "> If you have no confidence in self,\n",
    ">   you are twice defeated in the race of life.\n",
    "> With confidence, you have won even before you have started.\n",
    ">    -- Marcus Tullius Cicero (106 BC -- 43 BC)\n",
    "\n",
    "Your function should return this output:\n",
    "```\n",
    ">>> words_by_length('quote.txt')\n",
    "{2: {'43', 'bc', 'if', 'in', 'no', 'of'},\n",
    " 3: {'106', 'are', 'the', 'won', 'you'},\n",
    " 4: {'even', 'have', 'life', 'race', 'self', 'with'},\n",
    " 5: {'twice'},\n",
    " 6: {'before', 'cicero', 'marcus'},\n",
    " 7: {'started', 'tullius'},\n",
    " 8: {'defeated'},\n",
    " 10: {'confidence'}}\n",
    "```\n",
    "\n",
    "Note how punctuation has been stripped away from the ends of words, and that all words are converted to lower case.\n"
   ]
  },
  {
   "cell_type": "markdown",
   "metadata": {},
   "source": [
    "##### <span style=\"color:red\">Documentation:</span>"
   ]
  },
  {
   "cell_type": "markdown",
   "metadata": {
    "nbgrader": {
     "grade": false,
     "locked": false,
     "points": 15,
     "solution": false
    }
   },
   "source": [
    "Use the markdown cell below to describe how you implemented your `words_by_length` function."
   ]
  },
  {
   "cell_type": "markdown",
   "metadata": {
    "deletable": false,
    "nbgrader": {
     "checksum": "35e6730232ad3387738bf2657e1b5091",
     "grade": true,
     "grade_id": "wordlength_doc",
     "locked": false,
     "points": 15,
     "solution": true
    }
   },
   "source": [
    "YOUR ANSWER HERE"
   ]
  },
  {
   "cell_type": "code",
   "execution_count": null,
   "metadata": {
    "collapsed": true,
    "deletable": false,
    "nbgrader": {
     "checksum": "2057df87e06744f2b8cdcc281a54a450",
     "grade": false,
     "grade_id": "wordlength",
     "locked": false,
     "solution": true
    }
   },
   "outputs": [],
   "source": [
    "from string import punctuation\n",
    "\n",
    "def words_by_length(filename):\n",
    "    # YOUR CODE HERE\n",
    "    raise NotImplementedError()"
   ]
  },
  {
   "cell_type": "markdown",
   "metadata": {},
   "source": [
    "##### <span style=\"color:red\">Tests:</span>"
   ]
  },
  {
   "cell_type": "markdown",
   "metadata": {
    "nbgrader": {
     "grade": false,
     "locked": false,
     "points": 30,
     "solution": false
    }
   },
   "source": [
    "Use this code cell to test your `words_by_length` function."
   ]
  },
  {
   "cell_type": "code",
   "execution_count": null,
   "metadata": {
    "collapsed": true
   },
   "outputs": [],
   "source": []
  },
  {
   "cell_type": "markdown",
   "metadata": {},
   "source": [
    "##### <span style=\"color:red\">Autograder Tests:</span>"
   ]
  },
  {
   "cell_type": "code",
   "execution_count": null,
   "metadata": {
    "collapsed": false,
    "deletable": false,
    "nbgrader": {
     "checksum": "c317bc2c30fe9c45d6e525b22be547f4",
     "grade": true,
     "grade_id": "length_test_1",
     "locked": true,
     "points": 15,
     "solution": false
    }
   },
   "outputs": [],
   "source": [
    "def length_test_1():\n",
    "    dct = words_by_length('quote.txt')\n",
    "    assert isinstance(dct, dict)\n",
    "    assert len(dct) == 8\n",
    "    \n",
    "length_test_1()"
   ]
  },
  {
   "cell_type": "code",
   "execution_count": null,
   "metadata": {
    "collapsed": false,
    "deletable": false,
    "nbgrader": {
     "checksum": "83c70bf76660446d597b0c3a41c1630d",
     "grade": true,
     "grade_id": "length_test_2",
     "locked": true,
     "points": 15,
     "solution": false
    }
   },
   "outputs": [],
   "source": [
    "def length_test_2():\n",
    "    dct = words_by_length('quote.txt')\n",
    "    assert dct[4] == {'even', 'have', 'life', 'race', 'self', 'with'}\n",
    "    assert dct[5] == {'twice'}"
   ]
  },
  {
   "cell_type": "markdown",
   "metadata": {},
   "source": [
    "###  <span style=\"color:teal\">Extra Credit Ideas</span>"
   ]
  },
  {
   "cell_type": "markdown",
   "metadata": {},
   "source": [
    "Section 8.4 of the textbook describes various techniques for breaking a substitution cipher.  Here are some ideas for extra credit for this assignment.\n",
    "\n",
    "Here is a string containing one of my favorite quotes, encrypted with a substitution cipher. It should be pretty easy to decrypt using the techniques from the book:"
   ]
  },
  {
   "cell_type": "code",
   "execution_count": null,
   "metadata": {
    "collapsed": true
   },
   "outputs": [],
   "source": [
    "quote = '''\n",
    "DYGJTAL DV P ADR, P EDDX TJ P CPZ'J ELJG VWTLZA. \n",
    "TZJTAL DV P ADR TG'J GDD APWX GD WLPA.\n",
    "  -- RWDYIMD CPWH\n",
    "'''"
   ]
  },
  {
   "cell_type": "markdown",
   "metadata": {},
   "source": [
    "#### Break the Code"
   ]
  },
  {
   "cell_type": "markdown",
   "metadata": {},
   "source": [
    "Decrypt this quote and e-mail the result."
   ]
  },
  {
   "cell_type": "markdown",
   "metadata": {},
   "source": [
    "#### Substitute English Words "
   ]
  },
  {
   "cell_type": "markdown",
   "metadata": {},
   "source": [
    "Write a function named `apply` that will see what happens when letters from a ciphertext word are replaced by English words in a piece of text.  The first argument should be a set of upper case letters in the quote, the second should be a string of the same length, containing lower case letters, and the third is the complete ciphertext.\n",
    "\n",
    "For example, if you guess `ELJG` is the code for `fish` you can see what would happen if that guess is applied to the entire text:\n",
    "```\n",
    ">>> print(apply('ELJG', 'fish', quote))\n",
    "DYhsTAi DV P ADR, P fDDX Ts P CPZ's fish VWTiZA. \n",
    "TZsTAi DV P ADR Th's hDD APWX hD WiPA.\n",
    "  -- RWDYIMD CPWH\n",
    "```"
   ]
  },
  {
   "cell_type": "code",
   "execution_count": null,
   "metadata": {
    "collapsed": true,
    "deletable": false,
    "nbgrader": {
     "checksum": "2b6a2ebeeb861617c8e290db221ff34b",
     "grade": false,
     "grade_id": "apply",
     "locked": false,
     "solution": true
    }
   },
   "outputs": [],
   "source": [
    "def apply(cipher, plain, text):\n",
    "    # YOUR CODE HERE\n",
    "    raise NotImplementedError()"
   ]
  },
  {
   "cell_type": "markdown",
   "metadata": {},
   "source": [
    "#### Substitute the Longest Word "
   ]
  },
  {
   "cell_type": "markdown",
   "metadata": {},
   "source": [
    "Write a function named `apply_longest` that will use your new `apply` function to try to crack the code.  Find the longest word in the quote; let's call it `w`.  Use your `words_by_length` function to get a list of all common words that are the same length as `w`.  Now use a loop that will try substituting every plaintext word in that list for `w`, using the `apply` function.  \n",
    "\n",
    "Each time you make a substitution, examine the resulting text.  If the current word is the correct substitution, it should result in several other complete words showing up.\n",
    "\n",
    "For example, here is a passage from the H.G. Wells book (see Section 8.4.1 in the textbook):\n",
    "```\n",
    "The planet Mars, I scarcely need remind the reader, revolves about the\n",
    "sun at a mean distance of 140,000,000 miles, and the light and heat it\n",
    "receives from the sun is barely half of that received by this world.\n",
    "It must be, if the nebular hypothesis has any truth, older than our\n",
    "world; and long before this earth ceased to be molten, life upon its\n",
    "surface must have begun its course.\n",
    "```\n",
    "\n",
    "This is what it looks like after encrypting with a substitution cipher:\n",
    "```\n",
    "OZF RXYIFO VYAP, C PBYABFXN IFFT AFVCIT OZF AFYTFA, AFSWXSFP YHWLO OZF\n",
    "PLI YO Y VFYI TCPOYIBF WK 140,000,000 VCXFP, YIT OZF XCJZO YIT ZFYO CO\n",
    "AFBFCSFP KAWV OZF PLI CP HYAFXN ZYXK WK OZYO AFBFCSFT HN OZCP EWAXT.\n",
    "CO VLPO HF, CK OZF IFHLXYA ZNRWOZFPCP ZYP YIN OALOZ, WXTFA OZYI WLA\n",
    "EWAXT; YIT XWIJ HFKWAF OZCP FYAOZ BFYPFT OW HF VWXOFI, XCKF LRWI COP\n",
    "PLAKYBF VLPO ZYSF HFJLI COP BWLAPF.\n",
    "```\n",
    "\n",
    "The longest word in the ciphertext is `ZNRWOZFPCP`.  We want to try subsituting the letters in `ZNRWOZFPCP` with every 10-letter word, to see which gives the best substitution.  If we guess that `ZNRWOZFPCP` is the encryption of `improbable` the result starts out\n",
    "```\n",
    "oia pXYIao VYAb, l bBYABaXm...\n",
    "```\n",
    "This isn't a good guess, becuase the first word in the ciphertext turns into `oia`, which isn't an English word.\n",
    "\n",
    "If we keep trying every 10-letter word, we'll find that substituting `hypothesis` for `ZNRWOZFPCP` is a pretty good guess, because it makes complete English words out of 14 other strings, too:\n",
    "```\n",
    ">>> apply_longest(quote2)\n",
    "the pXYIet VYAs, i sBYABeXy IeeT AeViIT the AeYTeA, AeSoXSes YHoLt the\n",
    "sLI Yt Y VeYI TistYIBe oK 140,000,000 ViXes, YIT the XiJht YIT heYt it\n",
    "AeBeiSes KAoV the sLI is HYAeXy hYXK oK thYt AeBeiSeT Hy this EoAXT.\n",
    "it VLst He, iK the IeHLXYA hypothesis hYs YIy tALth, oXTeA thYI oLA\n",
    "EoAXT; YIT XoIJ HeKoAe this eYAth BeYseT to He VoXteI, XiKe LpoI its\n",
    "sLAKYBe VLst hYSe HeJLI its BoLAse.\n",
    "```\n"
   ]
  },
  {
   "cell_type": "code",
   "execution_count": null,
   "metadata": {
    "collapsed": false,
    "deletable": false,
    "nbgrader": {
     "checksum": "0bda5aacef23fcfdfa641c44d78c5433",
     "grade": false,
     "grade_id": "apply_longest",
     "locked": false,
     "solution": true
    }
   },
   "outputs": [],
   "source": [
    "# YOUR CODE HERE\n",
    "raise NotImplementedError()"
   ]
  }
 ],
 "metadata": {
  "kernelspec": {
   "display_name": "Python 3",
   "language": "python",
   "name": "python3"
  },
  "language_info": {
   "codemirror_mode": {
    "name": "ipython",
    "version": 3
   },
   "file_extension": ".py",
   "mimetype": "text/x-python",
   "name": "python",
   "nbconvert_exporter": "python",
   "pygments_lexer": "ipython3",
   "version": "3.5.1"
  }
 },
 "nbformat": 4,
 "nbformat_minor": 0
}
