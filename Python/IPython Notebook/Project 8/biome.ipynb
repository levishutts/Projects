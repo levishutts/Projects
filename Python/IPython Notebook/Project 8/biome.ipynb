{
 "cells": [
  {
   "cell_type": "markdown",
   "metadata": {},
   "source": [
    "# <span style=\"color:teal;\">CIS 211 Project 8:  &nbsp; Bears and Fish</span>"
   ]
  },
  {
   "cell_type": "markdown",
   "metadata": {},
   "source": [
    "##### Due 11:00 P.M. Wednesday Mar 9"
   ]
  },
  {
   "cell_type": "markdown",
   "metadata": {},
   "source": [
    "##### <span style=\"color:red\">Group Members:</span>"
   ]
  },
  {
   "cell_type": "markdown",
   "metadata": {},
   "source": [
    "Group work is allowed for this project.  Write the name and DuckID for each member of the group in this markdown cell:"
   ]
  },
  {
   "cell_type": "markdown",
   "metadata": {
    "nbgrader": {
     "grade": false,
     "locked": false,
     "points": 0,
     "solution": false
    }
   },
   "source": [
    "Name:\n",
    "\n",
    "Name:\n",
    "\n",
    "Name:"
   ]
  },
  {
   "cell_type": "markdown",
   "metadata": {},
   "source": [
    "Groups are exepcted to do more work.  See the sections at the end of this notebook for suggestions of how to extend the simulation."
   ]
  },
  {
   "cell_type": "markdown",
   "metadata": {},
   "source": [
    "##  <span style=\"color:teal;\">Overview</span> "
   ]
  },
  {
   "cell_type": "markdown",
   "metadata": {},
   "source": [
    "The last project this term is a cellular automaton style biological simulation.  \n",
    "\n",
    "The sytem is described in Chapter 11 of the Miller and Ranum text.  The simulation needs three class defintions:\n",
    "* World defines a 2D grid where cells are accessed according to their row and column coordinates\n",
    "* Fish defines one type of animal that can inhabit the world; fish can move and reproduce, and they can die from overcrowding\n",
    "* Bear defines the other type of animal; bears can also move and reproduce, they eat fish, and they can die from starvation\n",
    "\n",
    "**<span style=\"color:red\">Hint:</span>** &nbsp; Before you start, think about what the Bear and Fish classes have in common, and consider defining a new class to use as the parent of both Bear and Fish."
   ]
  },
  {
   "cell_type": "markdown",
   "metadata": {},
   "source": [
    "##  <span style=\"color:teal;\">Libraries</span> "
   ]
  },
  {
   "cell_type": "markdown",
   "metadata": {},
   "source": [
    "Your program will need to use `numpy` (a numeric processing library) and `random` (the builtin random number generator module).  You can import additional modules if you wish; add the import statements to this code cell."
   ]
  },
  {
   "cell_type": "code",
   "execution_count": 1,
   "metadata": {
    "collapsed": false
   },
   "outputs": [],
   "source": [
    "import numpy as np\n",
    "import random"
   ]
  },
  {
   "cell_type": "markdown",
   "metadata": {},
   "source": [
    "##  <span style=\"color:teal;\">Event Log</span> "
   ]
  },
  {
   "cell_type": "markdown",
   "metadata": {},
   "source": [
    "A useful debugging technique is to save descriptions of events in a log file.  For this project we'll just print messages so they appear in the output area of the code cell that calls the top level simulator.\n",
    "\n",
    "If you want to see messages printed as your program runs set `logging` to True in the code cell below, and include calls to `log` at the appropriate places in your methods.\n",
    "\n",
    "**Note:** &nbsp; you can change the definition of the `log` function so it writes to a file or  prints additional information."
   ]
  },
  {
   "cell_type": "code",
   "execution_count": 2,
   "metadata": {
    "collapsed": true
   },
   "outputs": [],
   "source": [
    "logging = False\n",
    "\n",
    "def log(message):\n",
    "    if logging:\n",
    "        print(message)"
   ]
  },
  {
   "cell_type": "markdown",
   "metadata": {},
   "source": [
    "##  <span style=\"color:teal;\">Classes, Functions, and Global Variables</span> "
   ]
  },
  {
   "cell_type": "markdown",
   "metadata": {},
   "source": [
    "As you write your code you can define additional classes, helper functions, and global variables.  Describe all of new classes, functions and variables in the following markdown cell, and put all of the definitions in one code cell right below the documentation."
   ]
  },
  {
   "cell_type": "markdown",
   "metadata": {
    "nbgrader": {
     "grade": false,
     "locked": false,
     "solution": false
    }
   },
   "source": [
    "[ your description here ]"
   ]
  },
  {
   "cell_type": "code",
   "execution_count": 3,
   "metadata": {
    "collapsed": true,
    "nbgrader": {
     "grade": false,
     "locked": false,
     "solution": false
    }
   },
   "outputs": [],
   "source": [
    "class Animal:\n",
    "    '''\n",
    "    Animal class is a parent which has methods that both the Fish and Bear classes share.\n",
    "    '''\n",
    "    def __init__(self, world, location, spec):\n",
    "        self._world = world\n",
    "        self._location = location\n",
    "        self._spec = spec\n",
    "        world.set_cell(location, spec)\n",
    "        \n",
    "    def location(self):\n",
    "        return self._location\n",
    "    \n",
    "    def reproduce(self):\n",
    "        pass\n",
    "    \n",
    "    def move(self):\n",
    "        new_cell = random.choice(self._world.neighbors(self._location))\n",
    "        if self._world.access_cell(new_cell) == None:\n",
    "            self._world.move_cell(new_cell, self)\n",
    "            self._world.delete(self._location)\n",
    "            self._location = new_cell\n",
    "        "
   ]
  },
  {
   "cell_type": "markdown",
   "metadata": {},
   "source": [
    "##  <span style=\"color:teal;\">World</span>"
   ]
  },
  {
   "cell_type": "markdown",
   "metadata": {},
   "source": [
    "Describe your World class in the following markdown cell, and write the code for the class in the code cell below the markdown cell.\n",
    "\n",
    "The minimum requiremens for this class are:\n",
    "* the constructor should be passed the grid size (number of rows and columns)\n",
    "* all cells should contain `None` when the world is initialized; later they can contain references to Fish or Bear objects\n",
    "* override the methods that allow you to access a cell or store a value in a cell\n",
    "* include a method named `biota` that returns a list of Fish and Bear objects currently in the grid\n",
    "\n",
    "You can have additional instance methods, class variables, or class methods.  Make sure you describe any new additions in the documentation.\n",
    "\n",
    "**Note:** &nbsp; There are no auto-grader tests for the World class; tests for this class will be done as part of the tests for the Bear and Fish classes."
   ]
  },
  {
   "cell_type": "markdown",
   "metadata": {
    "deletable": false,
    "nbgrader": {
     "checksum": "5fbb98fcbbe97c8cfe456011a03e14e7",
     "grade": true,
     "grade_id": "world_doc",
     "locked": false,
     "points": 10,
     "solution": true
    }
   },
   "source": [
    "YOUR ANSWER HERE"
   ]
  },
  {
   "cell_type": "code",
   "execution_count": 4,
   "metadata": {
    "collapsed": false,
    "deletable": false,
    "nbgrader": {
     "checksum": "e65d9e141f72678833aa23eeda28b6ac",
     "grade": true,
     "grade_id": "world",
     "locked": false,
     "points": 15,
     "solution": true
    }
   },
   "outputs": [],
   "source": [
    "class World:\n",
    "    '''\n",
    "    World class creates an array for the Fish and Bear classes to interact in\n",
    "    '''\n",
    "    def __init__(self, rows, columns):\n",
    "        self._rows = rows\n",
    "        self._columns = columns\n",
    "        self._world = np.array([None] * (self._rows * self._columns)).reshape(rows, columns)\n",
    "    \n",
    "    def __repr__(self):\n",
    "        return np.array_repr(self._world)\n",
    "    \n",
    "    def biota(self):\n",
    "        animal_list = []\n",
    "        for row in self._world:\n",
    "            for col in row:\n",
    "                if col != None:\n",
    "                    animal_list.append(col)\n",
    "        return animal_list\n",
    "    \n",
    "    def nrows(self):\n",
    "        return self._rows\n",
    "    \n",
    "    def ncolumns(self):\n",
    "        return self._columns\n",
    "    \n",
    "    def neighbors(self, location):\n",
    "        r = (location[0], (location[1] + 1) % self.ncolumns())\n",
    "        l = (location[0], (location[1] - 1) % self.ncolumns())\n",
    "        u = ((location[0] - 1) % self.nrows(), location[1])\n",
    "        d = ((location[0] + 1) % self.nrows(), location[1])\n",
    "        dr = ((location[0] + 1) % self.nrows(), (location[1] + 1) % self.nrows())\n",
    "        dl = ((location[0] + 1) % self.nrows(), (location[1] - 1) % self.nrows())\n",
    "        ur = ((location[0] - 1) % self.nrows(), (location[1] + 1) % self.nrows())\n",
    "        ul = ((location[0] - 1) % self.nrows(), (location[1] - 1) % self.nrows())\n",
    "        return [r, l, u, d, dr, dl, ur, ul]\n",
    "    \n",
    "    def access_cell(self, location):\n",
    "        return self._world[(location)]\n",
    "    \n",
    "    def set_cell(self, location, item):\n",
    "        self._world.itemset((location), item)\n",
    "        \n",
    "    def move_cell(self, location, item):\n",
    "        self._world.itemset((location), item)\n",
    "        \n",
    "    def cell_type(self, location):\n",
    "        return type(self._world[(location)])\n",
    "    \n",
    "    def delete(self, location):\n",
    "        self._world.itemset((location), None)"
   ]
  },
  {
   "cell_type": "markdown",
   "metadata": {
    "collapsed": true
   },
   "source": [
    "### <span style=\"color:teal;\">Fish</span>"
   ]
  },
  {
   "cell_type": "markdown",
   "metadata": {},
   "source": [
    "Use the markdown cell and code cell below to implement and describe your Fish class.\n",
    "\n",
    "During the simulation a Fish object needs to behave as follows:\n",
    "\n",
    "(1) Fish are susceptible to overcrowding:  if there are fish in 2 or more neighboring cells the fish dies (it's removed from the simulation)\n",
    "\n",
    "(2) A fish can reproduce if it has been alive for a certain number of time steps: a random neighboring cell is chosen, and if that cell is empty, a new fish is placed in that cell\n",
    "\n",
    "(3) A fish can move to another cell:  it picks a random direction, and if the neighboring cell in that direction is unoccupied the fish moves there\n",
    "\n",
    "The constructor will be passed a reference to a World object and a location, in the form of a tuple with a row number and column number (the object needs to know its location so it can look for other objects in neighboring cells).\n",
    "\n",
    "The class should include the following methods:\n",
    "* `live` implements rules 1 and 2 shown above\n",
    "* `move` implements rule 3\n",
    "* `location` returns the current grid location (row and column) of the object\n",
    "\n",
    "Define a class variable named `breed_interval` to specify how many time steps a fish must be alive before it reproduces; the initial value for this variable is 12.\n",
    "\n",
    "You can have additional instance methods, class variables, or class methods.  Make sure you describe any new additions in the documentation.\n",
    "\n",
    "**NOTE:** &nbsp; The way the simulation is defined a fish might be eaten before the top level simulation calls the `live` method.  Your method should check to make sure the fish is still alive.  The easiest way to do this is to include an instance variable named `_alive` that is set to True when the fish is initialized and set to False when it dies."
   ]
  },
  {
   "cell_type": "markdown",
   "metadata": {
    "deletable": false,
    "nbgrader": {
     "checksum": "7ca7d3dcfba8142f27914e4431f2121f",
     "grade": true,
     "grade_id": "fish_doc",
     "locked": false,
     "points": 5,
     "solution": true
    }
   },
   "source": [
    "YOUR ANSWER HERE"
   ]
  },
  {
   "cell_type": "code",
   "execution_count": 5,
   "metadata": {
    "collapsed": false,
    "deletable": false,
    "nbgrader": {
     "checksum": "24fe5d3b792a16af3588cbae58d3c2d4",
     "grade": true,
     "grade_id": "fish",
     "locked": false,
     "points": 10,
     "solution": true
    }
   },
   "outputs": [],
   "source": [
    "class Fish(Animal):\n",
    "    '''\n",
    "    The Fish have a time step of 12 to breed.  Also the live method pertains to if they are too crowded.  \n",
    "    '''\n",
    "    \n",
    "    breed_interval = 12\n",
    "    \n",
    "    def __init__(self, world, location):\n",
    "        Animal.__init__(self, world, location, self)\n",
    "        self._alive = True\n",
    "        \n",
    "    def __repr__(self):\n",
    "        return \"{0:^4}\".format('FISH')\n",
    "    \n",
    "    def live(self):\n",
    "        if self._alive == True:\n",
    "            ncount = 0\n",
    "            for cell in self._world.neighbors(self._location):\n",
    "                neighbor = self._world.access_cell(cell)\n",
    "                if type(neighbor) == Fish:\n",
    "                    ncount += 1\n",
    "            if ncount >= 2:\n",
    "                self._world.delete(self._location)\n",
    "                self._alive = False\n",
    "                \n",
    "            if Fish.breed_interval > 0:\n",
    "                Fish.breed_interval -= 1\n",
    "            if Fish.breed_interval == 0:\n",
    "                new_cell = random.choice(self._world.neighbors(self._location))\n",
    "                if self._world.access_cell(new_cell) == None:\n",
    "                    Fish(self._world, new_cell)\n",
    "                Fish.breed_interval = 12\n"
   ]
  },
  {
   "cell_type": "markdown",
   "metadata": {},
   "source": [
    "##### <span style=\"color:red\">Autograder Tests:</span>"
   ]
  },
  {
   "cell_type": "markdown",
   "metadata": {},
   "source": [
    "**Important:** &nbsp;  the code cells in this section will be used by `nbgrader` to run automated tests.  Do not move, delete or alter these cells in any way."
   ]
  },
  {
   "cell_type": "code",
   "execution_count": 6,
   "metadata": {
    "collapsed": false,
    "deletable": false,
    "nbgrader": {
     "checksum": "838c2292927938b21b60a67f38ecf15a",
     "grade": true,
     "grade_id": "fish_test_1",
     "locked": true,
     "points": 3,
     "solution": false
    }
   },
   "outputs": [],
   "source": [
    "# A new world has no objects\n",
    "w1 = World(5,5)\n",
    "assert len(w1.biota()) == 0\n",
    "\n",
    "# After adding a fish there should be one object\n",
    "f1 = Fish(w1, (2,2))\n",
    "assert len(w1.biota()) == 1\n",
    "\n",
    "# Test the location method\n",
    "assert f1.location() == (2,2)"
   ]
  },
  {
   "cell_type": "code",
   "execution_count": 7,
   "metadata": {
    "collapsed": false,
    "deletable": false,
    "nbgrader": {
     "checksum": "f758db712010327b1ac8f5624fafd64d",
     "grade": true,
     "grade_id": "fish_test_2",
     "locked": true,
     "points": 3,
     "solution": false
    }
   },
   "outputs": [],
   "source": [
    "# Setting breed_interval to 1 should cause a fish to reproduce when live is called\n",
    "w2 = World(5,5)\n",
    "Fish.breed_interval = 1\n",
    "f2 = Fish(w2, (2,2))\n",
    "f2.live()\n",
    "assert len(w2.biota()) == 2\n",
    "\n",
    "# Reset the interval to original value for remaining tests\n",
    "Fish.breed_interval = 12"
   ]
  },
  {
   "cell_type": "code",
   "execution_count": 8,
   "metadata": {
    "collapsed": false,
    "deletable": false,
    "nbgrader": {
     "checksum": "28ff113cee322bdbab032de7790d1385",
     "grade": true,
     "grade_id": "fish_test_3",
     "locked": true,
     "points": 3,
     "solution": false
    }
   },
   "outputs": [],
   "source": [
    "# Make three fish, the one in the middle should die from overcrowding\n",
    "w3 = World(5,5)\n",
    "f3 = Fish(w3, (2,2))\n",
    "Fish(w3, (1,1))\n",
    "Fish(w3, (3,3))\n",
    "f3.live()\n",
    "assert len(w2.biota()) == 2"
   ]
  },
  {
   "cell_type": "code",
   "execution_count": 9,
   "metadata": {
    "collapsed": false,
    "deletable": false,
    "nbgrader": {
     "checksum": "1ad50645f3273235e1f18fd1eb9b869e",
     "grade": true,
     "grade_id": "fish_test_4",
     "locked": true,
     "points": 3,
     "solution": false
    }
   },
   "outputs": [],
   "source": [
    "# When a fish moves it should be within one cell of its original location\n",
    "w4 = World(5,5)\n",
    "f4 = Fish(w4, (2,2))\n",
    "f4.move()\n",
    "r, c = f4.location()\n",
    "assert (r,c) != (2,2)\n",
    "assert abs(r-2) <= 1 and abs(c-2) <= 1"
   ]
  },
  {
   "cell_type": "markdown",
   "metadata": {},
   "source": [
    "###  <span style=\"color:teal;\">Bear</span>"
   ]
  },
  {
   "cell_type": "markdown",
   "metadata": {},
   "source": [
    "Use the markdown cell and code cell below to implement and describe your Bear class.\n",
    "\n",
    "During the simulation a Bear object needs to behave as follows:\n",
    "\n",
    "(1) The bear looks for fish in each adjacent cell; if it finds one or more fish it eats one at random \n",
    "\n",
    "(2) If a bear has not eaten for certain number of time steps it dies (it's removed from the simulation)\n",
    "\n",
    "(3) A bear can reproduce if it has been alive for a certain number of time steps: a random neighboring cell is chosen, and if that cell is empty, a new bear is placed in that cell\n",
    "\n",
    "(4) A bear can move to another cell:  it picks a random direction, and if the neighboring cell in that direction is unoccupied the bear moves there\n",
    "\n",
    "Define a class variable named `breed_interval` to specify how many time steps a bear must be alive before it reproduces; the initial value for this variable is 8.  Define another class variable named `survive_without_food` to be the number of time steps a bear can live before it dies from starvation; the initial value for this variable is 10.\n",
    "\n",
    "The constructor will be passed a reference to a World object and a location, in the form of a tuple with a row number and column number (the object needs to know its location so it can look for other objects in neighboring cells).\n",
    "\n",
    "The class should include the following methods:\n",
    "* `live` implements rules 1, 2, and 3 shown above\n",
    "* `move` implements rule 4\n",
    "* `location` returns the current grid location (row and column) of the object\n",
    "\n",
    "You can have additional instance methods, class variables, or class methods.  Make sure you describe any new additions in the documentation."
   ]
  },
  {
   "cell_type": "markdown",
   "metadata": {
    "deletable": false,
    "nbgrader": {
     "checksum": "e3d21f593dfd4921b177338d21a4037f",
     "grade": true,
     "grade_id": "bear_doc",
     "locked": false,
     "points": 5,
     "solution": true
    }
   },
   "source": [
    "YOUR ANSWER HERE"
   ]
  },
  {
   "cell_type": "code",
   "execution_count": 10,
   "metadata": {
    "collapsed": true,
    "deletable": false,
    "nbgrader": {
     "checksum": "d910552dad08f910c6cf18340a4a6852",
     "grade": true,
     "grade_id": "bear",
     "locked": false,
     "points": 10,
     "solution": true
    }
   },
   "outputs": [],
   "source": [
    "class Bear(Animal):\n",
    "    '''\n",
    "    The Bear class has a time step of 8 to breed.  There is also an amount of steps they can live without eating a fish.  \n",
    "    '''\n",
    "    breed_interval = 8\n",
    "    survive_without_food = 10\n",
    "    \n",
    "    def __init__(self, world, location):\n",
    "        Animal.__init__(self, world, location, self)\n",
    "        self._alive = True\n",
    "        \n",
    "    def __repr__(self):\n",
    "        return \"{0:^4}\".format('BEAR')\n",
    "    \n",
    "    def live(self):\n",
    "        if self._alive == True:\n",
    "            for cell in self._world.neighbors(self._location):\n",
    "                fish_list = []\n",
    "                neighbor = self._world.access_cell(cell)\n",
    "                if type(neighbor) == Fish:\n",
    "                    fish_list.append(cell)\n",
    "            if len(fish_list) > 0:\n",
    "                target = random.choice(fish_list)\n",
    "                self._world.delete(target)\n",
    "                Bear.survive_without_food = 10\n",
    "            else:\n",
    "                Bear.survive_without_food -= 1\n",
    "            if Bear.survive_without_food == 0:\n",
    "                self._world.delete(self._location)\n",
    "                self._alive = False\n",
    "            if Bear.breed_interval > 0:\n",
    "                Bear.breed_interval -= 1\n",
    "            if Bear.breed_interval == 0:\n",
    "                new_cell = random.choice(self._world.neighbors(self._location))\n",
    "                if self._world.access_cell(new_cell) == None:\n",
    "                    Bear(self._world, new_cell)\n",
    "                Bear.breed_interval = 8"
   ]
  },
  {
   "cell_type": "markdown",
   "metadata": {},
   "source": [
    "##### <span style=\"color:red\">Autograder Tests:</span>"
   ]
  },
  {
   "cell_type": "markdown",
   "metadata": {},
   "source": [
    "**Important:** &nbsp;  the code cells in this section will be used by `nbgrader` to run automated tests.  Do not move, delete or alter these cells in any way."
   ]
  },
  {
   "cell_type": "code",
   "execution_count": 11,
   "metadata": {
    "collapsed": false,
    "deletable": false,
    "nbgrader": {
     "checksum": "9bd809d9a35fabce28ca2756b207be5a",
     "grade": true,
     "grade_id": "bear_test_1",
     "locked": true,
     "points": 3,
     "solution": false
    }
   },
   "outputs": [],
   "source": [
    "# Test the Bear constructor and location method\n",
    "w1 = World(5,5)\n",
    "b1 = Bear(w1, (1,1))\n",
    "assert len(w1.biota()) == 1\n",
    "assert b1.location() == (1,1)"
   ]
  },
  {
   "cell_type": "code",
   "execution_count": 12,
   "metadata": {
    "collapsed": false,
    "deletable": false,
    "nbgrader": {
     "checksum": "f2e2e1c47bc03d19149fed7bd1ff1e1a",
     "grade": true,
     "grade_id": "bear_test_2",
     "locked": true,
     "points": 3,
     "solution": false
    },
    "scrolled": true
   },
   "outputs": [],
   "source": [
    "# Repeat the reproduction test for Bears\n",
    "w2 = World(5,5)\n",
    "Bear.breed_interval = 1\n",
    "b2 = Bear(w2, (2,2))\n",
    "b2.live()\n",
    "assert len(w2.biota()) == 2\n",
    "Bear.breed_interval = 8"
   ]
  },
  {
   "cell_type": "code",
   "execution_count": 13,
   "metadata": {
    "collapsed": false,
    "deletable": false,
    "nbgrader": {
     "checksum": "165cb52727d634cc0d04c56bc041cccd",
     "grade": true,
     "grade_id": "bear_test_3",
     "locked": true,
     "points": 3,
     "solution": false
    }
   },
   "outputs": [],
   "source": [
    "# Make fish for the bear to eat, count the number of objects after eating\n",
    "w3 = World(5,5)\n",
    "b3 = Bear(w3, (2,2))\n",
    "Fish(w3, (1,1))\n",
    "Fish(w3, (3,3))\n",
    "b3.live()\n",
    "assert len(w2.biota()) == 2"
   ]
  },
  {
   "cell_type": "code",
   "execution_count": 14,
   "metadata": {
    "collapsed": false,
    "deletable": false,
    "nbgrader": {
     "checksum": "6d43b04722b190d091a07d857ca32a5c",
     "grade": true,
     "grade_id": "bear_test_4",
     "locked": true,
     "points": 3,
     "solution": false
    }
   },
   "outputs": [],
   "source": [
    "# Setting the survival limit to 1 should cause a Bear to starve \n",
    "w4 = World(5,5)\n",
    "Bear.survive_without_food = 1\n",
    "b4 = Bear(w4, (2,2))\n",
    "b4.live()\n",
    "assert len(w4.biota()) == 0"
   ]
  },
  {
   "cell_type": "code",
   "execution_count": 15,
   "metadata": {
    "collapsed": false,
    "deletable": false,
    "nbgrader": {
     "checksum": "294276cad6fec2ec1f6c668d12161d00",
     "grade": true,
     "grade_id": "bear_test_5",
     "locked": true,
     "points": 3,
     "solution": false
    }
   },
   "outputs": [],
   "source": [
    "# Repeat the move test for bears\n",
    "w5 = World(5,5)\n",
    "b5 = Bear(w5, (2,2))\n",
    "b5.move()\n",
    "r, c = b5.location()\n",
    "assert (r,c) != (2,2)\n",
    "assert abs(r-2) <= 1 and abs(c-2) <= 1"
   ]
  },
  {
   "cell_type": "markdown",
   "metadata": {
    "collapsed": true
   },
   "source": [
    "##  <span style=\"color:teal;\">Top Level Functions</span>"
   ]
  },
  {
   "cell_type": "markdown",
   "metadata": {},
   "source": [
    "Fill in the body of the `wbf` function so it returns a new World object with the specified number of rows and columns and with the specified number of Bear and Fish objects at random locations.\n",
    "\n",
    "When we grade your project we will call `wbf` to make a World object and then use the main loop (implemented by `step_system`) to run the simulation."
   ]
  },
  {
   "cell_type": "code",
   "execution_count": 16,
   "metadata": {
    "collapsed": false,
    "deletable": false,
    "nbgrader": {
     "checksum": "6a1fa83ecd382a94da88d5ff79a91af4",
     "grade": true,
     "grade_id": "wbf",
     "locked": false,
     "points": 5,
     "solution": true
    }
   },
   "outputs": [],
   "source": [
    "def wbf(nrows, ncols, nbears, nfish):\n",
    "    '''\n",
    "    Return a new World object with the specified number of Bear and Fish objects.\n",
    "    '''\n",
    "    world = World(nrows, ncols)\n",
    "    w_list = []\n",
    "    for i in range(nrows):\n",
    "        for j in range(ncols):\n",
    "            x = (i, j)\n",
    "            w_list.append(x)\n",
    "    for bear in range(nbears):\n",
    "        random_cell = random.choice(w_list)\n",
    "        Bear(world, random_cell)\n",
    "        w_list.remove(random_cell)\n",
    "    for bear in range(nfish):\n",
    "        random_cell = random.choice(w_list)\n",
    "        Fish(world, random_cell)\n",
    "        w_list.remove(random_cell)\n",
    "    return world"
   ]
  },
  {
   "cell_type": "markdown",
   "metadata": {},
   "source": [
    "##### <span style=\"color:red\">Autograder Tests:</span>"
   ]
  },
  {
   "cell_type": "markdown",
   "metadata": {},
   "source": [
    "**Important:** &nbsp;  the code cells in this section will be used by `nbgrader` to run automated tests.  Do not move, delete or alter these cells in any way."
   ]
  },
  {
   "cell_type": "code",
   "execution_count": 17,
   "metadata": {
    "collapsed": false,
    "deletable": false,
    "nbgrader": {
     "checksum": "d46f3f598f19c9bd50c3d1999d2a080c",
     "grade": true,
     "grade_id": "wbf_test",
     "locked": true,
     "points": 3,
     "solution": false
    }
   },
   "outputs": [],
   "source": [
    "w = wbf(10,10,3,12)\n",
    "\n",
    "dct = { Bear: 0, Fish: 0 }\n",
    "for x in w.biota():\n",
    "    dct[x.__class__] += 1\n",
    "\n",
    "assert dct[Bear] == 3\n",
    "assert dct[Fish] == 12"
   ]
  },
  {
   "cell_type": "markdown",
   "metadata": {},
   "source": [
    "##### <span style=\"color:red\">Experiments</span>"
   ]
  },
  {
   "cell_type": "markdown",
   "metadata": {},
   "source": [
    "Run some experiments with the top level simulation loop and describe the results in the markdown cell below.  Some ideas of things to try:\n",
    "* The settings for the Bear class `breed_interval` and `survive_without_food` variables come from the textbook.  Will the world ever run out of bears with these settings?\n",
    "* Change the settings so `Bear.breed_interval` is larger than `Bear.survive_without_food`.  How does that change the outcome?\n",
    "* Set the `breed_interval` counter for the Fish class to a smaller number (e.g. 4) so the world has more fish.  What effect does that have?\n",
    "* Write a function that runs the simulation for a specified number of generations, or until there are no more objects left in the grid.  What combination of parameters leads to the largest number of time steps before the simulation halts."
   ]
  },
  {
   "cell_type": "code",
   "execution_count": 18,
   "metadata": {
    "collapsed": true
   },
   "outputs": [],
   "source": [
    "def step_system(world):\n",
    "    for x in world.biota():\n",
    "        x.live()\n",
    "    for x in world.biota():\n",
    "        x.move()"
   ]
  },
  {
   "cell_type": "code",
   "execution_count": 19,
   "metadata": {
    "collapsed": false
   },
   "outputs": [
    {
     "name": "stdout",
     "output_type": "stream",
     "text": [
      "array([[None, None, None, None, FISH, None, None],\n",
      "       [None, None, FISH, None, FISH, None, None],\n",
      "       [None, FISH, None, None, None, None, None],\n",
      "       [None, None, None, FISH, None, None, None],\n",
      "       [None, None, None, None, None, FISH, None],\n",
      "       [BEAR, None, None, None, None, None, None],\n",
      "       [None, None, None, None, FISH, None, None]], dtype=object)\n",
      "array([[None, None, None, None, None, FISH, FISH],\n",
      "       [None, None, FISH, FISH, None, None, None],\n",
      "       [None, None, None, None, None, None, None],\n",
      "       [None, None, FISH, None, None, None, FISH],\n",
      "       [None, None, None, None, None, None, None],\n",
      "       [None, None, None, None, None, None, None],\n",
      "       [None, BEAR, None, None, FISH, None, None]], dtype=object)\n",
      "array([[None, None, None, FISH, None, FISH, None],\n",
      "       [None, None, FISH, None, None, None, None],\n",
      "       [None, None, None, None, None, None, None],\n",
      "       [FISH, None, None, None, None, None, FISH],\n",
      "       [None, None, FISH, None, None, None, None],\n",
      "       [None, None, None, None, None, None, None],\n",
      "       [FISH, None, BEAR, None, None, None, None]], dtype=object)\n",
      "array([[None, None, FISH, None, None, None, FISH],\n",
      "       [None, None, None, FISH, None, None, None],\n",
      "       [None, None, None, None, None, None, None],\n",
      "       [None, FISH, None, None, None, None, None],\n",
      "       [None, None, None, None, None, FISH, None],\n",
      "       [None, FISH, None, None, None, None, None],\n",
      "       [None, None, BEAR, None, None, None, FISH]], dtype=object)\n",
      "array([[None, None, FISH, None, None, None, FISH],\n",
      "       [None, None, None, FISH, None, None, None],\n",
      "       [None, FISH, None, None, None, None, FISH],\n",
      "       [None, None, None, None, None, None, FISH],\n",
      "       [None, None, None, None, None, None, None],\n",
      "       [None, None, None, None, None, None, None],\n",
      "       [None, None, BEAR, None, None, FISH, None]], dtype=object)\n",
      "array([[None, FISH, None, FISH, None, FISH, None],\n",
      "       [None, None, None, None, None, FISH, None],\n",
      "       [None, None, None, None, None, None, None],\n",
      "       [None, None, FISH, None, None, FISH, None],\n",
      "       [None, None, None, None, None, None, None],\n",
      "       [None, None, None, None, None, FISH, None],\n",
      "       [None, BEAR, BEAR, None, None, None, None]], dtype=object)\n",
      "array([[None, None, None, BEAR, None, FISH, None],\n",
      "       [None, None, None, None, None, None, None],\n",
      "       [None, None, None, None, FISH, None, None],\n",
      "       [None, FISH, None, None, None, None, None],\n",
      "       [None, None, None, None, None, FISH, None],\n",
      "       [None, BEAR, None, None, None, FISH, None],\n",
      "       [FISH, None, None, FISH, None, None, None]], dtype=object)\n",
      "array([[FISH, None, BEAR, None, None, None, None],\n",
      "       [None, None, None, None, None, None, None],\n",
      "       [None, FISH, None, None, None, FISH, None],\n",
      "       [None, None, None, None, None, None, None],\n",
      "       [None, None, None, None, None, None, FISH],\n",
      "       [BEAR, None, FISH, None, None, None, FISH],\n",
      "       [None, None, FISH, None, FISH, None, None]], dtype=object)\n",
      "array([[None, BEAR, None, None, None, None, FISH],\n",
      "       [None, None, None, None, None, None, None],\n",
      "       [None, None, None, None, None, None, None],\n",
      "       [None, FISH, None, None, FISH, None, None],\n",
      "       [None, None, None, FISH, None, None, FISH],\n",
      "       [None, BEAR, FISH, FISH, None, None, None],\n",
      "       [None, None, None, None, None, None, None]], dtype=object)\n",
      "array([[FISH, BEAR, None, None, None, None, None],\n",
      "       [None, None, None, None, None, None, None],\n",
      "       [None, None, None, None, None, None, None],\n",
      "       [None, None, FISH, None, None, None, FISH],\n",
      "       [None, None, None, None, FISH, None, None],\n",
      "       [None, None, FISH, FISH, None, None, BEAR],\n",
      "       [None, None, BEAR, None, None, None, None]], dtype=object)\n"
     ]
    }
   ],
   "source": [
    "x = wbf(7, 7, 1, 10)\n",
    "for i in range(10):\n",
    "    step_system(x)\n",
    "    print(x)\n",
    "    "
   ]
  },
  {
   "cell_type": "markdown",
   "metadata": {
    "collapsed": true,
    "deletable": false,
    "nbgrader": {
     "checksum": "28be94fafc2f7601669e6fed7857555b",
     "grade": true,
     "grade_id": "experiments",
     "locked": false,
     "points": 10,
     "solution": true
    }
   },
   "source": [
    "Experiment results: Bears are pretty successful at eating the fish. Even with one bear, he seems to survive and reproduce failry easily."
   ]
  },
  {
   "cell_type": "markdown",
   "metadata": {
    "collapsed": true
   },
   "source": [
    "##  <span style=\"color:teal;\">Projects for Groups</span>"
   ]
  },
  {
   "cell_type": "markdown",
   "metadata": {},
   "source": [
    "Here are two suggestions for ways to extend the simulation.  We will consider other types of extensions -- send a request to `conery@uoregon.edu` with your proposal.\n",
    "\n",
    "Groups with three people should implement two extensions.  Groups with two people can choose either extension, or do both for extra credit.\n",
    "\n",
    "* Implement the Plant class described in Section 10.7 of the textbook, and modify the Fish class so fish eat plants and die if they don't find enough food.\n",
    "\n",
    "* Implement a GUI using `tkinter` that is similar to the Solar System GUI.  A canvas should display the world along with images for the Bear and Fish objects (you can download `Bear.gif` and `Fish.gif` from Canvas).  Use a spinbox or text entry box to specify the number of Bear and Fish objects and the number of time steps to run.  Include a Run button to start the simulation.\n"
   ]
  },
  {
   "cell_type": "code",
   "execution_count": null,
   "metadata": {
    "collapsed": true
   },
   "outputs": [],
   "source": []
  }
 ],
 "metadata": {
  "kernelspec": {
   "display_name": "Python 3",
   "language": "python",
   "name": "python3"
  },
  "language_info": {
   "codemirror_mode": {
    "name": "ipython",
    "version": 3
   },
   "file_extension": ".py",
   "mimetype": "text/x-python",
   "name": "python",
   "nbconvert_exporter": "python",
   "pygments_lexer": "ipython3",
   "version": "3.5.1"
  }
 },
 "nbformat": 4,
 "nbformat_minor": 0
}
